{
 "cells": [
  {
   "cell_type": "markdown",
   "id": "ac7c1448",
   "metadata": {},
   "source": [
    "# Practice Problems"
   ]
  },
  {
   "cell_type": "markdown",
   "id": "deb7de69",
   "metadata": {},
   "source": [
    "Here are several practice problems involving classes, using a student dataset. These problems will incorporate various aspects like primitive data types, container data types, loops, nested loops, and conditional statements.\n"
   ]
  },
  {
   "cell_type": "code",
   "execution_count": null,
   "id": "0f196e15",
   "metadata": {},
   "outputs": [],
   "source": [
    "### Practice Problem 1: Basic Class with Primitive Data Types\n"
   ]
  },
  {
   "cell_type": "markdown",
   "id": "b191fbed",
   "metadata": {},
   "source": [
    "**Problem Statement:**\n",
    "\n",
    "Create a class `Student` that represents a student with the following attributes:\n",
    "- `name` (string)\n",
    "- `age` (integer)\n",
    "- `grade` (float)\n",
    "\n",
    "Implement a method `display_info` that prints the student's details in a readable format.\n"
   ]
  },
  {
   "cell_type": "code",
   "execution_count": 1,
   "id": "6d59c381",
   "metadata": {},
   "outputs": [],
   "source": [
    "class Student:\n",
    "    def __init__(self, name, age, grade):\n",
    "        self.name = name\n",
    "        self.age = age\n",
    "        self.grade = grade\n",
    "\n",
    "    def display_info(self):\n",
    "        print(f\"Name: {self.name}, Age: {self.age}, Grade: {self.grade}\")\n"
   ]
  },
  {
   "cell_type": "code",
   "execution_count": 2,
   "id": "9c8e79eb",
   "metadata": {},
   "outputs": [
    {
     "name": "stdout",
     "output_type": "stream",
     "text": [
      "Name: Alice, Age: 20, Grade: 85.5\n"
     ]
    }
   ],
   "source": [
    "# Example usage\n",
    "student1 = Student(\"Alice\", 20, 85.5)\n",
    "student1.display_info()"
   ]
  },
  {
   "cell_type": "code",
   "execution_count": 3,
   "id": "ab3d77f5",
   "metadata": {},
   "outputs": [],
   "source": [
    "### Practice Problem 2: Class with Container Data Types and Methods\n"
   ]
  },
  {
   "cell_type": "markdown",
   "id": "f74897d8",
   "metadata": {},
   "source": [
    "Extend the `Student` class to include a list of subjects and their corresponding marks. Implement methods to add a subject, update marks, and calculate the average marks.\n"
   ]
  },
  {
   "cell_type": "code",
   "execution_count": 4,
   "id": "74eda822",
   "metadata": {},
   "outputs": [],
   "source": [
    "class Student:\n",
    "    def __init__(self, name, age):\n",
    "        self.name = name\n",
    "        self.age = age\n",
    "        self.subjects = {}\n",
    "\n",
    "    def add_subject(self, subject, marks):\n",
    "        self.subjects[subject] = marks\n",
    "\n",
    "    def update_marks(self, subject, marks):\n",
    "        if subject in self.subjects:\n",
    "            self.subjects[subject] = marks\n",
    "        else:\n",
    "            print(f\"Subject {subject} not found!\")\n",
    "\n",
    "    def calculate_average(self):\n",
    "        if self.subjects:\n",
    "            total_marks = sum(self.subjects.values())\n",
    "            average_marks = total_marks / len(self.subjects)\n",
    "            return average_marks\n",
    "        return 0\n",
    "\n",
    "    def display_info(self):\n",
    "        print(f\"Name: {self.name}, Age: {self.age}, Average Marks: {self.calculate_average()}\")\n"
   ]
  },
  {
   "cell_type": "code",
   "execution_count": 5,
   "id": "3c4fed16",
   "metadata": {},
   "outputs": [
    {
     "name": "stdout",
     "output_type": "stream",
     "text": [
      "Name: Bob, Age: 21, Average Marks: 90.0\n"
     ]
    }
   ],
   "source": [
    "\n",
    "# Example usage\n",
    "student2 = Student(\"Bob\", 21)\n",
    "student2.add_subject(\"Math\", 90)\n",
    "student2.add_subject(\"Science\", 85)\n",
    "student2.update_marks(\"Math\", 95)\n",
    "student2.display_info()"
   ]
  },
  {
   "cell_type": "code",
   "execution_count": 6,
   "id": "50fd3eb2",
   "metadata": {},
   "outputs": [],
   "source": [
    "### Practice Problem 3: Class with Nested Loops and Conditional Statements\n"
   ]
  },
  {
   "cell_type": "markdown",
   "id": "205e59aa",
   "metadata": {},
   "source": [
    "Create a class `Classroom` that contains a list of `Student` objects. Implement methods to add students, find the top student based on average marks, and print the details of all students who passed (average marks >= 50).\n"
   ]
  },
  {
   "cell_type": "code",
   "execution_count": 8,
   "id": "df72491a",
   "metadata": {},
   "outputs": [],
   "source": [
    "class Student:\n",
    "    def __init__(self, name, age):\n",
    "        self.name = name\n",
    "        self.age = age\n",
    "        self.subjects = {}\n",
    "\n",
    "    def add_subject(self, subject, marks):\n",
    "        self.subjects[subject] = marks\n",
    "\n",
    "    def calculate_average(self):\n",
    "        if self.subjects:\n",
    "            total_marks = sum(self.subjects.values())\n",
    "            average_marks = total_marks / len(self.subjects)\n",
    "            return average_marks\n",
    "        return 0\n",
    "\n",
    "    def display_info(self):\n",
    "        print(f\"Name: {self.name}, Age: {self.age}, Average Marks: {self.calculate_average()}\")\n"
   ]
  },
  {
   "cell_type": "code",
   "execution_count": 9,
   "id": "47fa4d36",
   "metadata": {},
   "outputs": [],
   "source": [
    "class Classroom:\n",
    "    def __init__(self):\n",
    "        self.students = []\n",
    "\n",
    "    def add_student(self, student):\n",
    "        self.students.append(student)\n",
    "\n",
    "    def find_top_student(self):\n",
    "        if not self.students:\n",
    "            return None\n",
    "        top_student = max(self.students, key=lambda student: student.calculate_average())\n",
    "        return top_student\n",
    "\n",
    "    def print_passing_students(self):\n",
    "        for student in self.students:\n",
    "            if student.calculate_average() >= 50:\n",
    "                student.display_info()"
   ]
  },
  {
   "cell_type": "code",
   "execution_count": 10,
   "id": "45a7f970",
   "metadata": {},
   "outputs": [],
   "source": [
    "# Example usage\n",
    "student1 = Student(\"Alice\", 20)\n",
    "student1.add_subject(\"Math\", 90)\n",
    "student1.add_subject(\"Science\", 85)"
   ]
  },
  {
   "cell_type": "code",
   "execution_count": 11,
   "id": "fa384657",
   "metadata": {},
   "outputs": [],
   "source": [
    "student2 = Student(\"Bob\", 21)\n",
    "student2.add_subject(\"Math\", 45)\n",
    "student2.add_subject(\"Science\", 55)"
   ]
  },
  {
   "cell_type": "code",
   "execution_count": 12,
   "id": "e83bff1c",
   "metadata": {},
   "outputs": [],
   "source": [
    "classroom = Classroom()\n",
    "classroom.add_student(student1)\n",
    "classroom.add_student(student2)"
   ]
  },
  {
   "cell_type": "code",
   "execution_count": 13,
   "id": "e6add027",
   "metadata": {},
   "outputs": [
    {
     "name": "stdout",
     "output_type": "stream",
     "text": [
      "Top Student:\n",
      "Name: Alice, Age: 20, Average Marks: 87.5\n",
      "\n",
      "Passing Students:\n",
      "Name: Alice, Age: 20, Average Marks: 87.5\n",
      "Name: Bob, Age: 21, Average Marks: 50.0\n"
     ]
    }
   ],
   "source": [
    "top_student = classroom.find_top_student()\n",
    "if top_student:\n",
    "    print(\"Top Student:\")\n",
    "    top_student.display_info()\n",
    "\n",
    "print(\"\\nPassing Students:\")\n",
    "classroom.print_passing_students()"
   ]
  },
  {
   "cell_type": "code",
   "execution_count": 14,
   "id": "bd9136ab",
   "metadata": {},
   "outputs": [],
   "source": [
    "### Practice Problem 4: Class with Nested Conditions\n"
   ]
  },
  {
   "cell_type": "markdown",
   "id": "d2ef2ef8",
   "metadata": {},
   "source": [
    "**Problem Statement:**\n",
    "\n",
    "Create a class `School` that contains a dictionary of classrooms, where the key is the classroom name and the value is a `Classroom` object. Implement methods to add a classroom, get a list of all students in a specific classroom, and check if a specific student is present in any classroom.\n"
   ]
  },
  {
   "cell_type": "code",
   "execution_count": 15,
   "id": "32ebd9b2",
   "metadata": {},
   "outputs": [],
   "source": [
    "class School:\n",
    "    def __init__(self):\n",
    "        self.classrooms = {}\n",
    "\n",
    "    def add_classroom(self, name, classroom):\n",
    "        self.classrooms[name] = classroom\n",
    "\n",
    "    def get_students_in_classroom(self, name):\n",
    "        if name in self.classrooms:\n",
    "            classroom = self.classrooms[name]\n",
    "            return [student.name for student in classroom.students]\n",
    "        return []\n",
    "\n",
    "    def is_student_present(self, student_name):\n",
    "        for classroom in self.classrooms.values():\n",
    "            for student in classroom.students:\n",
    "                if student.name == student_name:\n",
    "                    return True\n",
    "        return False\n"
   ]
  },
  {
   "cell_type": "code",
   "execution_count": 16,
   "id": "7ca8b38a",
   "metadata": {},
   "outputs": [],
   "source": [
    "\n",
    "# Example usage\n",
    "student1 = Student(\"Alice\", 20)\n",
    "student1.add_subject(\"Math\", 90)\n",
    "student1.add_subject(\"Science\", 85)"
   ]
  },
  {
   "cell_type": "code",
   "execution_count": 17,
   "id": "91f8a311",
   "metadata": {},
   "outputs": [],
   "source": [
    "student2 = Student(\"Bob\", 21)\n",
    "student2.add_subject(\"Math\", 45)\n",
    "student2.add_subject(\"Science\", 55)"
   ]
  },
  {
   "cell_type": "code",
   "execution_count": 18,
   "id": "2cf4a159",
   "metadata": {},
   "outputs": [],
   "source": [
    "classroom1 = Classroom()\n",
    "classroom1.add_student(student1)\n"
   ]
  },
  {
   "cell_type": "code",
   "execution_count": 19,
   "id": "260229e1",
   "metadata": {},
   "outputs": [],
   "source": [
    "classroom2 = Classroom()\n",
    "classroom2.add_student(student2)"
   ]
  },
  {
   "cell_type": "code",
   "execution_count": 20,
   "id": "5f126dc8",
   "metadata": {},
   "outputs": [],
   "source": [
    "school = School()\n",
    "school.add_classroom(\"Class 1\", classroom1)\n",
    "school.add_classroom(\"Class 2\", classroom2)"
   ]
  },
  {
   "cell_type": "code",
   "execution_count": 21,
   "id": "7f2d8e04",
   "metadata": {},
   "outputs": [
    {
     "name": "stdout",
     "output_type": "stream",
     "text": [
      "Students in Class 1: ['Alice']\n",
      "Is Alice present? True\n",
      "Is Charlie present? False\n"
     ]
    }
   ],
   "source": [
    "print(\"Students in Class 1:\", school.get_students_in_classroom(\"Class 1\"))\n",
    "print(\"Is Alice present?\", school.is_student_present(\"Alice\"))\n",
    "print(\"Is Charlie present?\", school.is_student_present(\"Charlie\"))"
   ]
  },
  {
   "cell_type": "code",
   "execution_count": null,
   "id": "3a2a7704",
   "metadata": {},
   "outputs": [],
   "source": []
  }
 ],
 "metadata": {
  "kernelspec": {
   "display_name": "Python 3 (ipykernel)",
   "language": "python",
   "name": "python3"
  },
  "language_info": {
   "codemirror_mode": {
    "name": "ipython",
    "version": 3
   },
   "file_extension": ".py",
   "mimetype": "text/x-python",
   "name": "python",
   "nbconvert_exporter": "python",
   "pygments_lexer": "ipython3",
   "version": "3.10.11"
  }
 },
 "nbformat": 4,
 "nbformat_minor": 5
}
