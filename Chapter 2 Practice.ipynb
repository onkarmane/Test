{
 "cells": [
  {
   "cell_type": "markdown",
   "id": "be7a1438",
   "metadata": {},
   "source": [
    "# Basic Data Types in Python with Exercises"
   ]
  },
  {
   "cell_type": "code",
   "execution_count": 1,
   "id": "2b7dad09",
   "metadata": {},
   "outputs": [],
   "source": [
    "#### Dataset\n",
    "\n",
    "students = [\n",
    "    {\"Student ID\": \"S001\", \"Name\": \"Amit Kumar\", \"Age\": 21, \"Grade\": \"D\", \"GPA\": 2.50, \"Graduated\": False, \"Enrollment Date\": \"2021-10-07\", \"Email\": \"amit@example.com\", \"Phone Number\": \"254803\", \"Country\": \"India\"},\n",
    "    {\"Student ID\": \"S002\", \"Name\": \"Rajesh Singh\", \"Age\": 20, \"Grade\": \"B\", \"GPA\": 3.20, \"Graduated\": True, \"Enrollment Date\": \"2022-10-25\", \"Email\": \"rajesh@example.com\", \"Phone Number\": \"257067\", \"Country\": \"India\"},\n",
    "    {\"Student ID\": \"S003\", \"Name\": \"Sunil Joshi\", \"Age\": 23, \"Grade\": \"D\", \"GPA\": 3.16, \"Graduated\": True, \"Enrollment Date\": \"2021-08-03\", \"Email\": \"sunil@example.com\", \"Phone Number\": \"251665\", \"Country\": \"India\"},\n",
    "    {\"Student ID\": \"S004\", \"Name\": \"Bob Brown\", \"Age\": 23, \"Grade\": \"C\", \"GPA\": 3.12, \"Graduated\": True, \"Enrollment Date\": \"2020-12-08\", \"Email\": \"bob@example.com\", \"Phone Number\": \"252291\", \"Country\": \"US\"}\n",
    "]\n"
   ]
  },
  {
   "cell_type": "markdown",
   "id": "4a0f7dbb",
   "metadata": {},
   "source": [
    "### 1. Integer\n",
    "\n",
    "**Integers** are whole numbers without a fractional component."
   ]
  },
  {
   "cell_type": "markdown",
   "id": "123008fe",
   "metadata": {},
   "source": [
    "**Example**: The ages of students.\n"
   ]
  },
  {
   "cell_type": "code",
   "execution_count": 2,
   "id": "f5aa36ed",
   "metadata": {},
   "outputs": [
    {
     "name": "stdout",
     "output_type": "stream",
     "text": [
      "21\n",
      "20\n"
     ]
    }
   ],
   "source": [
    "age_amit = 21\n",
    "age_rajesh = 20\n",
    "print(age_amit)  # Output: 21\n",
    "print(age_rajesh)  # Output: 20"
   ]
  },
  {
   "cell_type": "markdown",
   "id": "c58cc9e7",
   "metadata": {},
   "source": [
    "**Exercise**: Print the ages of Sunil and Bob.\n"
   ]
  },
  {
   "cell_type": "code",
   "execution_count": 3,
   "id": "423c4d83",
   "metadata": {},
   "outputs": [
    {
     "name": "stdout",
     "output_type": "stream",
     "text": [
      "23\n",
      "23\n"
     ]
    }
   ],
   "source": [
    "age_sunil = 23\n",
    "age_bob = 23\n",
    "print(age_sunil)\n",
    "print(age_bob)"
   ]
  },
  {
   "cell_type": "markdown",
   "id": "3803779a",
   "metadata": {},
   "source": [
    "### 2. Float\n",
    "\n",
    "**Floats** are numbers with a decimal point.\n",
    "**Example**: The GPAs of students.\n"
   ]
  },
  {
   "cell_type": "code",
   "execution_count": 4,
   "id": "50be3ba5",
   "metadata": {},
   "outputs": [
    {
     "name": "stdout",
     "output_type": "stream",
     "text": [
      "2.5\n",
      "3.2\n"
     ]
    }
   ],
   "source": [
    "gpa_amit = 2.50\n",
    "gpa_rajesh = 3.20\n",
    "print(gpa_amit)  # Output: 2.50\n",
    "print(gpa_rajesh)  # Output: 3.20"
   ]
  },
  {
   "cell_type": "markdown",
   "id": "99835c4e",
   "metadata": {},
   "source": [
    "**Exercise**: Print the GPAs of Sunil and Bob.\n"
   ]
  },
  {
   "cell_type": "code",
   "execution_count": 5,
   "id": "45f241a8",
   "metadata": {},
   "outputs": [
    {
     "name": "stdout",
     "output_type": "stream",
     "text": [
      "3.16\n",
      "3.12\n"
     ]
    }
   ],
   "source": [
    "gpa_sunil = 3.16\n",
    "gpa_bob = 3.12\n",
    "print(gpa_sunil)\n",
    "print(gpa_bob)"
   ]
  },
  {
   "cell_type": "markdown",
   "id": "95998981",
   "metadata": {},
   "source": [
    "### 3. Boolean\n",
    "\n",
    "**Booleans** represent True or False values.\n",
    "\n",
    "**Example**: Whether students have graduated."
   ]
  },
  {
   "cell_type": "code",
   "execution_count": 6,
   "id": "59d623f2",
   "metadata": {},
   "outputs": [
    {
     "name": "stdout",
     "output_type": "stream",
     "text": [
      "False\n",
      "True\n"
     ]
    }
   ],
   "source": [
    "graduated_amit = False\n",
    "graduated_rajesh = True\n",
    "print(graduated_amit)  # Output: False\n",
    "print(graduated_rajesh)  # Output: True"
   ]
  },
  {
   "cell_type": "markdown",
   "id": "065f11f2",
   "metadata": {},
   "source": [
    "**Exercise**: Print whether Sunil and Bob have graduated.\n"
   ]
  },
  {
   "cell_type": "code",
   "execution_count": 7,
   "id": "9656088e",
   "metadata": {},
   "outputs": [
    {
     "name": "stdout",
     "output_type": "stream",
     "text": [
      "True\n",
      "True\n"
     ]
    }
   ],
   "source": [
    "graduated_sunil = True\n",
    "graduated_bob = True\n",
    "print(graduated_sunil)\n",
    "print(graduated_bob)"
   ]
  },
  {
   "cell_type": "markdown",
   "id": "e366ef98",
   "metadata": {},
   "source": [
    "### 4. None\n",
    "\n",
    "**None** represents the absence of a value.\n",
    "\n",
    "**Example**: A placeholder for a student's middle name that is currently unknown."
   ]
  },
  {
   "cell_type": "code",
   "execution_count": 8,
   "id": "32bb16c4",
   "metadata": {},
   "outputs": [
    {
     "name": "stdout",
     "output_type": "stream",
     "text": [
      "None\n"
     ]
    }
   ],
   "source": [
    "middle_name_amit = None\n",
    "print(middle_name_amit)  # Output: None"
   ]
  },
  {
   "cell_type": "markdown",
   "id": "06b47a1d",
   "metadata": {},
   "source": [
    "**Exercise**: Create a None placeholder for a variable called `middle_name_rajesh` and print it.\n"
   ]
  },
  {
   "cell_type": "code",
   "execution_count": 9,
   "id": "2fdd5689",
   "metadata": {},
   "outputs": [
    {
     "name": "stdout",
     "output_type": "stream",
     "text": [
      "None\n"
     ]
    }
   ],
   "source": [
    "middle_name_rajesh = None\n",
    "print(middle_name_rajesh)"
   ]
  },
  {
   "cell_type": "markdown",
   "id": "d6292928",
   "metadata": {},
   "source": [
    "### 5. String and Its Methods\n",
    "\n",
    "**Strings** are sequences of characters used to represent text.\n",
    "\n",
    "**Example**: Names and emails of students."
   ]
  },
  {
   "cell_type": "code",
   "execution_count": 10,
   "id": "420e6c13",
   "metadata": {},
   "outputs": [
    {
     "name": "stdout",
     "output_type": "stream",
     "text": [
      "Amit Kumar\n",
      "amit@example.com\n"
     ]
    }
   ],
   "source": [
    "name_amit = \"Amit Kumar\"\n",
    "email_amit = \"amit@example.com\"\n",
    "print(name_amit)  # Output: Amit Kumar\n",
    "print(email_amit)  # Output: amit@example.com"
   ]
  },
  {
   "cell_type": "markdown",
   "id": "3107984a",
   "metadata": {},
   "source": [
    "**String Methods**:\n",
    "- **`upper()`**: Converts a string to uppercase.\n",
    "- **`lower()`**: Converts a string to lowercase.\n",
    "- **`title()`**: Converts the first character of each word to uppercase.\n",
    "- **`replace(old, new)`**: Replaces all occurrences of a substring.\n"
   ]
  },
  {
   "cell_type": "markdown",
   "id": "90f559c6",
   "metadata": {},
   "source": [
    "**Example**: Using string methods.\n"
   ]
  },
  {
   "cell_type": "code",
   "execution_count": 11,
   "id": "3982b625",
   "metadata": {},
   "outputs": [
    {
     "name": "stdout",
     "output_type": "stream",
     "text": [
      "AMIT KUMAR\n",
      "amit kumar\n",
      "Amit Kumar\n",
      "amit@test.com\n"
     ]
    }
   ],
   "source": [
    "print(name_amit.upper())  # Output: AMIT KUMAR\n",
    "print(name_amit.lower())  # Output: amit kumar\n",
    "print(name_amit.title())  # Output: Amit Kumar\n",
    "print(email_amit.replace(\"example\", \"test\"))  # Output: amit@test.com"
   ]
  },
  {
   "cell_type": "markdown",
   "id": "c3faf76a",
   "metadata": {},
   "source": [
    "**Exercise**: Use string methods on Rajesh's name and email.\n"
   ]
  },
  {
   "cell_type": "code",
   "execution_count": 12,
   "id": "214bce7d",
   "metadata": {},
   "outputs": [
    {
     "name": "stdout",
     "output_type": "stream",
     "text": [
      "RAJESH SINGH\n",
      "rajesh singh\n",
      "Rajesh Singh\n",
      "rajesh@test.com\n"
     ]
    }
   ],
   "source": [
    "name_rajesh = \"Rajesh Singh\"\n",
    "email_rajesh = \"rajesh@example.com\"\n",
    "print(name_rajesh.upper())\n",
    "print(name_rajesh.lower())\n",
    "print(name_rajesh.title())\n",
    "print(email_rajesh.replace(\"example\", \"test\"))\n"
   ]
  },
  {
   "cell_type": "markdown",
   "id": "5930b082",
   "metadata": {},
   "source": [
    "### 6. Type Casting\n",
    "\n",
    "**Type casting** converts one data type to another.\n",
    "\n",
    "**Example**: Convert age to string and GPA to integer."
   ]
  },
  {
   "cell_type": "code",
   "execution_count": 13,
   "id": "4893f823",
   "metadata": {},
   "outputs": [
    {
     "name": "stdout",
     "output_type": "stream",
     "text": [
      "21\n",
      "2\n"
     ]
    }
   ],
   "source": [
    "age_amit = 21\n",
    "gpa_amit = 2.50\n",
    "print(str(age_amit))  # Output: '21'\n",
    "print(int(gpa_amit))  # Output: 2"
   ]
  },
  {
   "cell_type": "markdown",
   "id": "aac7c297",
   "metadata": {},
   "source": [
    "**Exercise**: Convert Sunil's age to string and GPA to integer, then print them.\n"
   ]
  },
  {
   "cell_type": "code",
   "execution_count": 14,
   "id": "faeb25d4",
   "metadata": {},
   "outputs": [
    {
     "name": "stdout",
     "output_type": "stream",
     "text": [
      "23\n",
      "3\n"
     ]
    }
   ],
   "source": [
    "age_sunil = 23\n",
    "gpa_sunil = 3.16\n",
    "print(str(age_sunil))\n",
    "print(int(gpa_sunil))"
   ]
  },
  {
   "cell_type": "markdown",
   "id": "2b0d7c32",
   "metadata": {},
   "source": [
    "### Summary\n",
    "\n",
    "This tutorial covered basic data types in Python and their usage with the student dataset. The exercises provided will help you practice:\n",
    "- **Integers**\n",
    "- **Floats**\n",
    "- **Booleans**\n",
    "- **None**\n",
    "- **Strings and String Methods**\n",
    "- **Type Casting**\n",
    "\n",
    "By understanding these concepts, you'll be able to handle various types of data and perform operations on them effectively."
   ]
  },
  {
   "cell_type": "code",
   "execution_count": null,
   "id": "eb102606",
   "metadata": {},
   "outputs": [],
   "source": []
  },
  {
   "cell_type": "code",
   "execution_count": null,
   "id": "0a399ab3",
   "metadata": {},
   "outputs": [],
   "source": []
  },
  {
   "cell_type": "code",
   "execution_count": null,
   "id": "cc6bf5fe",
   "metadata": {},
   "outputs": [],
   "source": []
  }
 ],
 "metadata": {
  "kernelspec": {
   "display_name": "Python 3 (ipykernel)",
   "language": "python",
   "name": "python3"
  },
  "language_info": {
   "codemirror_mode": {
    "name": "ipython",
    "version": 3
   },
   "file_extension": ".py",
   "mimetype": "text/x-python",
   "name": "python",
   "nbconvert_exporter": "python",
   "pygments_lexer": "ipython3",
   "version": "3.10.11"
  }
 },
 "nbformat": 4,
 "nbformat_minor": 5
}
