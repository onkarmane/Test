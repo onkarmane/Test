{
 "cells": [
  {
   "cell_type": "markdown",
   "id": "06508f75",
   "metadata": {},
   "source": [
    "# Practice Problems for Conditionals and Loops\n"
   ]
  },
  {
   "cell_type": "markdown",
   "id": "19e27420",
   "metadata": {},
   "source": [
    "**Introduction**: Conditionals allow you to execute code based on certain conditions.\n",
    "**Example**: Check if a student's GPA is greater than 3.0.\n"
   ]
  },
  {
   "cell_type": "code",
   "execution_count": 1,
   "id": "514adada",
   "metadata": {},
   "outputs": [
    {
     "name": "stdout",
     "output_type": "stream",
     "text": [
      "The GPA is above 3.0.\n"
     ]
    }
   ],
   "source": [
    "gpa = 3.20\n",
    "if gpa > 3.0:\n",
    "    print(\"The GPA is above 3.0.\")\n",
    "else:\n",
    "    print(\"The GPA is 3.0 or below.\")"
   ]
  },
  {
   "cell_type": "markdown",
   "id": "7cd87c22",
   "metadata": {},
   "source": [
    "**Problem 1**: Check if a student has graduated and print a corresponding message.\n"
   ]
  },
  {
   "cell_type": "code",
   "execution_count": 2,
   "id": "30566f9a",
   "metadata": {},
   "outputs": [
    {
     "name": "stdout",
     "output_type": "stream",
     "text": [
      "The student has graduated.\n"
     ]
    }
   ],
   "source": [
    "graduated = True\n",
    "if graduated:\n",
    "    print(\"The student has graduated.\")\n",
    "else:\n",
    "    print(\"The student has not graduated.\")"
   ]
  },
  {
   "cell_type": "markdown",
   "id": "347fcb81",
   "metadata": {},
   "source": [
    "**Problem 2**: Check if a student's age is 21 or older.\n"
   ]
  },
  {
   "cell_type": "code",
   "execution_count": 3,
   "id": "82db5bfd",
   "metadata": {},
   "outputs": [
    {
     "name": "stdout",
     "output_type": "stream",
     "text": [
      "The student is younger than 21.\n"
     ]
    }
   ],
   "source": [
    "age = 20\n",
    "if age >= 21:\n",
    "    print(\"The student is 21 or older.\")\n",
    "else:\n",
    "    print(\"The student is younger than 21.\")"
   ]
  },
  {
   "cell_type": "markdown",
   "id": "38870d97",
   "metadata": {},
   "source": [
    "**Problem 3**: Check if a student's country is \"India\".\n"
   ]
  },
  {
   "cell_type": "code",
   "execution_count": 4,
   "id": "3c2bd366",
   "metadata": {},
   "outputs": [
    {
     "name": "stdout",
     "output_type": "stream",
     "text": [
      "The student is not from India.\n"
     ]
    }
   ],
   "source": [
    "country = \"US\"\n",
    "if country == \"India\":\n",
    "    print(\"The student is from India.\")\n",
    "else:\n",
    "    print(\"The student is not from India.\")"
   ]
  },
  {
   "cell_type": "markdown",
   "id": "c5a71557",
   "metadata": {},
   "source": [
    "**Problem 4**: Check if a student's name contains the letter 'A'.\n"
   ]
  },
  {
   "cell_type": "code",
   "execution_count": 5,
   "id": "29ec7468",
   "metadata": {},
   "outputs": [
    {
     "name": "stdout",
     "output_type": "stream",
     "text": [
      "The student's name contains the letter 'A'.\n"
     ]
    }
   ],
   "source": [
    "name = \"Amit Kumar\"\n",
    "if 'A' in name:\n",
    "    print(\"The student's name contains the letter 'A'.\")\n",
    "else:\n",
    "    print(\"The student's name does not contain the letter 'A'.\")"
   ]
  },
  {
   "cell_type": "markdown",
   "id": "158eeade",
   "metadata": {},
   "source": [
    "**Problem 5**: Check if the student's GPA is between 3.0 and 4.0 (inclusive).\n"
   ]
  },
  {
   "cell_type": "code",
   "execution_count": 6,
   "id": "f619907b",
   "metadata": {},
   "outputs": [
    {
     "name": "stdout",
     "output_type": "stream",
     "text": [
      "The GPA is not between 3.0 and 4.0.\n"
     ]
    }
   ],
   "source": [
    "gpa = 2.50\n",
    "if 3.0 <= gpa <= 4.0:\n",
    "    print(\"The GPA is between 3.0 and 4.0.\")\n",
    "else:\n",
    "    print(\"The GPA is not between 3.0 and 4.0.\")"
   ]
  },
  {
   "cell_type": "markdown",
   "id": "4c877ad0",
   "metadata": {},
   "source": [
    "#### 2. Loops\n",
    "\n",
    "**Introduction**: Loops allow you to execute a block of code multiple times.\n",
    "\n",
    "**Example**: Print each student's name in a list."
   ]
  },
  {
   "cell_type": "code",
   "execution_count": 7,
   "id": "efe3bf57",
   "metadata": {},
   "outputs": [
    {
     "name": "stdout",
     "output_type": "stream",
     "text": [
      "Amit Kumar\n",
      "Rajesh Singh\n",
      "Sunil Joshi\n",
      "Bob Brown\n"
     ]
    }
   ],
   "source": [
    "student_names = [\"Amit Kumar\", \"Rajesh Singh\", \"Sunil Joshi\", \"Bob Brown\"]\n",
    "for name in student_names:\n",
    "    print(name)"
   ]
  },
  {
   "cell_type": "markdown",
   "id": "9c02ce2b",
   "metadata": {},
   "source": [
    "**Problem 1**: Print each student's GPA in a list.\n"
   ]
  },
  {
   "cell_type": "code",
   "execution_count": 8,
   "id": "b87b2d35",
   "metadata": {},
   "outputs": [
    {
     "name": "stdout",
     "output_type": "stream",
     "text": [
      "2.5\n",
      "3.2\n",
      "3.16\n",
      "3.12\n"
     ]
    }
   ],
   "source": [
    "gpas = [2.50, 3.20, 3.16, 3.12]\n",
    "for gpa in gpas:\n",
    "    print(gpa)"
   ]
  },
  {
   "cell_type": "markdown",
   "id": "baff8278",
   "metadata": {},
   "source": [
    "**Problem 2**: Print each key-value pair in a student's dictionary.\n"
   ]
  },
  {
   "cell_type": "code",
   "execution_count": 9,
   "id": "461216e3",
   "metadata": {},
   "outputs": [
    {
     "name": "stdout",
     "output_type": "stream",
     "text": [
      "Student ID : S001\n",
      "Name : Amit Kumar\n",
      "Age : 21\n",
      "Grade : D\n",
      "GPA : 2.5\n",
      "Graduated : False\n",
      "Enrollment Date : 2021-10-07\n",
      "Email : amit@example.com\n",
      "Phone Number : 254803\n",
      "Country : India\n"
     ]
    }
   ],
   "source": [
    "student_dict = {\n",
    "    \"Student ID\": \"S001\",\n",
    "    \"Name\": \"Amit Kumar\",\n",
    "    \"Age\": 21,\n",
    "    \"Grade\": \"D\",\n",
    "    \"GPA\": 2.50,\n",
    "    \"Graduated\": False,\n",
    "    \"Enrollment Date\": \"2021-10-07\",\n",
    "    \"Email\": \"amit@example.com\",\n",
    "    \"Phone Number\": \"254803\",\n",
    "    \"Country\": \"India\"\n",
    "}\n",
    "for key, value in student_dict.items():\n",
    "    print(key, \":\", value)"
   ]
  },
  {
   "cell_type": "markdown",
   "id": "ed6f613e",
   "metadata": {},
   "source": [
    "**Problem 3**: Print the index and value of each item in a list of grades.\n"
   ]
  },
  {
   "cell_type": "code",
   "execution_count": 10,
   "id": "36efd52a",
   "metadata": {},
   "outputs": [
    {
     "name": "stdout",
     "output_type": "stream",
     "text": [
      "Index: 0 Grade: D\n",
      "Index: 1 Grade: B\n",
      "Index: 2 Grade: D\n",
      "Index: 3 Grade: C\n"
     ]
    }
   ],
   "source": [
    "grades = [\"D\", \"B\", \"D\", \"C\"]\n",
    "for index, grade in enumerate(grades):\n",
    "    print(\"Index:\", index, \"Grade:\", grade)"
   ]
  },
  {
   "cell_type": "markdown",
   "id": "2fe071fa",
   "metadata": {},
   "source": [
    "**Problem 4**: Print each character in a student's email address.\n"
   ]
  },
  {
   "cell_type": "code",
   "execution_count": 11,
   "id": "d6f88530",
   "metadata": {},
   "outputs": [
    {
     "name": "stdout",
     "output_type": "stream",
     "text": [
      "a\n",
      "m\n",
      "i\n",
      "t\n",
      "@\n",
      "e\n",
      "x\n",
      "a\n",
      "m\n",
      "p\n",
      "l\n",
      "e\n",
      ".\n",
      "c\n",
      "o\n",
      "m\n"
     ]
    }
   ],
   "source": [
    "email = \"amit@example.com\"\n",
    "for char in email:\n",
    "    print(char)"
   ]
  },
  {
   "cell_type": "markdown",
   "id": "7a2434b1",
   "metadata": {},
   "source": [
    "**Problem 5**: Sum the ages of all students in a list and print the total.\n"
   ]
  },
  {
   "cell_type": "code",
   "execution_count": 12,
   "id": "d8896c4e",
   "metadata": {},
   "outputs": [
    {
     "name": "stdout",
     "output_type": "stream",
     "text": [
      "Total age: 87\n"
     ]
    }
   ],
   "source": [
    "ages = [21, 20, 23, 23]\n",
    "total_age = 0\n",
    "for age in ages:\n",
    "    total_age += age\n",
    "print(\"Total age:\", total_age)"
   ]
  },
  {
   "cell_type": "markdown",
   "id": "9245c4b1",
   "metadata": {},
   "source": [
    "**Problem 6**: Print all students' names until you encounter a specific name.\n"
   ]
  },
  {
   "cell_type": "code",
   "execution_count": 13,
   "id": "dee5d720",
   "metadata": {},
   "outputs": [
    {
     "name": "stdout",
     "output_type": "stream",
     "text": [
      "Amit Kumar\n",
      "Rajesh Singh\n"
     ]
    }
   ],
   "source": [
    "student_names = [\"Amit Kumar\", \"Rajesh Singh\", \"Sunil Joshi\", \"Bob Brown\"]\n",
    "for name in student_names:\n",
    "    if name == \"Sunil Joshi\":\n",
    "        break\n",
    "    print(name)"
   ]
  },
  {
   "cell_type": "markdown",
   "id": "738cb3cc",
   "metadata": {},
   "source": [
    "**Problem 7**: Print the square of each student's age.\n"
   ]
  },
  {
   "cell_type": "code",
   "execution_count": 14,
   "id": "97336f2d",
   "metadata": {},
   "outputs": [
    {
     "name": "stdout",
     "output_type": "stream",
     "text": [
      "Square of age: 441\n",
      "Square of age: 400\n",
      "Square of age: 529\n",
      "Square of age: 529\n"
     ]
    }
   ],
   "source": [
    "ages = [21, 20, 23, 23]\n",
    "for age in ages:\n",
    "    print(\"Square of age:\", age ** 2)"
   ]
  },
  {
   "cell_type": "markdown",
   "id": "2c7ff64b",
   "metadata": {},
   "source": [
    "**Problem 8**: Print each student's name if they are from \"India\".\n"
   ]
  },
  {
   "cell_type": "code",
   "execution_count": 15,
   "id": "73d0eb7f",
   "metadata": {},
   "outputs": [
    {
     "name": "stdout",
     "output_type": "stream",
     "text": [
      "Amit Kumar\n",
      "Rajesh Singh\n",
      "Sunil Joshi\n"
     ]
    }
   ],
   "source": [
    "students = [\n",
    "    {\"Name\": \"Amit Kumar\", \"Country\": \"India\"},\n",
    "    {\"Name\": \"Rajesh Singh\", \"Country\": \"India\"},\n",
    "    {\"Name\": \"Sunil Joshi\", \"Country\": \"India\"},\n",
    "    {\"Name\": \"Bob Brown\", \"Country\": \"US\"}\n",
    "]\n",
    "for student in students:\n",
    "    if student[\"Country\"] == \"India\":\n",
    "        print(student[\"Name\"])"
   ]
  },
  {
   "cell_type": "code",
   "execution_count": null,
   "id": "6d4c75ce",
   "metadata": {},
   "outputs": [],
   "source": []
  },
  {
   "cell_type": "code",
   "execution_count": null,
   "id": "15275f95",
   "metadata": {},
   "outputs": [],
   "source": []
  }
 ],
 "metadata": {
  "kernelspec": {
   "display_name": "Python 3 (ipykernel)",
   "language": "python",
   "name": "python3"
  },
  "language_info": {
   "codemirror_mode": {
    "name": "ipython",
    "version": 3
   },
   "file_extension": ".py",
   "mimetype": "text/x-python",
   "name": "python",
   "nbconvert_exporter": "python",
   "pygments_lexer": "ipython3",
   "version": "3.10.11"
  }
 },
 "nbformat": 4,
 "nbformat_minor": 5
}
