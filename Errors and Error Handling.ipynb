{
 "cells": [
  {
   "cell_type": "markdown",
   "id": "a8440082",
   "metadata": {},
   "source": [
    "#  Python for Machine Learning Series\n",
    "\n",
    "This tutorial marks the beginning of a series focused on introducing programming concepts through practical, code-driven lessons using the Python language. Emphasizing a hands-on approach, learners are encouraged to actively engage with the material by executing code and experimenting with examples for an effective learning experience."
   ]
  },
  {
   "cell_type": "code",
   "execution_count": null,
   "id": "601c25f4",
   "metadata": {},
   "outputs": [],
   "source": [
    "The two types of errors in Python are syntax errors and exceptions."
   ]
  },
  {
   "cell_type": "raw",
   "id": "48638c10",
   "metadata": {},
   "source": [
    "1. Syntax errors (also known as parsing errors) occur when a sequence of characters, or tokens, violates the syntax of the Python programming language.\n",
    "2. Exceptions: Errors detected during execution are called exceptions"
   ]
  },
  {
   "cell_type": "markdown",
   "id": "5dbb187b",
   "metadata": {},
   "source": [
    "1. **`SyntaxError`**: Occurs when you try to violate rules of python programming language.\n",
    "   - **Idea**: It's like trying to use wrong grammmer in sentence."
   ]
  },
  {
   "cell_type": "code",
   "execution_count": 9,
   "id": "1366aaa6",
   "metadata": {},
   "outputs": [
    {
     "ename": "SyntaxError",
     "evalue": "incomplete input (4227803888.py, line 1)",
     "output_type": "error",
     "traceback": [
      "\u001b[1;36m  Cell \u001b[1;32mIn[9], line 1\u001b[1;36m\u001b[0m\n\u001b[1;33m    print(\"hello\"\u001b[0m\n\u001b[1;37m                 ^\u001b[0m\n\u001b[1;31mSyntaxError\u001b[0m\u001b[1;31m:\u001b[0m incomplete input\n"
     ]
    }
   ],
   "source": [
    "print(\"hello\""
   ]
  },
  {
   "cell_type": "markdown",
   "id": "56af9c8b",
   "metadata": {},
   "source": [
    "**Idea**:Exceptions: Errors detected during execution are called exceptions"
   ]
  },
  {
   "cell_type": "markdown",
   "id": "8c7b14c7",
   "metadata": {},
   "source": [
    "1. **`ZeroDivisionError`**: Occurs when you try to divide a number by zero.\n",
    "   - **Idea**: It's like trying to share candies among zero friends—impossible and doesn't make sense.\n",
    "\n",
    "  "
   ]
  },
  {
   "cell_type": "code",
   "execution_count": 10,
   "id": "16971873",
   "metadata": {},
   "outputs": [
    {
     "ename": "ZeroDivisionError",
     "evalue": "division by zero",
     "output_type": "error",
     "traceback": [
      "\u001b[1;31m---------------------------------------------------------------------------\u001b[0m",
      "\u001b[1;31mZeroDivisionError\u001b[0m                         Traceback (most recent call last)",
      "Cell \u001b[1;32mIn[10], line 3\u001b[0m\n\u001b[0;32m      1\u001b[0m candies \u001b[38;5;241m=\u001b[39m \u001b[38;5;241m10\u001b[39m\n\u001b[0;32m      2\u001b[0m friends \u001b[38;5;241m=\u001b[39m \u001b[38;5;241m0\u001b[39m\n\u001b[1;32m----> 3\u001b[0m divide \u001b[38;5;241m=\u001b[39m \u001b[43mcandies\u001b[49m\u001b[43m \u001b[49m\u001b[38;5;241;43m/\u001b[39;49m\u001b[43m \u001b[49m\u001b[43mfriends\u001b[49m\n",
      "\u001b[1;31mZeroDivisionError\u001b[0m: division by zero"
     ]
    }
   ],
   "source": [
    "candies = 10\n",
    "friends = 0\n",
    "divide = candies / friends\n",
    "\n"
   ]
  },
  {
   "cell_type": "markdown",
   "id": "1d0d8f69",
   "metadata": {},
   "source": [
    "2. **`ValueError`**: Raised when a function gets an argument of the correct type but an inappropriate value.\n",
    "   - **Idea**: It's like asking someone to give you their age and they say Alice—it's a number, not a name.\n"
   ]
  },
  {
   "cell_type": "code",
   "execution_count": 2,
   "id": "0facdbdd",
   "metadata": {},
   "outputs": [
    {
     "ename": "ValueError",
     "evalue": "invalid literal for int() with base 10: 'Alice'",
     "output_type": "error",
     "traceback": [
      "\u001b[1;31m---------------------------------------------------------------------------\u001b[0m",
      "\u001b[1;31mValueError\u001b[0m                                Traceback (most recent call last)",
      "Cell \u001b[1;32mIn[2], line 1\u001b[0m\n\u001b[1;32m----> 1\u001b[0m number \u001b[38;5;241m=\u001b[39m \u001b[38;5;28;43mint\u001b[39;49m\u001b[43m(\u001b[49m\u001b[38;5;124;43m\"\u001b[39;49m\u001b[38;5;124;43mAlice\u001b[39;49m\u001b[38;5;124;43m\"\u001b[39;49m\u001b[43m)\u001b[49m\n",
      "\u001b[1;31mValueError\u001b[0m: invalid literal for int() with base 10: 'Alice'"
     ]
    }
   ],
   "source": [
    "\n",
    "\n",
    "number = int(\"Alice\")\n",
    "\n",
    "\n"
   ]
  },
  {
   "cell_type": "markdown",
   "id": "26653aa4",
   "metadata": {},
   "source": [
    "3. **`IndexError`**: Raised when you try to access an index that is out of the range of a list or sequence.\n",
    "   - **Idea**: It's like trying to reach the 10th shelf in a cupboard that only has 5 shelves.\n"
   ]
  },
  {
   "cell_type": "code",
   "execution_count": 3,
   "id": "80f2c847",
   "metadata": {},
   "outputs": [
    {
     "ename": "IndexError",
     "evalue": "list index out of range",
     "output_type": "error",
     "traceback": [
      "\u001b[1;31m---------------------------------------------------------------------------\u001b[0m",
      "\u001b[1;31mIndexError\u001b[0m                                Traceback (most recent call last)",
      "Cell \u001b[1;32mIn[3], line 2\u001b[0m\n\u001b[0;32m      1\u001b[0m students \u001b[38;5;241m=\u001b[39m [\u001b[38;5;124m\"\u001b[39m\u001b[38;5;124mAlice\u001b[39m\u001b[38;5;124m\"\u001b[39m,\u001b[38;5;124m\"\u001b[39m\u001b[38;5;124mBob\u001b[39m\u001b[38;5;124m\"\u001b[39m,\u001b[38;5;124m\"\u001b[39m\u001b[38;5;124mAmit\u001b[39m\u001b[38;5;124m\"\u001b[39m]\n\u001b[1;32m----> 2\u001b[0m item \u001b[38;5;241m=\u001b[39m \u001b[43mstudents\u001b[49m\u001b[43m[\u001b[49m\u001b[38;5;241;43m5\u001b[39;49m\u001b[43m]\u001b[49m\n",
      "\u001b[1;31mIndexError\u001b[0m: list index out of range"
     ]
    }
   ],
   "source": [
    "students = [\"Alice\",\"Bob\",\"Amit\"]\n",
    "item = students[5]\n",
    "\n"
   ]
  },
  {
   "cell_type": "markdown",
   "id": "9e0a9388",
   "metadata": {},
   "source": [
    "4. **`KeyError`**: Raised when you try to access a dictionary with a key that doesn't exist.\n",
    "   - **Idea**: It's like trying to use a key to open a door, but the door doesn't exist.\n",
    "\n",
    "  "
   ]
  },
  {
   "cell_type": "code",
   "execution_count": 4,
   "id": "3ff3fb02",
   "metadata": {},
   "outputs": [
    {
     "ename": "KeyError",
     "evalue": "'age'",
     "output_type": "error",
     "traceback": [
      "\u001b[1;31m---------------------------------------------------------------------------\u001b[0m",
      "\u001b[1;31mKeyError\u001b[0m                                  Traceback (most recent call last)",
      "Cell \u001b[1;32mIn[4], line 3\u001b[0m\n\u001b[0;32m      1\u001b[0m name \u001b[38;5;241m=\u001b[39m {\u001b[38;5;124m\"\u001b[39m\u001b[38;5;124mname\u001b[39m\u001b[38;5;124m\"\u001b[39m: \u001b[38;5;124m\"\u001b[39m\u001b[38;5;124mAlice\u001b[39m\u001b[38;5;124m\"\u001b[39m}\n\u001b[1;32m----> 3\u001b[0m value \u001b[38;5;241m=\u001b[39m \u001b[43mname\u001b[49m\u001b[43m[\u001b[49m\u001b[38;5;124;43m\"\u001b[39;49m\u001b[38;5;124;43mage\u001b[39;49m\u001b[38;5;124;43m\"\u001b[39;49m\u001b[43m]\u001b[49m\n",
      "\u001b[1;31mKeyError\u001b[0m: 'age'"
     ]
    }
   ],
   "source": [
    "name = {\"name\": \"Alice\"}\n",
    "\n",
    "value = name[\"age\"]\n",
    "\n"
   ]
  },
  {
   "cell_type": "markdown",
   "id": "94af94ea",
   "metadata": {},
   "source": [
    "5. **`TypeError`**: Occurs when an operation or function is applied to an object of inappropriate type.\n",
    "   - **Idea**: It's like trying to mix watercolors with a hammer—wrong tool for the job.\n"
   ]
  },
  {
   "cell_type": "code",
   "execution_count": 5,
   "id": "c68d3317",
   "metadata": {},
   "outputs": [
    {
     "ename": "TypeError",
     "evalue": "can only concatenate str (not \"float\") to str",
     "output_type": "error",
     "traceback": [
      "\u001b[1;31m---------------------------------------------------------------------------\u001b[0m",
      "\u001b[1;31mTypeError\u001b[0m                                 Traceback (most recent call last)",
      "Cell \u001b[1;32mIn[5], line 1\u001b[0m\n\u001b[1;32m----> 1\u001b[0m result \u001b[38;5;241m=\u001b[39m \u001b[38;5;124;43m\"\u001b[39;49m\u001b[38;5;124;43mgpa\u001b[39;49m\u001b[38;5;124;43m\"\u001b[39;49m\u001b[43m \u001b[49m\u001b[38;5;241;43m+\u001b[39;49m\u001b[43m \u001b[49m\u001b[38;5;241;43m3.2\u001b[39;49m\n",
      "\u001b[1;31mTypeError\u001b[0m: can only concatenate str (not \"float\") to str"
     ]
    }
   ],
   "source": [
    "\n",
    "result = \"gpa\" + 3.2\n",
    "\n"
   ]
  },
  {
   "cell_type": "markdown",
   "id": "146926c0",
   "metadata": {},
   "source": [
    "7. **`AttributeError`**: Raised when an invalid attribute reference is made.\n",
    "   - **Idea**: It's like trying to turn on the lights in a room that has no lights.\n"
   ]
  },
  {
   "cell_type": "code",
   "execution_count": 6,
   "id": "5d7a257f",
   "metadata": {},
   "outputs": [
    {
     "ename": "AttributeError",
     "evalue": "'Person' object has no attribute 'age'",
     "output_type": "error",
     "traceback": [
      "\u001b[1;31m---------------------------------------------------------------------------\u001b[0m",
      "\u001b[1;31mAttributeError\u001b[0m                            Traceback (most recent call last)",
      "Cell \u001b[1;32mIn[6], line 5\u001b[0m\n\u001b[0;32m      2\u001b[0m    name \u001b[38;5;241m=\u001b[39m \u001b[38;5;124m\"\u001b[39m\u001b[38;5;124mAlice\u001b[39m\u001b[38;5;124m\"\u001b[39m\n\u001b[0;32m      4\u001b[0m person \u001b[38;5;241m=\u001b[39m Person()\n\u001b[1;32m----> 5\u001b[0m \u001b[38;5;28mprint\u001b[39m(\u001b[43mperson\u001b[49m\u001b[38;5;241;43m.\u001b[39;49m\u001b[43mage\u001b[49m)\n",
      "\u001b[1;31mAttributeError\u001b[0m: 'Person' object has no attribute 'age'"
     ]
    }
   ],
   "source": [
    "\n",
    "class Person:\n",
    "   name = \"Alice\"\n",
    "\n",
    "person = Person()\n",
    "print(person.age)\n",
    "\n"
   ]
  },
  {
   "cell_type": "markdown",
   "id": "da27def2",
   "metadata": {},
   "source": [
    "8. **`ImportError`**: Raised when an import statement fails to find the module definition or when a `from` ... `import` fails to find a name that is to be imported.\n",
    "   - **Idea**: It's like trying to call someone who doesn't have a phone number.\n"
   ]
  },
  {
   "cell_type": "code",
   "execution_count": 7,
   "id": "cbfec886",
   "metadata": {},
   "outputs": [
    {
     "ename": "ModuleNotFoundError",
     "evalue": "No module named 'student'",
     "output_type": "error",
     "traceback": [
      "\u001b[1;31m---------------------------------------------------------------------------\u001b[0m",
      "\u001b[1;31mModuleNotFoundError\u001b[0m                       Traceback (most recent call last)",
      "Cell \u001b[1;32mIn[7], line 1\u001b[0m\n\u001b[1;32m----> 1\u001b[0m \u001b[38;5;28;01mimport\u001b[39;00m \u001b[38;5;21;01mstudent\u001b[39;00m\n",
      "\u001b[1;31mModuleNotFoundError\u001b[0m: No module named 'student'"
     ]
    }
   ],
   "source": [
    "import student\n",
    "\n"
   ]
  },
  {
   "cell_type": "markdown",
   "id": "2a1058d7",
   "metadata": {},
   "source": [
    "Error Handling\n",
    "\n",
    "Error handling is necessary because it helps your programs deal with unexpected problems without crashing. Imagine playing a game, and suddenly your computer freezes—that's what happens if we don't handle errors. By catching errors, we can show friendly messages, fix issues, or safely exit the program. It makes sure our programs run smoothly, even when something goes wrong, just like having a plan B when things don't go as expected."
   ]
  },
  {
   "cell_type": "code",
   "execution_count": 11,
   "id": "e121e357",
   "metadata": {},
   "outputs": [
    {
     "name": "stdout",
     "output_type": "stream",
     "text": [
      "Error: You can't divide by zero!\n"
     ]
    }
   ],
   "source": []
  },
  {
   "cell_type": "markdown",
   "id": "0d73ba04",
   "metadata": {},
   "source": [
    "Understanding try and except\n",
    "Use: The try and except blocks in Python are used for error handling. They allow you to try a block of code and catch any errors that occur, so your program doesn't crash.\n",
    "\n",
    "Intuition: Imagine you're riding a bike. You always wear a helmet (the except block) just in case you fall (an error). The helmet doesn't stop you from falling, but it protects you if you do. Similarly, the try block is where you write the code that might cause an error, and the except block is where you handle the error if it happens."
   ]
  },
  {
   "cell_type": "code",
   "execution_count": null,
   "id": "ca4cc0d1",
   "metadata": {},
   "outputs": [],
   "source": [
    "try:\n",
    "    accident --> error\n",
    "except:\n",
    "    protect --> handling error occured in try"
   ]
  },
  {
   "cell_type": "code",
   "execution_count": 17,
   "id": "b4e50640",
   "metadata": {},
   "outputs": [
    {
     "name": "stdout",
     "output_type": "stream",
     "text": [
      "division by zero\n"
     ]
    }
   ],
   "source": [
    "candies = 10\n",
    "friends = 0\n",
    "try:\n",
    "   output = candies / friends\n",
    "   print(output)\n",
    "except ZeroDivisionError as e:\n",
    "   print(\"Error: You can't divide by zero!\")\n"
   ]
  },
  {
   "cell_type": "code",
   "execution_count": 19,
   "id": "d4def63e",
   "metadata": {},
   "outputs": [
    {
     "name": "stdout",
     "output_type": "stream",
     "text": [
      "division by zero\n"
     ]
    }
   ],
   "source": [
    "# IF i dont know which error will come I will modify as \n",
    "candies = 10\n",
    "friends = 0\n",
    "try:\n",
    "   output = candies / friends\n",
    "   print(output)\n",
    "except Exception as e:\n",
    "    print(e)"
   ]
  },
  {
   "cell_type": "code",
   "execution_count": 21,
   "id": "a68553b6",
   "metadata": {},
   "outputs": [],
   "source": [
    "# Try wil Value Error."
   ]
  },
  {
   "cell_type": "code",
   "execution_count": 22,
   "id": "eb9ca913",
   "metadata": {},
   "outputs": [
    {
     "name": "stdout",
     "output_type": "stream",
     "text": [
      "Error: That's not a valid number!\n"
     ]
    }
   ],
   "source": [
    "try:\n",
    "   number = int(\"abc\")\n",
    "except ValueError as e:\n",
    "   print(\"Error: That's not a valid number!\")"
   ]
  },
  {
   "cell_type": "code",
   "execution_count": 23,
   "id": "86ec2638",
   "metadata": {},
   "outputs": [
    {
     "name": "stdout",
     "output_type": "stream",
     "text": [
      "invalid literal for int() with base 10: 'abc'\n"
     ]
    }
   ],
   "source": [
    "try:\n",
    "   number = int(\"abc\")\n",
    "except Exception as e:\n",
    "   print(e)"
   ]
  },
  {
   "cell_type": "code",
   "execution_count": null,
   "id": "0ce1b398",
   "metadata": {},
   "outputs": [],
   "source": [
    "# Case : There are some exceptions that are not caught by python. We do not except from python to do do.\n",
    "# E.g The gpa is between 0 and 4. But python does not know that. So how do we handle that."
   ]
  },
  {
   "cell_type": "code",
   "execution_count": 26,
   "id": "d1e47734",
   "metadata": {},
   "outputs": [
    {
     "name": "stdout",
     "output_type": "stream",
     "text": [
      "Enter the gpa77\n",
      "The GPA is: 77\n"
     ]
    }
   ],
   "source": [
    "gpa = input(\"Enter the gpa\")\n",
    "print(\"The GPA is:\",gpa)"
   ]
  },
  {
   "cell_type": "code",
   "execution_count": 34,
   "id": "99f210bf",
   "metadata": {},
   "outputs": [
    {
     "name": "stdout",
     "output_type": "stream",
     "text": [
      "Enter the gpa77\n"
     ]
    },
    {
     "ename": "Exception",
     "evalue": "GPA must be in between 0 and 4",
     "output_type": "error",
     "traceback": [
      "\u001b[1;31m---------------------------------------------------------------------------\u001b[0m",
      "\u001b[1;31mException\u001b[0m                                 Traceback (most recent call last)",
      "Cell \u001b[1;32mIn[34], line 3\u001b[0m\n\u001b[0;32m      1\u001b[0m gpa \u001b[38;5;241m=\u001b[39m \u001b[38;5;28mint\u001b[39m(\u001b[38;5;28minput\u001b[39m(\u001b[38;5;124m\"\u001b[39m\u001b[38;5;124mEnter the gpa\u001b[39m\u001b[38;5;124m\"\u001b[39m))\n\u001b[0;32m      2\u001b[0m \u001b[38;5;28;01mif\u001b[39;00m gpa \u001b[38;5;241m<\u001b[39m \u001b[38;5;241m0\u001b[39m \u001b[38;5;129;01mor\u001b[39;00m gpa \u001b[38;5;241m>\u001b[39m \u001b[38;5;241m4\u001b[39m:\n\u001b[1;32m----> 3\u001b[0m     \u001b[38;5;28;01mraise\u001b[39;00m \u001b[38;5;167;01mException\u001b[39;00m(\u001b[38;5;124m\"\u001b[39m\u001b[38;5;124mGPA must be in between 0 and 4\u001b[39m\u001b[38;5;124m\"\u001b[39m)\n",
      "\u001b[1;31mException\u001b[0m: GPA must be in between 0 and 4"
     ]
    }
   ],
   "source": [
    "\n",
    "gpa = int(input(\"Enter the gpa\"))\n",
    "if gpa < 0 or gpa > 4:\n",
    "    raise Exception(\"GPA must be in between 0 and 4\")\n",
    "\n",
    "    "
   ]
  },
  {
   "cell_type": "code",
   "execution_count": 35,
   "id": "6739c714",
   "metadata": {},
   "outputs": [
    {
     "name": "stdout",
     "output_type": "stream",
     "text": [
      "Enter the gpa7\n",
      "GPA must be in between 0 and 4\n"
     ]
    }
   ],
   "source": [
    "try:\n",
    "    gpa = int(input(\"Enter the gpa\"))\n",
    "    if gpa < 0 or gpa > 4:\n",
    "        raise Exception(\"GPA must be in between 0 and 4 \")\n",
    "except:\n",
    "    print(\"GPA must be in between 0 and 4\")"
   ]
  },
  {
   "cell_type": "code",
   "execution_count": null,
   "id": "82c8d672",
   "metadata": {},
   "outputs": [],
   "source": []
  },
  {
   "cell_type": "code",
   "execution_count": null,
   "id": "2374055d",
   "metadata": {},
   "outputs": [],
   "source": [
    "# Simple program to understand try except in easy way"
   ]
  },
  {
   "cell_type": "code",
   "execution_count": 37,
   "id": "199b4b2e",
   "metadata": {},
   "outputs": [],
   "source": [
    "students = [\n",
    "    {\"name\": \"Amit Kumar\", \"age\": 21, \"grade\": \"D\", \"GPA\": 2.50, \"graduated\": False, \"email\": \"amit@example.com\"},\n",
    "    {\"name\": \"Rajesh Singh\", \"age\": 20, \"grade\": \"B\", \"GPA\": 3.20, \"graduated\": True, \"email\": \"rajesh@example.com\"},\n",
    "]\n",
    "\n",
    "        "
   ]
  },
  {
   "cell_type": "code",
   "execution_count": 38,
   "id": "20c87ad7",
   "metadata": {},
   "outputs": [
    {
     "name": "stdout",
     "output_type": "stream",
     "text": [
      "Updated GPA for Amit Kumar to 3.5\n",
      "Error: could not convert string to float: 'abc'\n",
      "Error: Student not found\n"
     ]
    }
   ],
   "source": [
    "def update_gpa(student_name, new_gpa):\n",
    "    try:\n",
    "        # Check if new_gpa is a valid number\n",
    "        new_gpa = float(new_gpa)\n",
    "        \n",
    "        # Check if new_gpa is within the valid range (0.0 to 4.0)\n",
    "        if new_gpa < 0.0 or new_gpa > 4.0:\n",
    "            raise ValueError(\"GPA must be between 0.0 and 4.0\")\n",
    "        \n",
    "        # Find the student by name\n",
    "        student_found = False\n",
    "        for student in students:\n",
    "            if student[\"name\"] == student_name:\n",
    "                student[\"GPA\"] = new_gpa\n",
    "                student_found = True\n",
    "                print(f\"Updated GPA for {student_name} to {new_gpa}\")\n",
    "        \n",
    "        # If student is not found, raise an error\n",
    "        if not student_found:\n",
    "            raise ValueError(\"Student not found\")\n",
    "    \n",
    "    except ValueError as e:\n",
    "        # Handle errors: invalid GPA or student not found\n",
    "        print(f\"Error: {e}\")\n",
    "\n",
    "# Example usage:\n",
    "update_gpa(\"Amit Kumar\", 3.5)\n",
    "\n"
   ]
  },
  {
   "cell_type": "code",
   "execution_count": null,
   "id": "772b1106",
   "metadata": {},
   "outputs": [],
   "source": [
    "update_gpa(\"Rajesh Singh\", \"abc\")  # This will raise a ValueError\n"
   ]
  },
  {
   "cell_type": "code",
   "execution_count": null,
   "id": "8331716f",
   "metadata": {},
   "outputs": [],
   "source": [
    "update_gpa(\"Unknown Student\", 3.0)  # This will raise a ValueError"
   ]
  },
  {
   "cell_type": "markdown",
   "id": "39542514",
   "metadata": {},
   "source": [
    "### Explanation of the Code\n",
    "\n",
    "1. **Student Dataset**:\n",
    "   - We have a list of dictionaries, where each dictionary represents a student with attributes like `name`, `age`, `grade`, `GPA`, `graduated`, and `email`.\n",
    "\n",
    "2. **`update_gpa` Function**:\n",
    "   - **`try` Block**:\n",
    "     - Converts `new_gpa` to a float. If the input is not a valid number, it raises a `ValueError`.\n",
    "     - Checks if the `new_gpa` is within the valid range (0.0 to 4.0). If not, it raises a `ValueError`.\n",
    "     - Searches for the student by name in the dataset. If the student is found, it updates the GPA. If not, it raises a `ValueError`.\n",
    "   - **`except` Block**:\n",
    "     - Catches and prints the `ValueError` with an appropriate error message.\n",
    "\n",
    "3. **Example Usage**:\n",
    "   - `update_gpa(\"Amit Kumar\", 3.5)` successfully updates Amit's GPA to 3.5.\n",
    "   - `update_gpa(\"Rajesh Singh\", \"abc\")` raises a `ValueError` because \"abc\" is not a valid number.\n",
    "   - `update_gpa(\"Unknown Student\", 3.0)` raises a `ValueError` because the student is not found in the dataset.\n",
    "\n",
    "This example demonstrates how to use `try` and `except` to handle potential errors gracefully when updating a student's GPA in a dataset."
   ]
  },
  {
   "cell_type": "code",
   "execution_count": null,
   "id": "7ea546ce",
   "metadata": {},
   "outputs": [],
   "source": []
  }
 ],
 "metadata": {
  "kernelspec": {
   "display_name": "Python 3 (ipykernel)",
   "language": "python",
   "name": "python3"
  },
  "language_info": {
   "codemirror_mode": {
    "name": "ipython",
    "version": 3
   },
   "file_extension": ".py",
   "mimetype": "text/x-python",
   "name": "python",
   "nbconvert_exporter": "python",
   "pygments_lexer": "ipython3",
   "version": "3.10.11"
  }
 },
 "nbformat": 4,
 "nbformat_minor": 5
}
