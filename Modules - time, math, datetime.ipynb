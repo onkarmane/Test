{
 "cells": [
  {
   "cell_type": "markdown",
   "id": "5156e26d",
   "metadata": {},
   "source": [
    "#  Python for Machine Learning Series\n",
    "\n",
    "This tutorial marks the beginning of a series focused on introducing programming concepts through practical, code-driven lessons using the Python language. Emphasizing a hands-on approach, learners are encouraged to actively engage with the material by executing code and experimenting with examples for an effective learning experience."
   ]
  },
  {
   "cell_type": "markdown",
   "id": "d27a11fc",
   "metadata": {},
   "source": [
    "## Math Module"
   ]
  },
  {
   "cell_type": "code",
   "execution_count": 19,
   "id": "11ce6865",
   "metadata": {},
   "outputs": [
    {
     "name": "stdout",
     "output_type": "stream",
     "text": [
      "15.0\n"
     ]
    }
   ],
   "source": [
    "# Import math Library\n",
    "import math\n",
    "\n",
    "# Print the sum of all items\n",
    "print(math.fsum([1, 2, 3, 4, 5]))"
   ]
  },
  {
   "cell_type": "code",
   "execution_count": 20,
   "id": "9052c32a",
   "metadata": {},
   "outputs": [
    {
     "name": "stdout",
     "output_type": "stream",
     "text": [
      "729.0\n"
     ]
    }
   ],
   "source": [
    "# Import math Library\n",
    "import math\n",
    "\n",
    "#Return the value of 9 raised to the power of 3\n",
    "print(math.pow(9, 3))"
   ]
  },
  {
   "cell_type": "code",
   "execution_count": 21,
   "id": "a0f2364c",
   "metadata": {},
   "outputs": [
    {
     "name": "stdout",
     "output_type": "stream",
     "text": [
      "3.0\n"
     ]
    }
   ],
   "source": [
    "# Import math Library\n",
    "import math\n",
    "\n",
    "# Return the square root of different numbers\n",
    "print (math.sqrt(9))"
   ]
  },
  {
   "cell_type": "code",
   "execution_count": null,
   "id": "cdcd7b6a",
   "metadata": {},
   "outputs": [],
   "source": [
    "# We will create our own module named math_func"
   ]
  },
  {
   "cell_type": "code",
   "execution_count": 22,
   "id": "3a6da37e",
   "metadata": {},
   "outputs": [],
   "source": [
    "# math_func.py\n",
    "\"\"\"This is our customized module that can do various math functions \"\"\"\n",
    "\n",
    "\n",
    "def power(x, y):\n",
    "    return x**y\n",
    "\n",
    "\n",
    "def f_sum(x):\n",
    "    total = 0\n",
    "    for item in x:\n",
    "        total = total + item\n",
    "    return total"
   ]
  },
  {
   "cell_type": "code",
   "execution_count": 23,
   "id": "2361aa1b",
   "metadata": {},
   "outputs": [
    {
     "ename": "ModuleNotFoundError",
     "evalue": "No module named 'math_func'",
     "output_type": "error",
     "traceback": [
      "\u001b[1;31m---------------------------------------------------------------------------\u001b[0m",
      "\u001b[1;31mModuleNotFoundError\u001b[0m                       Traceback (most recent call last)",
      "Cell \u001b[1;32mIn[23], line 1\u001b[0m\n\u001b[1;32m----> 1\u001b[0m \u001b[38;5;28;01mimport\u001b[39;00m \u001b[38;5;21;01mmath_func\u001b[39;00m\n\u001b[0;32m      3\u001b[0m \u001b[38;5;28mprint\u001b[39m(math_func\u001b[38;5;241m.\u001b[39mpower(\u001b[38;5;241m2\u001b[39m, \u001b[38;5;241m3\u001b[39m))\n\u001b[0;32m      4\u001b[0m \u001b[38;5;28mprint\u001b[39m(math_func\u001b[38;5;241m.\u001b[39mf_sum([\u001b[38;5;241m1\u001b[39m, \u001b[38;5;241m2\u001b[39m, \u001b[38;5;241m3\u001b[39m]))\n",
      "\u001b[1;31mModuleNotFoundError\u001b[0m: No module named 'math_func'"
     ]
    }
   ],
   "source": [
    "import math_func\n",
    "\n",
    "print(math_func.power(2, 3))\n",
    "print(math_func.f_sum([1, 2, 3]))\n"
   ]
  },
  {
   "cell_type": "markdown",
   "id": "3b6d57ea",
   "metadata": {},
   "source": [
    "## Time Module"
   ]
  },
  {
   "cell_type": "raw",
   "id": "8a2ff2fd",
   "metadata": {},
   "source": [
    "1. Time Module\n",
    "The time module provides various time-related functions.\n",
    "\n",
    "Example: Displaying Current Time and Measuring Execution Time\n",
    "This is useful in determing the time required to execute the program"
   ]
  },
  {
   "cell_type": "code",
   "execution_count": 1,
   "id": "265d094e",
   "metadata": {},
   "outputs": [
    {
     "name": "stdout",
     "output_type": "stream",
     "text": [
      "Current time (in seconds since epoch): 1717585229.1860554\n",
      "Execution time: 2.0097529888153076 seconds\n"
     ]
    }
   ],
   "source": [
    "import time\n",
    "\n",
    "# Display current time\n",
    "current_time = time.time()\n",
    "print(\"Current time (in seconds since epoch):\", current_time)\n",
    "\n",
    "# Measuring execution time\n",
    "start_time = time.time()\n",
    "# Simulating a delay\n",
    "time.sleep(2)\n",
    "end_time = time.time()\n",
    "\n",
    "print(\"Execution time:\", end_time - start_time, \"seconds\")\n"
   ]
  },
  {
   "cell_type": "code",
   "execution_count": 8,
   "id": "fcd88e02",
   "metadata": {},
   "outputs": [
    {
     "name": "stdout",
     "output_type": "stream",
     "text": [
      "Execution time: 26.255080938339233 seconds\n"
     ]
    }
   ],
   "source": [
    "# Measuring execution time\n",
    "start_time = time.time()\n",
    "\n",
    "count = 0\n",
    "while count < 100000000:\n",
    "    count = count + 1\n",
    "\n",
    "\n",
    "end_time = time.time()\n",
    "\n",
    "print(\"Execution time:\", end_time - start_time, \"seconds\")\n"
   ]
  },
  {
   "cell_type": "code",
   "execution_count": 9,
   "id": "0e7eed79",
   "metadata": {},
   "outputs": [
    {
     "name": "stdout",
     "output_type": "stream",
     "text": [
      "Execution time: 9.377013921737671 seconds\n"
     ]
    }
   ],
   "source": [
    "# Measuring execution time\n",
    "start_time = time.time()\n",
    "\n",
    "count = 0\n",
    "for i in range(100000000):\n",
    "    pass\n",
    "\n",
    "\n",
    "end_time = time.time()\n",
    "\n",
    "print(\"Execution time:\", end_time - start_time, \"seconds\")"
   ]
  },
  {
   "cell_type": "markdown",
   "id": "5550fc5d",
   "metadata": {},
   "source": [
    "# Date Module"
   ]
  },
  {
   "cell_type": "code",
   "execution_count": 16,
   "id": "620f3dec",
   "metadata": {},
   "outputs": [
    {
     "data": {
      "text/plain": [
       "datetime.datetime(2024, 6, 5, 17, 8, 53, 853778)"
      ]
     },
     "execution_count": 16,
     "metadata": {},
     "output_type": "execute_result"
    }
   ],
   "source": [
    "from datetime import datetime\n",
    "\n",
    "# Current date and time\n",
    "current_datetime = datetime.now()\n",
    "current_datetime"
   ]
  },
  {
   "cell_type": "code",
   "execution_count": 11,
   "id": "32f1d1ad",
   "metadata": {},
   "outputs": [
    {
     "name": "stdout",
     "output_type": "stream",
     "text": [
      "Specific Time: 14:45:30\n"
     ]
    }
   ],
   "source": [
    "\n",
    "#### 1. `datetime.time()`\n",
    "# This method creates a `time` object representing a specific time.\n",
    "\n",
    "\n",
    "from datetime import time\n",
    "\n",
    "# Creating a specific time object\n",
    "specific_time = time(14, 45, 30)\n",
    "print(\"Specific Time:\", specific_time)\n"
   ]
  },
  {
   "cell_type": "code",
   "execution_count": 17,
   "id": "812e122d",
   "metadata": {},
   "outputs": [
    {
     "data": {
      "text/plain": [
       "datetime.time"
      ]
     },
     "execution_count": 17,
     "metadata": {},
     "output_type": "execute_result"
    }
   ],
   "source": [
    "type(specific_time)"
   ]
  },
  {
   "cell_type": "code",
   "execution_count": 12,
   "id": "525eb057",
   "metadata": {},
   "outputs": [
    {
     "name": "stdout",
     "output_type": "stream",
     "text": [
      "Specific Date: 2023-06-05\n"
     ]
    }
   ],
   "source": [
    "#### 2. `datetime.date()`\n",
    "# This method creates a `date` object representing a specific date.\n",
    "from datetime import date\n",
    "\n",
    "# Creating a specific date object\n",
    "specific_date = date(2023, 6, 5)\n",
    "print(\"Specific Date:\", specific_date)\n"
   ]
  },
  {
   "cell_type": "code",
   "execution_count": 10,
   "id": "be3254ad",
   "metadata": {},
   "outputs": [
    {
     "name": "stdout",
     "output_type": "stream",
     "text": [
      "Specific Datetime: 2022-12-25 17:30:00\n"
     ]
    }
   ],
   "source": [
    "#### 3. `datetime.datetime()`\n",
    "# This method creates a `datetime` object representing a specific date and time.\n",
    "\n",
    "\n",
    "from datetime import datetime\n",
    "\n",
    "# Creating a specific datetime object\n",
    "specific_datetime = datetime(2022, 12, 25, 17, 30)\n",
    "print(\"Specific Datetime:\", specific_datetime)\n"
   ]
  },
  {
   "cell_type": "code",
   "execution_count": 15,
   "id": "6b1e5bd1",
   "metadata": {},
   "outputs": [
    {
     "data": {
      "text/plain": [
       "datetime.datetime(2024, 6, 5, 17, 8, 28, 251801)"
      ]
     },
     "execution_count": 15,
     "metadata": {},
     "output_type": "execute_result"
    }
   ],
   "source": []
  },
  {
   "cell_type": "code",
   "execution_count": 13,
   "id": "2d5ac8ce",
   "metadata": {},
   "outputs": [
    {
     "name": "stdout",
     "output_type": "stream",
     "text": [
      "Current Date and Time: 2024-06-05 17:07:49.924153\n",
      "Day: 5\n",
      "Month: 6\n",
      "Year: 2024\n",
      "Time: 17:07:49.924153\n"
     ]
    }
   ],
   "source": [
    "### Extracting Day, Month, Year, and Time\n",
    "\n",
    "from datetime import datetime\n",
    "\n",
    "# Current date and time\n",
    "current_datetime = datetime.now()\n",
    "\n",
    "# Extracting day, month, year, and time\n",
    "day = current_datetime.day\n",
    "month = current_datetime.month\n",
    "year = current_datetime.year\n",
    "time = current_datetime.time()\n",
    "\n",
    "print(\"Current Date and Time:\", current_datetime)\n",
    "print(\"Day:\", day)\n",
    "print(\"Month:\", month)\n",
    "print(\"Year:\", year)\n",
    "print(\"Time:\", time)"
   ]
  },
  {
   "cell_type": "markdown",
   "id": "8c279d0e",
   "metadata": {},
   "source": [
    "### Random Module"
   ]
  },
  {
   "cell_type": "code",
   "execution_count": null,
   "id": "c922fc97",
   "metadata": {},
   "outputs": [],
   "source": [
    ".choice()\n",
    "Returns a random item chosen from an iterable argument, such as a list or a dictionary.\n",
    ".randint()\n",
    "Returns a random integer that exists between two values.\n",
    ".random()\n",
    "Returns a pseudo-random floating-point number between 0 and 1.\n"
   ]
  },
  {
   "cell_type": "code",
   "execution_count": 24,
   "id": "e105deff",
   "metadata": {},
   "outputs": [],
   "source": [
    "import random"
   ]
  },
  {
   "cell_type": "code",
   "execution_count": null,
   "id": "8a7ac0de",
   "metadata": {},
   "outputs": [],
   "source": [
    "# .random()\n",
    "# Returns a pseudo-random floating-point number between 0 and 1."
   ]
  },
  {
   "cell_type": "code",
   "execution_count": 25,
   "id": "4cd65f3e",
   "metadata": {},
   "outputs": [
    {
     "data": {
      "text/plain": [
       "0.2136571200914199"
      ]
     },
     "execution_count": 25,
     "metadata": {},
     "output_type": "execute_result"
    }
   ],
   "source": [
    "random.random()"
   ]
  },
  {
   "cell_type": "code",
   "execution_count": null,
   "id": "f1f21732",
   "metadata": {},
   "outputs": [],
   "source": [
    "# .randint()\n",
    "# Returns a random integer that exists between two values."
   ]
  },
  {
   "cell_type": "code",
   "execution_count": 27,
   "id": "a12af336",
   "metadata": {},
   "outputs": [
    {
     "data": {
      "text/plain": [
       "83"
      ]
     },
     "execution_count": 27,
     "metadata": {},
     "output_type": "execute_result"
    }
   ],
   "source": [
    "random.randint(1,100)"
   ]
  },
  {
   "cell_type": "code",
   "execution_count": null,
   "id": "da668694",
   "metadata": {},
   "outputs": [],
   "source": [
    "# .choice()\n",
    "# Returns a random item chosen from an iterable argument, such as a list or a dictionary."
   ]
  },
  {
   "cell_type": "code",
   "execution_count": 28,
   "id": "873e44e2",
   "metadata": {},
   "outputs": [],
   "source": [
    "students = [\"bob\",\"amit\",\"alice\",\"jane\",\"steve\"]"
   ]
  },
  {
   "cell_type": "code",
   "execution_count": 34,
   "id": "a0d88e46",
   "metadata": {},
   "outputs": [
    {
     "data": {
      "text/plain": [
       "'steve'"
      ]
     },
     "execution_count": 34,
     "metadata": {},
     "output_type": "execute_result"
    }
   ],
   "source": [
    "random.choice(students)"
   ]
  },
  {
   "cell_type": "code",
   "execution_count": null,
   "id": "c4b4d709",
   "metadata": {},
   "outputs": [],
   "source": []
  }
 ],
 "metadata": {
  "kernelspec": {
   "display_name": "Python 3 (ipykernel)",
   "language": "python",
   "name": "python3"
  },
  "language_info": {
   "codemirror_mode": {
    "name": "ipython",
    "version": 3
   },
   "file_extension": ".py",
   "mimetype": "text/x-python",
   "name": "python",
   "nbconvert_exporter": "python",
   "pygments_lexer": "ipython3",
   "version": "3.10.11"
  }
 },
 "nbformat": 4,
 "nbformat_minor": 5
}
