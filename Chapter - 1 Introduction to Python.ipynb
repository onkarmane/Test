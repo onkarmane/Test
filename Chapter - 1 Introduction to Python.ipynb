{
 "cells": [
  {
   "cell_type": "markdown",
   "id": "a81b5e71",
   "metadata": {},
   "source": [
    "#  Python for Machine Learning Series\n",
    "\n",
    "This tutorial marks the beginning of a series focused on introducing programming concepts through practical, code-driven lessons using the Python language. Emphasizing a hands-on approach, learners are encouraged to actively engage with the material by executing code and experimenting with examples for an effective learning experience."
   ]
  },
  {
   "cell_type": "code",
   "execution_count": 10,
   "id": "ec4297a1",
   "metadata": {},
   "outputs": [],
   "source": [
    "## IGNORE THE BELOW LINES OF CODE"
   ]
  },
  {
   "cell_type": "code",
   "execution_count": 40,
   "id": "fa1cc4d7",
   "metadata": {},
   "outputs": [],
   "source": [
    "import pandas as pd\n",
    "from datetime import datetime\n",
    "import random\n",
    "\n",
    "# Helper functions\n",
    "\n",
    "\n",
    "def random_date(start, end):\n",
    "    return start + (end - start) * random.random()\n",
    "\n",
    "\n",
    "# Names for each country\n",
    "us_names = [\n",
    "    \"John Doe\", \"Jane Smith\", \"Alice Johnson\", \"Bob Brown\", \"Carol Davis\",\n",
    "    \"Dave Miller\", \"Eve Wilson\", \"Frank Moore\", \"Grace Taylor\", \"Hank Lee\"\n",
    "]\n",
    "\n",
    "india_names = [\n",
    "    \"Amit Kumar\", \"Sita Devi\", \"Rajesh Singh\", \"Pooja Sharma\", \"Anil Gupta\",\n",
    "    \"Neha Verma\", \"Sunil Joshi\", \"Anjali Mehta\", \"Vikram Choudhary\", \"Meera Patel\"\n",
    "]\n",
    "\n",
    "japan_names = [\n",
    "    \"Taro Yamada\", \"Hanako Suzuki\", \"Kenta Tanaka\", \"Yuki Watanabe\", \"Rina Kato\",\n",
    "    \"Satoshi Sato\", \"Akiko Yoshida\", \"Hiroshi Ito\", \"Miyu Yamamoto\", \"Koji Nakamura\"\n",
    "]\n",
    "\n",
    "# Assign countries and corresponding names\n",
    "countries = [\"US\", \"India\", \"Japan\"]\n",
    "names_by_country = {\n",
    "    \"US\": us_names,\n",
    "    \"India\": india_names,\n",
    "    \"Japan\": japan_names\n",
    "}\n",
    "\n",
    "students = []\n",
    "for country in countries:\n",
    "    for name in names_by_country[country]:\n",
    "        students.append((country, name))\n",
    "\n",
    "# Shuffle students to mix names from different countries\n",
    "random.shuffle(students)\n",
    "\n",
    "# Generate the dataset\n",
    "data = {\n",
    "    \"Student ID\": [f\"S{str(i).zfill(3)}\" for i in range(1, 31)],\n",
    "    \"Name\": [student[1] for student in students],\n",
    "    \"Age\": [random.randint(18, 25) for _ in range(30)],\n",
    "    \"Grade\": random.choices([\"A\", \"B\", \"C\", \"D\", \"F\"], k=30),\n",
    "    \"GPA\": [round(random.uniform(2.0, 4.0), 2) for _ in range(30)],\n",
    "    \"Graduated\": random.choices([True, False], k=30),\n",
    "    \"Enrollment Date\": [random_date(datetime(2020, 1, 1), datetime(2023, 1, 1)).date() for _ in range(30)],\n",
    "    \"Email\": [f\"{name.split()[0].lower()}@example.com\" for name in [student[1] for student in students]],\n",
    "    \"Phone Number\": [f\"25{random.randint(1000, 9999)}\" for _ in range(30)],\n",
    "    \"Is Active\": random.choices([True, False], k=30),\n",
    "    \"Country\": [student[0] for student in students]\n",
    "}\n",
    "\n",
    "# Create DataFrame\n",
    "students_df = pd.DataFrame(data)\n",
    "\n",
    "# # Display the DataFrame\n",
    "# students_df.columns"
   ]
  },
  {
   "cell_type": "code",
   "execution_count": 41,
   "id": "465bd6f8",
   "metadata": {},
   "outputs": [],
   "source": [
    "df = students_df[['Student ID', 'Name', 'Age', 'Grade', 'GPA', 'Graduated',\n",
    "       'Enrollment Date', 'Email', 'Phone Number', 'Country']]"
   ]
  },
  {
   "cell_type": "code",
   "execution_count": 42,
   "id": "69f4a816",
   "metadata": {
    "scrolled": true
   },
   "outputs": [
    {
     "data": {
      "text/html": [
       "<style type=\"text/css\">\n",
       "</style>\n",
       "<table id=\"T_cff5d\">\n",
       "  <thead>\n",
       "    <tr>\n",
       "      <th id=\"T_cff5d_level0_col0\" class=\"col_heading level0 col0\" >Student ID</th>\n",
       "      <th id=\"T_cff5d_level0_col1\" class=\"col_heading level0 col1\" >Name</th>\n",
       "      <th id=\"T_cff5d_level0_col2\" class=\"col_heading level0 col2\" >Age</th>\n",
       "      <th id=\"T_cff5d_level0_col3\" class=\"col_heading level0 col3\" >Grade</th>\n",
       "      <th id=\"T_cff5d_level0_col4\" class=\"col_heading level0 col4\" >GPA</th>\n",
       "      <th id=\"T_cff5d_level0_col5\" class=\"col_heading level0 col5\" >Graduated</th>\n",
       "      <th id=\"T_cff5d_level0_col6\" class=\"col_heading level0 col6\" >Enrollment Date</th>\n",
       "      <th id=\"T_cff5d_level0_col7\" class=\"col_heading level0 col7\" >Email</th>\n",
       "      <th id=\"T_cff5d_level0_col8\" class=\"col_heading level0 col8\" >Phone Number</th>\n",
       "      <th id=\"T_cff5d_level0_col9\" class=\"col_heading level0 col9\" >Country</th>\n",
       "    </tr>\n",
       "  </thead>\n",
       "  <tbody>\n",
       "    <tr>\n",
       "      <td id=\"T_cff5d_row0_col0\" class=\"data row0 col0\" >S001</td>\n",
       "      <td id=\"T_cff5d_row0_col1\" class=\"data row0 col1\" >Amit Kumar</td>\n",
       "      <td id=\"T_cff5d_row0_col2\" class=\"data row0 col2\" >21</td>\n",
       "      <td id=\"T_cff5d_row0_col3\" class=\"data row0 col3\" >D</td>\n",
       "      <td id=\"T_cff5d_row0_col4\" class=\"data row0 col4\" >2.500000</td>\n",
       "      <td id=\"T_cff5d_row0_col5\" class=\"data row0 col5\" >False</td>\n",
       "      <td id=\"T_cff5d_row0_col6\" class=\"data row0 col6\" >2021-10-07</td>\n",
       "      <td id=\"T_cff5d_row0_col7\" class=\"data row0 col7\" >amit@example.com</td>\n",
       "      <td id=\"T_cff5d_row0_col8\" class=\"data row0 col8\" >254803</td>\n",
       "      <td id=\"T_cff5d_row0_col9\" class=\"data row0 col9\" >India</td>\n",
       "    </tr>\n",
       "    <tr>\n",
       "      <td id=\"T_cff5d_row1_col0\" class=\"data row1 col0\" >S002</td>\n",
       "      <td id=\"T_cff5d_row1_col1\" class=\"data row1 col1\" >Rajesh Singh</td>\n",
       "      <td id=\"T_cff5d_row1_col2\" class=\"data row1 col2\" >20</td>\n",
       "      <td id=\"T_cff5d_row1_col3\" class=\"data row1 col3\" >B</td>\n",
       "      <td id=\"T_cff5d_row1_col4\" class=\"data row1 col4\" >3.200000</td>\n",
       "      <td id=\"T_cff5d_row1_col5\" class=\"data row1 col5\" >True</td>\n",
       "      <td id=\"T_cff5d_row1_col6\" class=\"data row1 col6\" >2022-10-25</td>\n",
       "      <td id=\"T_cff5d_row1_col7\" class=\"data row1 col7\" >rajesh@example.com</td>\n",
       "      <td id=\"T_cff5d_row1_col8\" class=\"data row1 col8\" >257067</td>\n",
       "      <td id=\"T_cff5d_row1_col9\" class=\"data row1 col9\" >India</td>\n",
       "    </tr>\n",
       "    <tr>\n",
       "      <td id=\"T_cff5d_row2_col0\" class=\"data row2 col0\" >S003</td>\n",
       "      <td id=\"T_cff5d_row2_col1\" class=\"data row2 col1\" >Sunil Joshi</td>\n",
       "      <td id=\"T_cff5d_row2_col2\" class=\"data row2 col2\" >23</td>\n",
       "      <td id=\"T_cff5d_row2_col3\" class=\"data row2 col3\" >D</td>\n",
       "      <td id=\"T_cff5d_row2_col4\" class=\"data row2 col4\" >3.160000</td>\n",
       "      <td id=\"T_cff5d_row2_col5\" class=\"data row2 col5\" >True</td>\n",
       "      <td id=\"T_cff5d_row2_col6\" class=\"data row2 col6\" >2021-08-03</td>\n",
       "      <td id=\"T_cff5d_row2_col7\" class=\"data row2 col7\" >sunil@example.com</td>\n",
       "      <td id=\"T_cff5d_row2_col8\" class=\"data row2 col8\" >251665</td>\n",
       "      <td id=\"T_cff5d_row2_col9\" class=\"data row2 col9\" >India</td>\n",
       "    </tr>\n",
       "    <tr>\n",
       "      <td id=\"T_cff5d_row3_col0\" class=\"data row3 col0\" >S004</td>\n",
       "      <td id=\"T_cff5d_row3_col1\" class=\"data row3 col1\" >Bob Brown</td>\n",
       "      <td id=\"T_cff5d_row3_col2\" class=\"data row3 col2\" >23</td>\n",
       "      <td id=\"T_cff5d_row3_col3\" class=\"data row3 col3\" >C</td>\n",
       "      <td id=\"T_cff5d_row3_col4\" class=\"data row3 col4\" >3.120000</td>\n",
       "      <td id=\"T_cff5d_row3_col5\" class=\"data row3 col5\" >True</td>\n",
       "      <td id=\"T_cff5d_row3_col6\" class=\"data row3 col6\" >2020-12-08</td>\n",
       "      <td id=\"T_cff5d_row3_col7\" class=\"data row3 col7\" >bob@example.com</td>\n",
       "      <td id=\"T_cff5d_row3_col8\" class=\"data row3 col8\" >252291</td>\n",
       "      <td id=\"T_cff5d_row3_col9\" class=\"data row3 col9\" >US</td>\n",
       "    </tr>\n",
       "    <tr>\n",
       "      <td id=\"T_cff5d_row4_col0\" class=\"data row4 col0\" >S005</td>\n",
       "      <td id=\"T_cff5d_row4_col1\" class=\"data row4 col1\" >Anjali Mehta</td>\n",
       "      <td id=\"T_cff5d_row4_col2\" class=\"data row4 col2\" >19</td>\n",
       "      <td id=\"T_cff5d_row4_col3\" class=\"data row4 col3\" >A</td>\n",
       "      <td id=\"T_cff5d_row4_col4\" class=\"data row4 col4\" >3.760000</td>\n",
       "      <td id=\"T_cff5d_row4_col5\" class=\"data row4 col5\" >True</td>\n",
       "      <td id=\"T_cff5d_row4_col6\" class=\"data row4 col6\" >2022-11-18</td>\n",
       "      <td id=\"T_cff5d_row4_col7\" class=\"data row4 col7\" >anjali@example.com</td>\n",
       "      <td id=\"T_cff5d_row4_col8\" class=\"data row4 col8\" >257167</td>\n",
       "      <td id=\"T_cff5d_row4_col9\" class=\"data row4 col9\" >India</td>\n",
       "    </tr>\n",
       "    <tr>\n",
       "      <td id=\"T_cff5d_row5_col0\" class=\"data row5 col0\" >S006</td>\n",
       "      <td id=\"T_cff5d_row5_col1\" class=\"data row5 col1\" >Akiko Yoshida</td>\n",
       "      <td id=\"T_cff5d_row5_col2\" class=\"data row5 col2\" >19</td>\n",
       "      <td id=\"T_cff5d_row5_col3\" class=\"data row5 col3\" >A</td>\n",
       "      <td id=\"T_cff5d_row5_col4\" class=\"data row5 col4\" >3.210000</td>\n",
       "      <td id=\"T_cff5d_row5_col5\" class=\"data row5 col5\" >False</td>\n",
       "      <td id=\"T_cff5d_row5_col6\" class=\"data row5 col6\" >2022-11-24</td>\n",
       "      <td id=\"T_cff5d_row5_col7\" class=\"data row5 col7\" >akiko@example.com</td>\n",
       "      <td id=\"T_cff5d_row5_col8\" class=\"data row5 col8\" >251188</td>\n",
       "      <td id=\"T_cff5d_row5_col9\" class=\"data row5 col9\" >Japan</td>\n",
       "    </tr>\n",
       "    <tr>\n",
       "      <td id=\"T_cff5d_row6_col0\" class=\"data row6 col0\" >S007</td>\n",
       "      <td id=\"T_cff5d_row6_col1\" class=\"data row6 col1\" >Yuki Watanabe</td>\n",
       "      <td id=\"T_cff5d_row6_col2\" class=\"data row6 col2\" >21</td>\n",
       "      <td id=\"T_cff5d_row6_col3\" class=\"data row6 col3\" >F</td>\n",
       "      <td id=\"T_cff5d_row6_col4\" class=\"data row6 col4\" >3.500000</td>\n",
       "      <td id=\"T_cff5d_row6_col5\" class=\"data row6 col5\" >True</td>\n",
       "      <td id=\"T_cff5d_row6_col6\" class=\"data row6 col6\" >2020-12-10</td>\n",
       "      <td id=\"T_cff5d_row6_col7\" class=\"data row6 col7\" >yuki@example.com</td>\n",
       "      <td id=\"T_cff5d_row6_col8\" class=\"data row6 col8\" >254920</td>\n",
       "      <td id=\"T_cff5d_row6_col9\" class=\"data row6 col9\" >Japan</td>\n",
       "    </tr>\n",
       "    <tr>\n",
       "      <td id=\"T_cff5d_row7_col0\" class=\"data row7 col0\" >S008</td>\n",
       "      <td id=\"T_cff5d_row7_col1\" class=\"data row7 col1\" >Alice Johnson</td>\n",
       "      <td id=\"T_cff5d_row7_col2\" class=\"data row7 col2\" >25</td>\n",
       "      <td id=\"T_cff5d_row7_col3\" class=\"data row7 col3\" >F</td>\n",
       "      <td id=\"T_cff5d_row7_col4\" class=\"data row7 col4\" >3.500000</td>\n",
       "      <td id=\"T_cff5d_row7_col5\" class=\"data row7 col5\" >True</td>\n",
       "      <td id=\"T_cff5d_row7_col6\" class=\"data row7 col6\" >2022-09-13</td>\n",
       "      <td id=\"T_cff5d_row7_col7\" class=\"data row7 col7\" >alice@example.com</td>\n",
       "      <td id=\"T_cff5d_row7_col8\" class=\"data row7 col8\" >254530</td>\n",
       "      <td id=\"T_cff5d_row7_col9\" class=\"data row7 col9\" >US</td>\n",
       "    </tr>\n",
       "    <tr>\n",
       "      <td id=\"T_cff5d_row8_col0\" class=\"data row8 col0\" >S009</td>\n",
       "      <td id=\"T_cff5d_row8_col1\" class=\"data row8 col1\" >Meera Patel</td>\n",
       "      <td id=\"T_cff5d_row8_col2\" class=\"data row8 col2\" >24</td>\n",
       "      <td id=\"T_cff5d_row8_col3\" class=\"data row8 col3\" >C</td>\n",
       "      <td id=\"T_cff5d_row8_col4\" class=\"data row8 col4\" >2.540000</td>\n",
       "      <td id=\"T_cff5d_row8_col5\" class=\"data row8 col5\" >True</td>\n",
       "      <td id=\"T_cff5d_row8_col6\" class=\"data row8 col6\" >2022-02-07</td>\n",
       "      <td id=\"T_cff5d_row8_col7\" class=\"data row8 col7\" >meera@example.com</td>\n",
       "      <td id=\"T_cff5d_row8_col8\" class=\"data row8 col8\" >257987</td>\n",
       "      <td id=\"T_cff5d_row8_col9\" class=\"data row8 col9\" >India</td>\n",
       "    </tr>\n",
       "    <tr>\n",
       "      <td id=\"T_cff5d_row9_col0\" class=\"data row9 col0\" >S010</td>\n",
       "      <td id=\"T_cff5d_row9_col1\" class=\"data row9 col1\" >Vikram Choudhary</td>\n",
       "      <td id=\"T_cff5d_row9_col2\" class=\"data row9 col2\" >22</td>\n",
       "      <td id=\"T_cff5d_row9_col3\" class=\"data row9 col3\" >D</td>\n",
       "      <td id=\"T_cff5d_row9_col4\" class=\"data row9 col4\" >3.010000</td>\n",
       "      <td id=\"T_cff5d_row9_col5\" class=\"data row9 col5\" >True</td>\n",
       "      <td id=\"T_cff5d_row9_col6\" class=\"data row9 col6\" >2020-06-16</td>\n",
       "      <td id=\"T_cff5d_row9_col7\" class=\"data row9 col7\" >vikram@example.com</td>\n",
       "      <td id=\"T_cff5d_row9_col8\" class=\"data row9 col8\" >256150</td>\n",
       "      <td id=\"T_cff5d_row9_col9\" class=\"data row9 col9\" >India</td>\n",
       "    </tr>\n",
       "    <tr>\n",
       "      <td id=\"T_cff5d_row10_col0\" class=\"data row10 col0\" >S011</td>\n",
       "      <td id=\"T_cff5d_row10_col1\" class=\"data row10 col1\" >Carol Davis</td>\n",
       "      <td id=\"T_cff5d_row10_col2\" class=\"data row10 col2\" >25</td>\n",
       "      <td id=\"T_cff5d_row10_col3\" class=\"data row10 col3\" >C</td>\n",
       "      <td id=\"T_cff5d_row10_col4\" class=\"data row10 col4\" >3.290000</td>\n",
       "      <td id=\"T_cff5d_row10_col5\" class=\"data row10 col5\" >True</td>\n",
       "      <td id=\"T_cff5d_row10_col6\" class=\"data row10 col6\" >2020-07-27</td>\n",
       "      <td id=\"T_cff5d_row10_col7\" class=\"data row10 col7\" >carol@example.com</td>\n",
       "      <td id=\"T_cff5d_row10_col8\" class=\"data row10 col8\" >251637</td>\n",
       "      <td id=\"T_cff5d_row10_col9\" class=\"data row10 col9\" >US</td>\n",
       "    </tr>\n",
       "    <tr>\n",
       "      <td id=\"T_cff5d_row11_col0\" class=\"data row11 col0\" >S012</td>\n",
       "      <td id=\"T_cff5d_row11_col1\" class=\"data row11 col1\" >Sita Devi</td>\n",
       "      <td id=\"T_cff5d_row11_col2\" class=\"data row11 col2\" >18</td>\n",
       "      <td id=\"T_cff5d_row11_col3\" class=\"data row11 col3\" >F</td>\n",
       "      <td id=\"T_cff5d_row11_col4\" class=\"data row11 col4\" >3.220000</td>\n",
       "      <td id=\"T_cff5d_row11_col5\" class=\"data row11 col5\" >False</td>\n",
       "      <td id=\"T_cff5d_row11_col6\" class=\"data row11 col6\" >2021-05-13</td>\n",
       "      <td id=\"T_cff5d_row11_col7\" class=\"data row11 col7\" >sita@example.com</td>\n",
       "      <td id=\"T_cff5d_row11_col8\" class=\"data row11 col8\" >256652</td>\n",
       "      <td id=\"T_cff5d_row11_col9\" class=\"data row11 col9\" >India</td>\n",
       "    </tr>\n",
       "    <tr>\n",
       "      <td id=\"T_cff5d_row12_col0\" class=\"data row12 col0\" >S013</td>\n",
       "      <td id=\"T_cff5d_row12_col1\" class=\"data row12 col1\" >Hank Lee</td>\n",
       "      <td id=\"T_cff5d_row12_col2\" class=\"data row12 col2\" >19</td>\n",
       "      <td id=\"T_cff5d_row12_col3\" class=\"data row12 col3\" >D</td>\n",
       "      <td id=\"T_cff5d_row12_col4\" class=\"data row12 col4\" >2.170000</td>\n",
       "      <td id=\"T_cff5d_row12_col5\" class=\"data row12 col5\" >True</td>\n",
       "      <td id=\"T_cff5d_row12_col6\" class=\"data row12 col6\" >2021-05-16</td>\n",
       "      <td id=\"T_cff5d_row12_col7\" class=\"data row12 col7\" >hank@example.com</td>\n",
       "      <td id=\"T_cff5d_row12_col8\" class=\"data row12 col8\" >256076</td>\n",
       "      <td id=\"T_cff5d_row12_col9\" class=\"data row12 col9\" >US</td>\n",
       "    </tr>\n",
       "    <tr>\n",
       "      <td id=\"T_cff5d_row13_col0\" class=\"data row13 col0\" >S014</td>\n",
       "      <td id=\"T_cff5d_row13_col1\" class=\"data row13 col1\" >Frank Moore</td>\n",
       "      <td id=\"T_cff5d_row13_col2\" class=\"data row13 col2\" >20</td>\n",
       "      <td id=\"T_cff5d_row13_col3\" class=\"data row13 col3\" >F</td>\n",
       "      <td id=\"T_cff5d_row13_col4\" class=\"data row13 col4\" >3.460000</td>\n",
       "      <td id=\"T_cff5d_row13_col5\" class=\"data row13 col5\" >True</td>\n",
       "      <td id=\"T_cff5d_row13_col6\" class=\"data row13 col6\" >2020-09-27</td>\n",
       "      <td id=\"T_cff5d_row13_col7\" class=\"data row13 col7\" >frank@example.com</td>\n",
       "      <td id=\"T_cff5d_row13_col8\" class=\"data row13 col8\" >251574</td>\n",
       "      <td id=\"T_cff5d_row13_col9\" class=\"data row13 col9\" >US</td>\n",
       "    </tr>\n",
       "    <tr>\n",
       "      <td id=\"T_cff5d_row14_col0\" class=\"data row14 col0\" >S015</td>\n",
       "      <td id=\"T_cff5d_row14_col1\" class=\"data row14 col1\" >Miyu Yamamoto</td>\n",
       "      <td id=\"T_cff5d_row14_col2\" class=\"data row14 col2\" >25</td>\n",
       "      <td id=\"T_cff5d_row14_col3\" class=\"data row14 col3\" >C</td>\n",
       "      <td id=\"T_cff5d_row14_col4\" class=\"data row14 col4\" >3.500000</td>\n",
       "      <td id=\"T_cff5d_row14_col5\" class=\"data row14 col5\" >False</td>\n",
       "      <td id=\"T_cff5d_row14_col6\" class=\"data row14 col6\" >2022-11-17</td>\n",
       "      <td id=\"T_cff5d_row14_col7\" class=\"data row14 col7\" >miyu@example.com</td>\n",
       "      <td id=\"T_cff5d_row14_col8\" class=\"data row14 col8\" >255395</td>\n",
       "      <td id=\"T_cff5d_row14_col9\" class=\"data row14 col9\" >Japan</td>\n",
       "    </tr>\n",
       "    <tr>\n",
       "      <td id=\"T_cff5d_row15_col0\" class=\"data row15 col0\" >S016</td>\n",
       "      <td id=\"T_cff5d_row15_col1\" class=\"data row15 col1\" >Eve Wilson</td>\n",
       "      <td id=\"T_cff5d_row15_col2\" class=\"data row15 col2\" >19</td>\n",
       "      <td id=\"T_cff5d_row15_col3\" class=\"data row15 col3\" >F</td>\n",
       "      <td id=\"T_cff5d_row15_col4\" class=\"data row15 col4\" >2.700000</td>\n",
       "      <td id=\"T_cff5d_row15_col5\" class=\"data row15 col5\" >False</td>\n",
       "      <td id=\"T_cff5d_row15_col6\" class=\"data row15 col6\" >2020-11-23</td>\n",
       "      <td id=\"T_cff5d_row15_col7\" class=\"data row15 col7\" >eve@example.com</td>\n",
       "      <td id=\"T_cff5d_row15_col8\" class=\"data row15 col8\" >251102</td>\n",
       "      <td id=\"T_cff5d_row15_col9\" class=\"data row15 col9\" >US</td>\n",
       "    </tr>\n",
       "    <tr>\n",
       "      <td id=\"T_cff5d_row16_col0\" class=\"data row16 col0\" >S017</td>\n",
       "      <td id=\"T_cff5d_row16_col1\" class=\"data row16 col1\" >Hanako Suzuki</td>\n",
       "      <td id=\"T_cff5d_row16_col2\" class=\"data row16 col2\" >22</td>\n",
       "      <td id=\"T_cff5d_row16_col3\" class=\"data row16 col3\" >A</td>\n",
       "      <td id=\"T_cff5d_row16_col4\" class=\"data row16 col4\" >2.990000</td>\n",
       "      <td id=\"T_cff5d_row16_col5\" class=\"data row16 col5\" >True</td>\n",
       "      <td id=\"T_cff5d_row16_col6\" class=\"data row16 col6\" >2021-09-25</td>\n",
       "      <td id=\"T_cff5d_row16_col7\" class=\"data row16 col7\" >hanako@example.com</td>\n",
       "      <td id=\"T_cff5d_row16_col8\" class=\"data row16 col8\" >257222</td>\n",
       "      <td id=\"T_cff5d_row16_col9\" class=\"data row16 col9\" >Japan</td>\n",
       "    </tr>\n",
       "    <tr>\n",
       "      <td id=\"T_cff5d_row17_col0\" class=\"data row17 col0\" >S018</td>\n",
       "      <td id=\"T_cff5d_row17_col1\" class=\"data row17 col1\" >Rina Kato</td>\n",
       "      <td id=\"T_cff5d_row17_col2\" class=\"data row17 col2\" >25</td>\n",
       "      <td id=\"T_cff5d_row17_col3\" class=\"data row17 col3\" >D</td>\n",
       "      <td id=\"T_cff5d_row17_col4\" class=\"data row17 col4\" >2.070000</td>\n",
       "      <td id=\"T_cff5d_row17_col5\" class=\"data row17 col5\" >False</td>\n",
       "      <td id=\"T_cff5d_row17_col6\" class=\"data row17 col6\" >2022-02-15</td>\n",
       "      <td id=\"T_cff5d_row17_col7\" class=\"data row17 col7\" >rina@example.com</td>\n",
       "      <td id=\"T_cff5d_row17_col8\" class=\"data row17 col8\" >253994</td>\n",
       "      <td id=\"T_cff5d_row17_col9\" class=\"data row17 col9\" >Japan</td>\n",
       "    </tr>\n",
       "    <tr>\n",
       "      <td id=\"T_cff5d_row18_col0\" class=\"data row18 col0\" >S019</td>\n",
       "      <td id=\"T_cff5d_row18_col1\" class=\"data row18 col1\" >Satoshi Sato</td>\n",
       "      <td id=\"T_cff5d_row18_col2\" class=\"data row18 col2\" >22</td>\n",
       "      <td id=\"T_cff5d_row18_col3\" class=\"data row18 col3\" >B</td>\n",
       "      <td id=\"T_cff5d_row18_col4\" class=\"data row18 col4\" >3.410000</td>\n",
       "      <td id=\"T_cff5d_row18_col5\" class=\"data row18 col5\" >True</td>\n",
       "      <td id=\"T_cff5d_row18_col6\" class=\"data row18 col6\" >2021-01-12</td>\n",
       "      <td id=\"T_cff5d_row18_col7\" class=\"data row18 col7\" >satoshi@example.com</td>\n",
       "      <td id=\"T_cff5d_row18_col8\" class=\"data row18 col8\" >256752</td>\n",
       "      <td id=\"T_cff5d_row18_col9\" class=\"data row18 col9\" >Japan</td>\n",
       "    </tr>\n",
       "    <tr>\n",
       "      <td id=\"T_cff5d_row19_col0\" class=\"data row19 col0\" >S020</td>\n",
       "      <td id=\"T_cff5d_row19_col1\" class=\"data row19 col1\" >John Doe</td>\n",
       "      <td id=\"T_cff5d_row19_col2\" class=\"data row19 col2\" >18</td>\n",
       "      <td id=\"T_cff5d_row19_col3\" class=\"data row19 col3\" >F</td>\n",
       "      <td id=\"T_cff5d_row19_col4\" class=\"data row19 col4\" >2.870000</td>\n",
       "      <td id=\"T_cff5d_row19_col5\" class=\"data row19 col5\" >False</td>\n",
       "      <td id=\"T_cff5d_row19_col6\" class=\"data row19 col6\" >2020-10-06</td>\n",
       "      <td id=\"T_cff5d_row19_col7\" class=\"data row19 col7\" >john@example.com</td>\n",
       "      <td id=\"T_cff5d_row19_col8\" class=\"data row19 col8\" >251511</td>\n",
       "      <td id=\"T_cff5d_row19_col9\" class=\"data row19 col9\" >US</td>\n",
       "    </tr>\n",
       "    <tr>\n",
       "      <td id=\"T_cff5d_row20_col0\" class=\"data row20 col0\" >S021</td>\n",
       "      <td id=\"T_cff5d_row20_col1\" class=\"data row20 col1\" >Pooja Sharma</td>\n",
       "      <td id=\"T_cff5d_row20_col2\" class=\"data row20 col2\" >24</td>\n",
       "      <td id=\"T_cff5d_row20_col3\" class=\"data row20 col3\" >A</td>\n",
       "      <td id=\"T_cff5d_row20_col4\" class=\"data row20 col4\" >2.120000</td>\n",
       "      <td id=\"T_cff5d_row20_col5\" class=\"data row20 col5\" >True</td>\n",
       "      <td id=\"T_cff5d_row20_col6\" class=\"data row20 col6\" >2021-02-09</td>\n",
       "      <td id=\"T_cff5d_row20_col7\" class=\"data row20 col7\" >pooja@example.com</td>\n",
       "      <td id=\"T_cff5d_row20_col8\" class=\"data row20 col8\" >254858</td>\n",
       "      <td id=\"T_cff5d_row20_col9\" class=\"data row20 col9\" >India</td>\n",
       "    </tr>\n",
       "    <tr>\n",
       "      <td id=\"T_cff5d_row21_col0\" class=\"data row21 col0\" >S022</td>\n",
       "      <td id=\"T_cff5d_row21_col1\" class=\"data row21 col1\" >Neha Verma</td>\n",
       "      <td id=\"T_cff5d_row21_col2\" class=\"data row21 col2\" >24</td>\n",
       "      <td id=\"T_cff5d_row21_col3\" class=\"data row21 col3\" >C</td>\n",
       "      <td id=\"T_cff5d_row21_col4\" class=\"data row21 col4\" >3.670000</td>\n",
       "      <td id=\"T_cff5d_row21_col5\" class=\"data row21 col5\" >True</td>\n",
       "      <td id=\"T_cff5d_row21_col6\" class=\"data row21 col6\" >2020-03-15</td>\n",
       "      <td id=\"T_cff5d_row21_col7\" class=\"data row21 col7\" >neha@example.com</td>\n",
       "      <td id=\"T_cff5d_row21_col8\" class=\"data row21 col8\" >254415</td>\n",
       "      <td id=\"T_cff5d_row21_col9\" class=\"data row21 col9\" >India</td>\n",
       "    </tr>\n",
       "    <tr>\n",
       "      <td id=\"T_cff5d_row22_col0\" class=\"data row22 col0\" >S023</td>\n",
       "      <td id=\"T_cff5d_row22_col1\" class=\"data row22 col1\" >Taro Yamada</td>\n",
       "      <td id=\"T_cff5d_row22_col2\" class=\"data row22 col2\" >18</td>\n",
       "      <td id=\"T_cff5d_row22_col3\" class=\"data row22 col3\" >F</td>\n",
       "      <td id=\"T_cff5d_row22_col4\" class=\"data row22 col4\" >2.730000</td>\n",
       "      <td id=\"T_cff5d_row22_col5\" class=\"data row22 col5\" >True</td>\n",
       "      <td id=\"T_cff5d_row22_col6\" class=\"data row22 col6\" >2022-08-25</td>\n",
       "      <td id=\"T_cff5d_row22_col7\" class=\"data row22 col7\" >taro@example.com</td>\n",
       "      <td id=\"T_cff5d_row22_col8\" class=\"data row22 col8\" >254923</td>\n",
       "      <td id=\"T_cff5d_row22_col9\" class=\"data row22 col9\" >Japan</td>\n",
       "    </tr>\n",
       "    <tr>\n",
       "      <td id=\"T_cff5d_row23_col0\" class=\"data row23 col0\" >S024</td>\n",
       "      <td id=\"T_cff5d_row23_col1\" class=\"data row23 col1\" >Koji Nakamura</td>\n",
       "      <td id=\"T_cff5d_row23_col2\" class=\"data row23 col2\" >22</td>\n",
       "      <td id=\"T_cff5d_row23_col3\" class=\"data row23 col3\" >F</td>\n",
       "      <td id=\"T_cff5d_row23_col4\" class=\"data row23 col4\" >3.850000</td>\n",
       "      <td id=\"T_cff5d_row23_col5\" class=\"data row23 col5\" >False</td>\n",
       "      <td id=\"T_cff5d_row23_col6\" class=\"data row23 col6\" >2021-03-07</td>\n",
       "      <td id=\"T_cff5d_row23_col7\" class=\"data row23 col7\" >koji@example.com</td>\n",
       "      <td id=\"T_cff5d_row23_col8\" class=\"data row23 col8\" >259560</td>\n",
       "      <td id=\"T_cff5d_row23_col9\" class=\"data row23 col9\" >Japan</td>\n",
       "    </tr>\n",
       "    <tr>\n",
       "      <td id=\"T_cff5d_row24_col0\" class=\"data row24 col0\" >S025</td>\n",
       "      <td id=\"T_cff5d_row24_col1\" class=\"data row24 col1\" >Hiroshi Ito</td>\n",
       "      <td id=\"T_cff5d_row24_col2\" class=\"data row24 col2\" >24</td>\n",
       "      <td id=\"T_cff5d_row24_col3\" class=\"data row24 col3\" >C</td>\n",
       "      <td id=\"T_cff5d_row24_col4\" class=\"data row24 col4\" >3.070000</td>\n",
       "      <td id=\"T_cff5d_row24_col5\" class=\"data row24 col5\" >False</td>\n",
       "      <td id=\"T_cff5d_row24_col6\" class=\"data row24 col6\" >2020-12-17</td>\n",
       "      <td id=\"T_cff5d_row24_col7\" class=\"data row24 col7\" >hiroshi@example.com</td>\n",
       "      <td id=\"T_cff5d_row24_col8\" class=\"data row24 col8\" >256051</td>\n",
       "      <td id=\"T_cff5d_row24_col9\" class=\"data row24 col9\" >Japan</td>\n",
       "    </tr>\n",
       "    <tr>\n",
       "      <td id=\"T_cff5d_row25_col0\" class=\"data row25 col0\" >S026</td>\n",
       "      <td id=\"T_cff5d_row25_col1\" class=\"data row25 col1\" >Jane Smith</td>\n",
       "      <td id=\"T_cff5d_row25_col2\" class=\"data row25 col2\" >25</td>\n",
       "      <td id=\"T_cff5d_row25_col3\" class=\"data row25 col3\" >F</td>\n",
       "      <td id=\"T_cff5d_row25_col4\" class=\"data row25 col4\" >2.760000</td>\n",
       "      <td id=\"T_cff5d_row25_col5\" class=\"data row25 col5\" >True</td>\n",
       "      <td id=\"T_cff5d_row25_col6\" class=\"data row25 col6\" >2020-08-01</td>\n",
       "      <td id=\"T_cff5d_row25_col7\" class=\"data row25 col7\" >jane@example.com</td>\n",
       "      <td id=\"T_cff5d_row25_col8\" class=\"data row25 col8\" >256436</td>\n",
       "      <td id=\"T_cff5d_row25_col9\" class=\"data row25 col9\" >US</td>\n",
       "    </tr>\n",
       "    <tr>\n",
       "      <td id=\"T_cff5d_row26_col0\" class=\"data row26 col0\" >S027</td>\n",
       "      <td id=\"T_cff5d_row26_col1\" class=\"data row26 col1\" >Kenta Tanaka</td>\n",
       "      <td id=\"T_cff5d_row26_col2\" class=\"data row26 col2\" >23</td>\n",
       "      <td id=\"T_cff5d_row26_col3\" class=\"data row26 col3\" >F</td>\n",
       "      <td id=\"T_cff5d_row26_col4\" class=\"data row26 col4\" >2.650000</td>\n",
       "      <td id=\"T_cff5d_row26_col5\" class=\"data row26 col5\" >True</td>\n",
       "      <td id=\"T_cff5d_row26_col6\" class=\"data row26 col6\" >2022-11-11</td>\n",
       "      <td id=\"T_cff5d_row26_col7\" class=\"data row26 col7\" >kenta@example.com</td>\n",
       "      <td id=\"T_cff5d_row26_col8\" class=\"data row26 col8\" >256600</td>\n",
       "      <td id=\"T_cff5d_row26_col9\" class=\"data row26 col9\" >Japan</td>\n",
       "    </tr>\n",
       "    <tr>\n",
       "      <td id=\"T_cff5d_row27_col0\" class=\"data row27 col0\" >S028</td>\n",
       "      <td id=\"T_cff5d_row27_col1\" class=\"data row27 col1\" >Dave Miller</td>\n",
       "      <td id=\"T_cff5d_row27_col2\" class=\"data row27 col2\" >18</td>\n",
       "      <td id=\"T_cff5d_row27_col3\" class=\"data row27 col3\" >C</td>\n",
       "      <td id=\"T_cff5d_row27_col4\" class=\"data row27 col4\" >2.250000</td>\n",
       "      <td id=\"T_cff5d_row27_col5\" class=\"data row27 col5\" >True</td>\n",
       "      <td id=\"T_cff5d_row27_col6\" class=\"data row27 col6\" >2020-01-16</td>\n",
       "      <td id=\"T_cff5d_row27_col7\" class=\"data row27 col7\" >dave@example.com</td>\n",
       "      <td id=\"T_cff5d_row27_col8\" class=\"data row27 col8\" >252794</td>\n",
       "      <td id=\"T_cff5d_row27_col9\" class=\"data row27 col9\" >US</td>\n",
       "    </tr>\n",
       "    <tr>\n",
       "      <td id=\"T_cff5d_row28_col0\" class=\"data row28 col0\" >S029</td>\n",
       "      <td id=\"T_cff5d_row28_col1\" class=\"data row28 col1\" >Anil Gupta</td>\n",
       "      <td id=\"T_cff5d_row28_col2\" class=\"data row28 col2\" >19</td>\n",
       "      <td id=\"T_cff5d_row28_col3\" class=\"data row28 col3\" >C</td>\n",
       "      <td id=\"T_cff5d_row28_col4\" class=\"data row28 col4\" >3.020000</td>\n",
       "      <td id=\"T_cff5d_row28_col5\" class=\"data row28 col5\" >False</td>\n",
       "      <td id=\"T_cff5d_row28_col6\" class=\"data row28 col6\" >2022-03-19</td>\n",
       "      <td id=\"T_cff5d_row28_col7\" class=\"data row28 col7\" >anil@example.com</td>\n",
       "      <td id=\"T_cff5d_row28_col8\" class=\"data row28 col8\" >255333</td>\n",
       "      <td id=\"T_cff5d_row28_col9\" class=\"data row28 col9\" >India</td>\n",
       "    </tr>\n",
       "    <tr>\n",
       "      <td id=\"T_cff5d_row29_col0\" class=\"data row29 col0\" >S030</td>\n",
       "      <td id=\"T_cff5d_row29_col1\" class=\"data row29 col1\" >Grace Taylor</td>\n",
       "      <td id=\"T_cff5d_row29_col2\" class=\"data row29 col2\" >19</td>\n",
       "      <td id=\"T_cff5d_row29_col3\" class=\"data row29 col3\" >F</td>\n",
       "      <td id=\"T_cff5d_row29_col4\" class=\"data row29 col4\" >2.840000</td>\n",
       "      <td id=\"T_cff5d_row29_col5\" class=\"data row29 col5\" >False</td>\n",
       "      <td id=\"T_cff5d_row29_col6\" class=\"data row29 col6\" >2021-12-25</td>\n",
       "      <td id=\"T_cff5d_row29_col7\" class=\"data row29 col7\" >grace@example.com</td>\n",
       "      <td id=\"T_cff5d_row29_col8\" class=\"data row29 col8\" >256470</td>\n",
       "      <td id=\"T_cff5d_row29_col9\" class=\"data row29 col9\" >US</td>\n",
       "    </tr>\n",
       "  </tbody>\n",
       "</table>\n"
      ],
      "text/plain": [
       "<pandas.io.formats.style.Styler at 0x18f479d1090>"
      ]
     },
     "execution_count": 42,
     "metadata": {},
     "output_type": "execute_result"
    }
   ],
   "source": [
    "df.style.hide()"
   ]
  },
  {
   "cell_type": "code",
   "execution_count": 43,
   "id": "dd0d0b54",
   "metadata": {},
   "outputs": [],
   "source": [
    "df.to_csv(\"Students.csv\")"
   ]
  },
  {
   "cell_type": "code",
   "execution_count": null,
   "id": "39734276",
   "metadata": {},
   "outputs": [],
   "source": [
    "# STUDENTS OF ABC INSTITUTE OF TECHNOLOGY"
   ]
  },
  {
   "cell_type": "markdown",
   "id": "b9e361ef",
   "metadata": {},
   "source": [
    "# START HERE -->"
   ]
  },
  {
   "cell_type": "markdown",
   "id": "25e409a4",
   "metadata": {},
   "source": [
    "The tutorial covers: \n",
    "* Introduction to Jupyter Notebook\n",
    "* Arithmetic operations with Python\n",
    "* Addressing multi-step challenges using variables\n",
    "* Conditions using Python\n",
    "* Merging conditions through logical operators\n"
   ]
  },
  {
   "cell_type": "markdown",
   "id": "6ec87f5d",
   "metadata": {},
   "source": [
    "## # *Introduction to Jupyter Notebook*"
   ]
  },
  {
   "cell_type": "markdown",
   "id": "bdd1f419",
   "metadata": {},
   "source": [
    "* In Jupyter, code cells provide an interactive Python coding environment, allowing you to write, execute,\n",
    "and experiment with your Python scripts. \n"
   ]
  },
  {
   "cell_type": "code",
   "execution_count": null,
   "id": "8a59563c",
   "metadata": {},
   "outputs": [],
   "source": [
    "# prints string or anything that is already defined"
   ]
  },
  {
   "cell_type": "code",
   "execution_count": 50,
   "id": "156fbec5",
   "metadata": {},
   "outputs": [
    {
     "name": "stdout",
     "output_type": "stream",
     "text": [
      "Hello World, Welcome to ABC Institute of Technology\n"
     ]
    }
   ],
   "source": [
    "print(\"Hello World, Welcome to ABC Institute of Technology\")"
   ]
  },
  {
   "cell_type": "code",
   "execution_count": 57,
   "id": "f40605b5",
   "metadata": {},
   "outputs": [
    {
     "name": "stdout",
     "output_type": "stream",
     "text": [
      "Bob Brown\n"
     ]
    }
   ],
   "source": [
    "print(\"Bob Brown\")"
   ]
  },
  {
   "cell_type": "code",
   "execution_count": 58,
   "id": "eb23baaa",
   "metadata": {},
   "outputs": [],
   "source": [
    "#or\n",
    "name = \"Bob Brown\""
   ]
  },
  {
   "cell_type": "code",
   "execution_count": 59,
   "id": "3a71b2e9",
   "metadata": {},
   "outputs": [
    {
     "name": "stdout",
     "output_type": "stream",
     "text": [
      "Bob Brown\n"
     ]
    }
   ],
   "source": [
    "print(name)"
   ]
  },
  {
   "cell_type": "code",
   "execution_count": 60,
   "id": "93a3c097",
   "metadata": {},
   "outputs": [
    {
     "name": "stdout",
     "output_type": "stream",
     "text": [
      "21\n"
     ]
    }
   ],
   "source": [
    "print(21)"
   ]
  },
  {
   "cell_type": "code",
   "execution_count": 61,
   "id": "0a2ade3d",
   "metadata": {},
   "outputs": [],
   "source": [
    "age = 21"
   ]
  },
  {
   "cell_type": "code",
   "execution_count": 62,
   "id": "7b8c6f54",
   "metadata": {},
   "outputs": [
    {
     "name": "stdout",
     "output_type": "stream",
     "text": [
      "21\n"
     ]
    }
   ],
   "source": [
    "print(age)"
   ]
  },
  {
   "cell_type": "code",
   "execution_count": null,
   "id": "02f8876f",
   "metadata": {},
   "outputs": [],
   "source": [
    "# Additional formatting using print"
   ]
  },
  {
   "cell_type": "code",
   "execution_count": 49,
   "id": "2e179364",
   "metadata": {},
   "outputs": [
    {
     "name": "stdout",
     "output_type": "stream",
     "text": [
      "ABC Institute of Technology\n"
     ]
    }
   ],
   "source": [
    "print('',sep='\\n')\n",
    "# sep='+', \\n\\n"
   ]
  },
  {
   "cell_type": "code",
   "execution_count": 64,
   "id": "969edfc4",
   "metadata": {},
   "outputs": [],
   "source": [
    "var1 = 'ABC Institute'\n",
    "var2 = 'of Technology'\n",
    "var3 = \"for AI\""
   ]
  },
  {
   "cell_type": "code",
   "execution_count": 68,
   "id": "aee3f356",
   "metadata": {},
   "outputs": [
    {
     "name": "stdout",
     "output_type": "stream",
     "text": [
      "ABC Institute oo\n",
      "of Technology\n",
      "for AI\n"
     ]
    }
   ],
   "source": [
    "print(str1,end='\\n')\n",
    "print(str2,end = '\\n')\n",
    "print(str3)"
   ]
  },
  {
   "cell_type": "code",
   "execution_count": null,
   "id": "614921c8",
   "metadata": {},
   "outputs": [],
   "source": [
    "# Print age of student as 22"
   ]
  },
  {
   "cell_type": "code",
   "execution_count": 69,
   "id": "43b4d47d",
   "metadata": {},
   "outputs": [
    {
     "name": "stdout",
     "output_type": "stream",
     "text": [
      "22\n"
     ]
    }
   ],
   "source": [
    "age = 22\n",
    "print(age)\n",
    "# The age of the student is 22"
   ]
  },
  {
   "cell_type": "code",
   "execution_count": 71,
   "id": "581f30c8",
   "metadata": {},
   "outputs": [
    {
     "name": "stdout",
     "output_type": "stream",
     "text": [
      "The age of the student is:  22\n"
     ]
    }
   ],
   "source": [
    "print(\"The age of the student is: \", age)"
   ]
  },
  {
   "cell_type": "code",
   "execution_count": 73,
   "id": "108c8e43",
   "metadata": {},
   "outputs": [],
   "source": [
    "age1 = 20\n",
    "age2 = 30\n",
    "age3 = 22"
   ]
  },
  {
   "cell_type": "code",
   "execution_count": 74,
   "id": "7baef0c6",
   "metadata": {},
   "outputs": [
    {
     "name": "stdout",
     "output_type": "stream",
     "text": [
      "The age of the 3 students :  20 30 22\n"
     ]
    }
   ],
   "source": [
    "print(\"The age of the 3 students : \", age1, age2,age3)"
   ]
  },
  {
   "cell_type": "code",
   "execution_count": 81,
   "id": "7a82b5e7",
   "metadata": {},
   "outputs": [
    {
     "name": "stdout",
     "output_type": "stream",
     "text": [
      "Amit GPA is 2.7 \n"
     ]
    }
   ],
   "source": [
    "name = \"Amit\"\n",
    "gpa = 2.7\n",
    "country  = \"India\"\n",
    "print(\"{0} GPA is {1} \".format(name,gpa))\n"
   ]
  },
  {
   "cell_type": "code",
   "execution_count": 86,
   "id": "3413017e",
   "metadata": {},
   "outputs": [
    {
     "name": "stdout",
     "output_type": "stream",
     "text": [
      "Amit GPA is 2.7 and he is from India \n"
     ]
    }
   ],
   "source": [
    "print(\"{0} GPA is {1} and he is from {2} \".format(name,gpa,country))"
   ]
  },
  {
   "cell_type": "code",
   "execution_count": 88,
   "id": "007659d2",
   "metadata": {},
   "outputs": [
    {
     "name": "stdout",
     "output_type": "stream",
     "text": [
      "Amit GPA is 2.7 and he is from India\n"
     ]
    }
   ],
   "source": [
    "## declaring variables\n",
    "name = \"Amit\"\n",
    "gpa = 2.7\n",
    "\n",
    "## enclose your variable within the {} to display it's value in the output\n",
    "print(f\"{name} GPA is {gpa} and he is from {country}\")\n"
   ]
  },
  {
   "cell_type": "code",
   "execution_count": null,
   "id": "bfd71e34",
   "metadata": {},
   "outputs": [],
   "source": [
    "# .format needs numbering\n",
    "# f string needs variable names in curly braces"
   ]
  },
  {
   "cell_type": "code",
   "execution_count": 12,
   "id": "3b213286",
   "metadata": {},
   "outputs": [
    {
     "name": "stdout",
     "output_type": "stream",
     "text": [
      "8\n"
     ]
    }
   ],
   "source": [
    "print(f\"{3 + 5}\") # Expression"
   ]
  },
  {
   "cell_type": "markdown",
   "id": "d508f7f0",
   "metadata": {},
   "source": [
    "* Markdown cells are used for text and documentation, offering a \n",
    "convenient way to include explanations, notes, and formatted content. \n"
   ]
  },
  {
   "cell_type": "markdown",
   "id": "4d35f45e",
   "metadata": {},
   "source": [
    "1. **Headings** - Fonts controlled using #\n",
    "\n",
    "# AIML\n",
    "## AIML\n",
    "### AIML\n",
    "#### AIML\n",
    "\n"
   ]
  },
  {
   "cell_type": "markdown",
   "id": "10e8654a",
   "metadata": {},
   "source": [
    "2. **Bullet Lists**\n",
    "* AIML\n",
    "* AIML\n",
    "* AIML\n",
    "\n"
   ]
  },
  {
   "cell_type": "markdown",
   "id": "e4153c66",
   "metadata": {},
   "source": [
    "3. **Numbered list**\n",
    "\n",
    "1. AIML\n",
    "2. AIML\n",
    "3. AIML"
   ]
  },
  {
   "cell_type": "markdown",
   "id": "91b97ef5",
   "metadata": {},
   "source": [
    "### Basics of Jupyter"
   ]
  },
  {
   "cell_type": "markdown",
   "id": "6c3b048b",
   "metadata": {},
   "source": [
    "* *Creating a new file*\n",
    "* *Opening an existing file*\n",
    "* *Inserting a new cell*\n",
    "* *Deleting a cell*\n",
    "* *Running the cell* - *Shift + Enter*\n",
    "* *Kernel* - *IPython includes a kernel for Python code*\n",
    "\n"
   ]
  },
  {
   "cell_type": "code",
   "execution_count": 2,
   "id": "af3684df",
   "metadata": {},
   "outputs": [],
   "source": [
    "a = 10\n",
    "b = 20"
   ]
  },
  {
   "cell_type": "code",
   "execution_count": 3,
   "id": "6d83cc6d",
   "metadata": {},
   "outputs": [
    {
     "data": {
      "text/plain": [
       "(10, 20)"
      ]
     },
     "execution_count": 3,
     "metadata": {},
     "output_type": "execute_result"
    }
   ],
   "source": [
    "a,b"
   ]
  },
  {
   "cell_type": "markdown",
   "id": "52fc682e",
   "metadata": {},
   "source": [
    "# Arithmatic Operations"
   ]
  },
  {
   "attachments": {
    "operations.png": {
     "image/png": "[encoded data removed]"
    }
   },
   "cell_type": "markdown",
   "id": "885f66b4",
   "metadata": {},
   "source": [
    "![operations.png](attachment:operations.png)"
   ]
  },
  {
   "cell_type": "code",
   "execution_count": null,
   "id": "1a7e9d45",
   "metadata": {},
   "outputs": [],
   "source": [
    "2 +3"
   ]
  },
  {
   "cell_type": "code",
   "execution_count": null,
   "id": "04966094",
   "metadata": {},
   "outputs": [],
   "source": [
    "22 -56"
   ]
  },
  {
   "cell_type": "code",
   "execution_count": null,
   "id": "2924c125",
   "metadata": {},
   "outputs": [],
   "source": [
    "3 * 7"
   ]
  },
  {
   "cell_type": "code",
   "execution_count": null,
   "id": "5fa6c9e8",
   "metadata": {},
   "outputs": [],
   "source": [
    "21 / 7"
   ]
  },
  {
   "cell_type": "code",
   "execution_count": null,
   "id": "4d68944e",
   "metadata": {},
   "outputs": [],
   "source": [
    "10 ** 3"
   ]
  },
  {
   "cell_type": "markdown",
   "id": "b400490b",
   "metadata": {},
   "source": [
    "* *Word Problems*"
   ]
  },
  {
   "cell_type": "markdown",
   "id": "f9bb0dc1",
   "metadata": {},
   "source": [
    "1. Amit has 60 dollars and Bob has 20 dollars. How much dollars they have in total?\n",
    "\n"
   ]
  },
  {
   "cell_type": "code",
   "execution_count": 90,
   "id": "746d97f9",
   "metadata": {},
   "outputs": [],
   "source": [
    "amit = 60\n",
    "bob = 20"
   ]
  },
  {
   "cell_type": "code",
   "execution_count": 91,
   "id": "9542a87c",
   "metadata": {},
   "outputs": [
    {
     "data": {
      "text/plain": [
       "80"
      ]
     },
     "execution_count": 91,
     "metadata": {},
     "output_type": "execute_result"
    }
   ],
   "source": [
    "total = amit + bob"
   ]
  },
  {
   "cell_type": "markdown",
   "id": "f1088b80",
   "metadata": {},
   "source": [
    "2.  One classroom in ABC INSTITUTE has 25 rows of seats with 20 seats in each row. How many seats are there in total?"
   ]
  },
  {
   "cell_type": "code",
   "execution_count": 93,
   "id": "f046c517",
   "metadata": {},
   "outputs": [],
   "source": [
    "number_of_rows = 25\n",
    "number_in_each_row = 20"
   ]
  },
  {
   "cell_type": "code",
   "execution_count": 94,
   "id": "220f329a",
   "metadata": {},
   "outputs": [
    {
     "data": {
      "text/plain": [
       "500"
      ]
     },
     "execution_count": 94,
     "metadata": {},
     "output_type": "execute_result"
    }
   ],
   "source": [
    "total = number_of_rows * number_in_each_row"
   ]
  },
  {
   "cell_type": "markdown",
   "id": "ad027c30",
   "metadata": {},
   "source": [
    "3. There is a group of 10 students who are ordering pizza. If each person gets 2 slices and each pizza has 4 slices, how many pizzas should they order?"
   ]
  },
  {
   "cell_type": "markdown",
   "id": "dcda217d",
   "metadata": {},
   "source": [
    "List out the information given in the problem.\n",
    "* *Number of students = 10*\n",
    "* *Per students Slices = 2*\n",
    "* *Per Pizza slices = 4*\n",
    "\n",
    "* *Total Slices needed*  = 10 * 2*\n",
    "* *Total Pizzas needed = Total Slices needed / per Pizza slices*"
   ]
  },
  {
   "cell_type": "code",
   "execution_count": 8,
   "id": "62600d67",
   "metadata": {},
   "outputs": [
    {
     "data": {
      "text/plain": [
       "5.0"
      ]
     },
     "execution_count": 8,
     "metadata": {},
     "output_type": "execute_result"
    }
   ],
   "source": [
    "(10 * 2)/4"
   ]
  },
  {
   "cell_type": "markdown",
   "id": "b0e81dd3",
   "metadata": {},
   "source": [
    "So total number of pizzas required are 5."
   ]
  },
  {
   "cell_type": "markdown",
   "id": "d023f4f5",
   "metadata": {},
   "source": [
    "**Variables**: While working with a programming language such as Python, informations is stored in *variables*. You can think of variables as containers for storing data. The data stored within a variable is called it's *value*."
   ]
  },
  {
   "cell_type": "code",
   "execution_count": 11,
   "id": "9a3b98d5",
   "metadata": {},
   "outputs": [],
   "source": [
    "Number_of_persons = 10\n",
    "Per_person_Slices = 2\n",
    "Per_Pizza_slices = 4\n",
    "\n",
    "Total_Slices_needed  = 10 * 2\n",
    "Total_Pizzas_needed = Total_Slices_needed / Per_Pizza_slices"
   ]
  },
  {
   "cell_type": "code",
   "execution_count": 12,
   "id": "a066b4af",
   "metadata": {},
   "outputs": [
    {
     "data": {
      "text/plain": [
       "5.0"
      ]
     },
     "execution_count": 12,
     "metadata": {},
     "output_type": "execute_result"
    }
   ],
   "source": [
    "Total_Pizzas_needed"
   ]
  },
  {
   "cell_type": "markdown",
   "id": "e550435b",
   "metadata": {},
   "source": [
    "#### Print Function"
   ]
  },
  {
   "cell_type": "code",
   "execution_count": 14,
   "id": "ae17cf20",
   "metadata": {},
   "outputs": [
    {
     "name": "stdout",
     "output_type": "stream",
     "text": [
      "The total Pizzas needed are :  5.0\n"
     ]
    }
   ],
   "source": [
    "print(\"The total Pizzas needed are : \",Total_Pizzas_needed)"
   ]
  },
  {
   "cell_type": "code",
   "execution_count": 16,
   "id": "8fd48542",
   "metadata": {},
   "outputs": [
    {
     "name": "stdout",
     "output_type": "stream",
     "text": [
      "The total Pizzas needed are : 5.0\n"
     ]
    }
   ],
   "source": [
    "print(f\"The total Pizzas needed are : {Total_Pizzas_needed}\")"
   ]
  },
  {
   "cell_type": "code",
   "execution_count": null,
   "id": "deff2420",
   "metadata": {},
   "outputs": [],
   "source": [
    "## Game time....In college we are playing a game of Mathematics... \n",
    "# The game is simple .... we want to compare age of two students... How to do this programatically"
   ]
  },
  {
   "cell_type": "markdown",
   "id": "1424f11d",
   "metadata": {},
   "source": [
    "### Conditions"
   ]
  },
  {
   "cell_type": "markdown",
   "id": "df3ac28e",
   "metadata": {},
   "source": [
    "**Python supports the usual logical conditions from mathematics:**\n",
    "\n",
    "* Equals: a == b\n",
    "* Not Equals: a != b\n",
    "* Less than: a < b\n",
    "* Less than or equal to: a <= b\n",
    "* Greater than: a > b\n",
    "* Greater than or equal to: a >= b\n",
    "\n",
    "**The result of a EXPRESSION is either True or False** \\\n",
    "**EXPRESSION e.g a == b, a< b, a>=b**"
   ]
  },
  {
   "cell_type": "code",
   "execution_count": null,
   "id": "0094e2c9",
   "metadata": {},
   "outputs": [],
   "source": []
  },
  {
   "cell_type": "code",
   "execution_count": 95,
   "id": "7bfcb358",
   "metadata": {},
   "outputs": [],
   "source": [
    "a = 5\n",
    "b = 5"
   ]
  },
  {
   "cell_type": "code",
   "execution_count": 97,
   "id": "993f1ed5",
   "metadata": {},
   "outputs": [
    {
     "data": {
      "text/plain": [
       "False"
      ]
     },
     "execution_count": 97,
     "metadata": {},
     "output_type": "execute_result"
    }
   ],
   "source": [
    "a > b"
   ]
  },
  {
   "cell_type": "code",
   "execution_count": 5,
   "id": "78c8717f",
   "metadata": {},
   "outputs": [],
   "source": [
    "# a = 5\n",
    "# b = 7\n",
    "# c = 5"
   ]
  },
  {
   "cell_type": "code",
   "execution_count": 98,
   "id": "a565cf89",
   "metadata": {},
   "outputs": [
    {
     "name": "stdout",
     "output_type": "stream",
     "text": [
      "Enter Number : 5\n"
     ]
    }
   ],
   "source": [
    "amit_gpa = int(input(\"Amit GPA : \"))"
   ]
  },
  {
   "cell_type": "code",
   "execution_count": 99,
   "id": "278fdcdc",
   "metadata": {},
   "outputs": [
    {
     "name": "stdout",
     "output_type": "stream",
     "text": [
      "Enter Number : 5\n"
     ]
    }
   ],
   "source": [
    "bob_gpa = int(input(\"Bob GPA : \"))"
   ]
  },
  {
   "cell_type": "code",
   "execution_count": 8,
   "id": "a64db7ae",
   "metadata": {},
   "outputs": [
    {
     "name": "stdout",
     "output_type": "stream",
     "text": [
      "Enter Number : 35\n"
     ]
    }
   ],
   "source": [
    "c = int(input(\"Enter Number : \"))"
   ]
  },
  {
   "cell_type": "code",
   "execution_count": 9,
   "id": "0528e144",
   "metadata": {},
   "outputs": [
    {
     "name": "stdout",
     "output_type": "stream",
     "text": [
      "10 equals 20: False\n"
     ]
    }
   ],
   "source": [
    "\n",
    "\n",
    "# Equals: a == b (expression)\n",
    "print(f\"{amit_gpa} equals {bob_gpa}: {amit_gpa == bob_gpa}\")  # Output: False\n",
    "\n",
    "\n"
   ]
  },
  {
   "cell_type": "code",
   "execution_count": 19,
   "id": "4eaf8916",
   "metadata": {},
   "outputs": [
    {
     "name": "stdout",
     "output_type": "stream",
     "text": [
      "5 not equals 7: True\n"
     ]
    }
   ],
   "source": [
    "# Not Equals: a != b\n",
    "print(f\"{amit_gpa} not equals {bob_gpa}: {amit_gpa != bob_gpa}\")  # Output: True\n",
    "\n"
   ]
  },
  {
   "cell_type": "code",
   "execution_count": 20,
   "id": "bf382ddc",
   "metadata": {},
   "outputs": [
    {
     "name": "stdout",
     "output_type": "stream",
     "text": [
      "5 is less than 7: True\n"
     ]
    }
   ],
   "source": [
    "# Less than: a < b\n",
    "print(f\"{amit_gpa} is less than {bob_gpa}: {amit_gpa < bob_gpa}\")  # Output: True\n",
    "\n"
   ]
  },
  {
   "cell_type": "code",
   "execution_count": 21,
   "id": "27c0fc52",
   "metadata": {},
   "outputs": [
    {
     "name": "stdout",
     "output_type": "stream",
     "text": [
      "5 is less than or equal to 7: True\n"
     ]
    }
   ],
   "source": [
    "# Less than or equal to: a <= b\n",
    "print(f\"{amit_gpa} is less than or equal to {bob_gpa}: {amit_gpa <= bob_gpa}\")  # Output: True\n",
    "\n"
   ]
  },
  {
   "cell_type": "code",
   "execution_count": 22,
   "id": "e675b95b",
   "metadata": {},
   "outputs": [
    {
     "name": "stdout",
     "output_type": "stream",
     "text": [
      "5 is greater than 7: False\n"
     ]
    }
   ],
   "source": [
    "# Greater than: a > b\n",
    "print(f\"{amit_gpa} is greater than {bob_gpa}: {amit_gpa > bob_gpa}\")  # Output: False\n",
    "\n"
   ]
  },
  {
   "cell_type": "markdown",
   "id": "57b93eb6",
   "metadata": {},
   "source": [
    "## Logical Operators\n",
    "* and\t--       Logical AND: --    True if both the operands are true\tx and y\n",
    "\n",
    "* or\t--       Logical OR:  --    True if either of the operands is true\tx or y\n",
    "\n",
    "* not\t--       Logical NOT: --    True if operand is false\tnot x"
   ]
  },
  {
   "cell_type": "code",
   "execution_count": null,
   "id": "15725948",
   "metadata": {},
   "outputs": [],
   "source": [
    "# These combine two or more operations"
   ]
  },
  {
   "cell_type": "markdown",
   "id": "82395c91",
   "metadata": {},
   "source": [
    "## Combining conditions with logical operators\n",
    "\n",
    "| `a`     | `b`    | `a and b` |\n",
    "|---------|--------|-----------|\n",
    "|  `True` | `True` | `True`    |\n",
    "|  `True` | `False`| `False`   |\n",
    "|  `False`| `True` | `False`   |\n",
    "|  `False`| `False`| `False`   |\n"
   ]
  },
  {
   "cell_type": "code",
   "execution_count": 108,
   "id": "1d517dc7",
   "metadata": {},
   "outputs": [
    {
     "name": "stdout",
     "output_type": "stream",
     "text": [
      "Enter Amit's age : -15\n",
      "Enter Bob's age : 15\n"
     ]
    }
   ],
   "source": [
    "# Example 1: AND Operator\n",
    "amit_age = int(input(\"Enter Amit's age : \"))\n",
    "bob_age = int(input(\"Enter Bob's age : \"))\n",
    "\n",
    "# I want to check if entered age is valid or not\n",
    "\n",
    "\n"
   ]
  },
  {
   "cell_type": "code",
   "execution_count": 109,
   "id": "274ae536",
   "metadata": {},
   "outputs": [
    {
     "data": {
      "text/plain": [
       "False"
      ]
     },
     "execution_count": 109,
     "metadata": {},
     "output_type": "execute_result"
    }
   ],
   "source": [
    "\n",
    "# Both conditions must be true for the result to be True\n",
    "output  = amit_age > 0 and bob_age >= 0\n",
    "output"
   ]
  },
  {
   "cell_type": "code",
   "execution_count": 111,
   "id": "0d9337d4",
   "metadata": {},
   "outputs": [
    {
     "name": "stdout",
     "output_type": "stream",
     "text": [
      "Entered age is valid : False\n"
     ]
    }
   ],
   "source": [
    "print(f\"Entered age is valid : {output}\")"
   ]
  },
  {
   "cell_type": "code",
   "execution_count": 116,
   "id": "3d83ae1c",
   "metadata": {},
   "outputs": [
    {
     "data": {
      "text/plain": [
       "False"
      ]
     },
     "execution_count": 116,
     "metadata": {},
     "output_type": "execute_result"
    }
   ],
   "source": [
    "# Example 2: OR Operator\n",
    "# I want to check if any any student has age > 20\n",
    "\n",
    "amit_age = 20\n",
    "bob_age = 19\n",
    "\n",
    "# At least one condition must be true for the result to be True\n",
    "output = amit_age > 21 or bob_age > 21\n",
    "output"
   ]
  },
  {
   "cell_type": "code",
   "execution_count": 117,
   "id": "2541359a",
   "metadata": {},
   "outputs": [
    {
     "name": "stdout",
     "output_type": "stream",
     "text": [
      "Any student has age > 21 : False\n"
     ]
    }
   ],
   "source": [
    "print(f\"Any student has age > 21 : {output}\")"
   ]
  },
  {
   "cell_type": "code",
   "execution_count": 118,
   "id": "a1ab70e4",
   "metadata": {},
   "outputs": [
    {
     "data": {
      "text/plain": [
       "False"
      ]
     },
     "execution_count": 118,
     "metadata": {},
     "output_type": "execute_result"
    }
   ],
   "source": [
    "# Example 3: NOT Operator\n",
    "graduated = True\n",
    "\n",
    "# Negates the condition\n",
    "not graduated\n",
    "\n"
   ]
  },
  {
   "cell_type": "code",
   "execution_count": null,
   "id": "362b6523",
   "metadata": {},
   "outputs": [],
   "source": [
    "# Extra --\n",
    "# ZERO is considered as FALSE\n",
    "# Rest all are true"
   ]
  },
  {
   "cell_type": "code",
   "execution_count": 121,
   "id": "e3adcdcb",
   "metadata": {},
   "outputs": [
    {
     "data": {
      "text/plain": [
       "False"
      ]
     },
     "execution_count": 121,
     "metadata": {},
     "output_type": "execute_result"
    }
   ],
   "source": [
    "bool(0)"
   ]
  },
  {
   "cell_type": "markdown",
   "id": "08911e2f",
   "metadata": {},
   "source": [
    "## Further Reading and References\n",
    "* Following are some resources to learn about more arithmetic, conditional and logical operations in Python:\n",
    "\n",
    "* Python Tutorial at W3Schools: https://www.w3schools.com/python/"
   ]
  },
  {
   "cell_type": "code",
   "execution_count": null,
   "id": "c6dbeb9d",
   "metadata": {},
   "outputs": [],
   "source": []
  }
 ],
 "metadata": {
  "kernelspec": {
   "display_name": "Python 3 (ipykernel)",
   "language": "python",
   "name": "python3"
  },
  "language_info": {
   "codemirror_mode": {
    "name": "ipython",
    "version": 3
   },
   "file_extension": ".py",
   "mimetype": "text/x-python",
   "name": "python",
   "nbconvert_exporter": "python",
   "pygments_lexer": "ipython3",
   "version": "3.10.11"
  }
 },
 "nbformat": 4,
 "nbformat_minor": 5
}
