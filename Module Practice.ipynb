{
 "cells": [
  {
   "cell_type": "markdown",
   "id": "b1035e41",
   "metadata": {},
   "source": [
    "# Practice "
   ]
  },
  {
   "cell_type": "code",
   "execution_count": null,
   "id": "b1c6e3f4",
   "metadata": {},
   "outputs": [],
   "source": [
    "### Module: `dict_utils.py`\n",
    "\n",
    "This module will contain two functions: one for handling dictionary operations and another for demonstrating the use of these operations.\n"
   ]
  },
  {
   "cell_type": "code",
   "execution_count": null,
   "id": "56e94403",
   "metadata": {},
   "outputs": [],
   "source": [
    "# record.py\n",
    "\n",
    "students = {\n",
    "    'S001': {'name': 'Amit Kumar', 'age': 21, 'grade': 'D', 'GPA': 2.5},\n",
    "    'S002': {'name': 'Rajesh Singh', 'age': 20, 'grade': 'B', 'GPA': 3.2},\n",
    "    'S003': {'name': 'Sunil Joshi', 'age': 23, 'grade': 'D', 'GPA': 3.16}\n",
    "}\n",
    "\n",
    "\n",
    "def add_student(student):\n",
    "    n = len(students)\n",
    "    # Method 1: Adding a new student\n",
    "    students[\"S00\" + str(n + 1)] = student\n",
    "    return f\"The updated list of student is: {students}\"\n",
    "\n",
    "\n",
    "def update_gpa(id, new_gpa):\n",
    "    # Method 2: Updating a student's GPA\n",
    "    if id in students.keys():\n",
    "        students[id]['GPA'] = new_gpa\n",
    "    else:\n",
    "        return \"Student not found\"\n",
    "\n",
    "\n",
    "def del_student(id):\n",
    "    # Method 3: Deleting a student\n",
    "    if id in students.keys():\n",
    "        del students[id]\n",
    "\n",
    "\n",
    "def show_students():\n",
    "    # Method 4: Iterating over dictionary\n",
    "    print(\"Current students:\")\n",
    "    for student_id, details in students.items():\n",
    "        print(f\"{student_id}: {details['name']} - GPA: {details['GPA']}\")\n"
   ]
  },
  {
   "cell_type": "code",
   "execution_count": null,
   "id": "340d7266",
   "metadata": {},
   "outputs": [],
   "source": [
    "import record\n",
    "\n",
    "record.show_students()\n",
    "student = {'name': ' Kumar', 'age': 19, 'grade': 'D', 'GPA': 3.7}\n",
    "record.update_gpa('S002', 4.7)\n",
    "record.add_student(student)\n",
    "record.del_student('S001')\n",
    "record.show_students()\n"
   ]
  }
 ],
 "metadata": {
  "kernelspec": {
   "display_name": "Python 3 (ipykernel)",
   "language": "python",
   "name": "python3"
  },
  "language_info": {
   "codemirror_mode": {
    "name": "ipython",
    "version": 3
   },
   "file_extension": ".py",
   "mimetype": "text/x-python",
   "name": "python",
   "nbconvert_exporter": "python",
   "pygments_lexer": "ipython3",
   "version": "3.10.11"
  }
 },
 "nbformat": 4,
 "nbformat_minor": 5
}
