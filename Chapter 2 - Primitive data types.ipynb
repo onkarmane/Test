{
 "cells": [
  {
   "cell_type": "markdown",
   "id": "f3d4f905",
   "metadata": {},
   "source": [
    "#  Python for Machine Learning Series\n",
    "\n",
    "This tutorial marks the beginning of a series focused on introducing programming concepts through practical, code-driven lessons using the Python language. Emphasizing a hands-on approach, learners are encouraged to actively engage with the material by executing code and experimenting with examples for an effective learning experience."
   ]
  },
  {
   "cell_type": "code",
   "execution_count": 1,
   "id": "c0914d47",
   "metadata": {},
   "outputs": [],
   "source": [
    "import pandas as pd"
   ]
  },
  {
   "cell_type": "code",
   "execution_count": 2,
   "id": "26091500",
   "metadata": {},
   "outputs": [],
   "source": [
    "df = pd.read_csv(\"Students.csv\")"
   ]
  },
  {
   "cell_type": "code",
   "execution_count": 6,
   "id": "82720499",
   "metadata": {},
   "outputs": [
    {
     "data": {
      "text/html": [
       "<div>\n",
       "<style scoped>\n",
       "    .dataframe tbody tr th:only-of-type {\n",
       "        vertical-align: middle;\n",
       "    }\n",
       "\n",
       "    .dataframe tbody tr th {\n",
       "        vertical-align: top;\n",
       "    }\n",
       "\n",
       "    .dataframe thead th {\n",
       "        text-align: right;\n",
       "    }\n",
       "</style>\n",
       "<table border=\"1\" class=\"dataframe\">\n",
       "  <thead>\n",
       "    <tr style=\"text-align: right;\">\n",
       "      <th></th>\n",
       "      <th>Name</th>\n",
       "      <th>Age</th>\n",
       "      <th>Grade</th>\n",
       "      <th>GPA</th>\n",
       "      <th>Graduated</th>\n",
       "      <th>Enrollment Date</th>\n",
       "      <th>Email</th>\n",
       "      <th>Phone Number</th>\n",
       "      <th>Country</th>\n",
       "    </tr>\n",
       "  </thead>\n",
       "  <tbody>\n",
       "    <tr>\n",
       "      <th>0</th>\n",
       "      <td>Amit Kumar</td>\n",
       "      <td>21</td>\n",
       "      <td>D</td>\n",
       "      <td>2.50</td>\n",
       "      <td>False</td>\n",
       "      <td>2021-10-07</td>\n",
       "      <td>amit@example.com</td>\n",
       "      <td>254803</td>\n",
       "      <td>India</td>\n",
       "    </tr>\n",
       "    <tr>\n",
       "      <th>1</th>\n",
       "      <td>Rajesh Singh</td>\n",
       "      <td>20</td>\n",
       "      <td>B</td>\n",
       "      <td>3.20</td>\n",
       "      <td>True</td>\n",
       "      <td>2022-10-25</td>\n",
       "      <td>rajesh@example.com</td>\n",
       "      <td>257067</td>\n",
       "      <td>India</td>\n",
       "    </tr>\n",
       "    <tr>\n",
       "      <th>2</th>\n",
       "      <td>Sunil Joshi</td>\n",
       "      <td>23</td>\n",
       "      <td>D</td>\n",
       "      <td>3.16</td>\n",
       "      <td>True</td>\n",
       "      <td>2021-08-03</td>\n",
       "      <td>sunil@example.com</td>\n",
       "      <td>251665</td>\n",
       "      <td>India</td>\n",
       "    </tr>\n",
       "    <tr>\n",
       "      <th>3</th>\n",
       "      <td>Bob Brown</td>\n",
       "      <td>23</td>\n",
       "      <td>C</td>\n",
       "      <td>3.12</td>\n",
       "      <td>True</td>\n",
       "      <td>2020-12-08</td>\n",
       "      <td>bob@example.com</td>\n",
       "      <td>252291</td>\n",
       "      <td>US</td>\n",
       "    </tr>\n",
       "    <tr>\n",
       "      <th>4</th>\n",
       "      <td>Anjali Mehta</td>\n",
       "      <td>19</td>\n",
       "      <td>A</td>\n",
       "      <td>3.76</td>\n",
       "      <td>True</td>\n",
       "      <td>2022-11-18</td>\n",
       "      <td>anjali@example.com</td>\n",
       "      <td>257167</td>\n",
       "      <td>India</td>\n",
       "    </tr>\n",
       "    <tr>\n",
       "      <th>5</th>\n",
       "      <td>Akiko Yoshida</td>\n",
       "      <td>19</td>\n",
       "      <td>A</td>\n",
       "      <td>3.21</td>\n",
       "      <td>False</td>\n",
       "      <td>2022-11-24</td>\n",
       "      <td>akiko@example.com</td>\n",
       "      <td>251188</td>\n",
       "      <td>Japan</td>\n",
       "    </tr>\n",
       "    <tr>\n",
       "      <th>6</th>\n",
       "      <td>Yuki Watanabe</td>\n",
       "      <td>21</td>\n",
       "      <td>F</td>\n",
       "      <td>3.50</td>\n",
       "      <td>True</td>\n",
       "      <td>2020-12-10</td>\n",
       "      <td>yuki@example.com</td>\n",
       "      <td>254920</td>\n",
       "      <td>Japan</td>\n",
       "    </tr>\n",
       "    <tr>\n",
       "      <th>7</th>\n",
       "      <td>Alice Johnson</td>\n",
       "      <td>25</td>\n",
       "      <td>F</td>\n",
       "      <td>3.50</td>\n",
       "      <td>True</td>\n",
       "      <td>2022-09-13</td>\n",
       "      <td>alice@example.com</td>\n",
       "      <td>254530</td>\n",
       "      <td>US</td>\n",
       "    </tr>\n",
       "    <tr>\n",
       "      <th>8</th>\n",
       "      <td>Meera Patel</td>\n",
       "      <td>24</td>\n",
       "      <td>C</td>\n",
       "      <td>2.54</td>\n",
       "      <td>True</td>\n",
       "      <td>2022-02-07</td>\n",
       "      <td>meera@example.com</td>\n",
       "      <td>257987</td>\n",
       "      <td>India</td>\n",
       "    </tr>\n",
       "    <tr>\n",
       "      <th>9</th>\n",
       "      <td>Vikram Choudhary</td>\n",
       "      <td>22</td>\n",
       "      <td>D</td>\n",
       "      <td>3.01</td>\n",
       "      <td>True</td>\n",
       "      <td>2020-06-16</td>\n",
       "      <td>vikram@example.com</td>\n",
       "      <td>256150</td>\n",
       "      <td>India</td>\n",
       "    </tr>\n",
       "    <tr>\n",
       "      <th>10</th>\n",
       "      <td>Carol Davis</td>\n",
       "      <td>25</td>\n",
       "      <td>C</td>\n",
       "      <td>3.29</td>\n",
       "      <td>True</td>\n",
       "      <td>2020-07-27</td>\n",
       "      <td>carol@example.com</td>\n",
       "      <td>251637</td>\n",
       "      <td>US</td>\n",
       "    </tr>\n",
       "    <tr>\n",
       "      <th>11</th>\n",
       "      <td>Sita Devi</td>\n",
       "      <td>18</td>\n",
       "      <td>F</td>\n",
       "      <td>3.22</td>\n",
       "      <td>False</td>\n",
       "      <td>2021-05-13</td>\n",
       "      <td>sita@example.com</td>\n",
       "      <td>256652</td>\n",
       "      <td>India</td>\n",
       "    </tr>\n",
       "    <tr>\n",
       "      <th>12</th>\n",
       "      <td>Hank Lee</td>\n",
       "      <td>19</td>\n",
       "      <td>D</td>\n",
       "      <td>2.17</td>\n",
       "      <td>True</td>\n",
       "      <td>2021-05-16</td>\n",
       "      <td>hank@example.com</td>\n",
       "      <td>256076</td>\n",
       "      <td>US</td>\n",
       "    </tr>\n",
       "    <tr>\n",
       "      <th>13</th>\n",
       "      <td>Frank Moore</td>\n",
       "      <td>20</td>\n",
       "      <td>F</td>\n",
       "      <td>3.46</td>\n",
       "      <td>True</td>\n",
       "      <td>2020-09-27</td>\n",
       "      <td>frank@example.com</td>\n",
       "      <td>251574</td>\n",
       "      <td>US</td>\n",
       "    </tr>\n",
       "    <tr>\n",
       "      <th>14</th>\n",
       "      <td>Miyu Yamamoto</td>\n",
       "      <td>25</td>\n",
       "      <td>C</td>\n",
       "      <td>3.50</td>\n",
       "      <td>False</td>\n",
       "      <td>2022-11-17</td>\n",
       "      <td>miyu@example.com</td>\n",
       "      <td>255395</td>\n",
       "      <td>Japan</td>\n",
       "    </tr>\n",
       "    <tr>\n",
       "      <th>15</th>\n",
       "      <td>Eve Wilson</td>\n",
       "      <td>19</td>\n",
       "      <td>F</td>\n",
       "      <td>2.70</td>\n",
       "      <td>False</td>\n",
       "      <td>2020-11-23</td>\n",
       "      <td>eve@example.com</td>\n",
       "      <td>251102</td>\n",
       "      <td>US</td>\n",
       "    </tr>\n",
       "    <tr>\n",
       "      <th>16</th>\n",
       "      <td>Hanako Suzuki</td>\n",
       "      <td>22</td>\n",
       "      <td>A</td>\n",
       "      <td>2.99</td>\n",
       "      <td>True</td>\n",
       "      <td>2021-09-25</td>\n",
       "      <td>hanako@example.com</td>\n",
       "      <td>257222</td>\n",
       "      <td>Japan</td>\n",
       "    </tr>\n",
       "    <tr>\n",
       "      <th>17</th>\n",
       "      <td>Rina Kato</td>\n",
       "      <td>25</td>\n",
       "      <td>D</td>\n",
       "      <td>2.07</td>\n",
       "      <td>False</td>\n",
       "      <td>2022-02-15</td>\n",
       "      <td>rina@example.com</td>\n",
       "      <td>253994</td>\n",
       "      <td>Japan</td>\n",
       "    </tr>\n",
       "    <tr>\n",
       "      <th>18</th>\n",
       "      <td>Satoshi Sato</td>\n",
       "      <td>22</td>\n",
       "      <td>B</td>\n",
       "      <td>3.41</td>\n",
       "      <td>True</td>\n",
       "      <td>2021-01-12</td>\n",
       "      <td>satoshi@example.com</td>\n",
       "      <td>256752</td>\n",
       "      <td>Japan</td>\n",
       "    </tr>\n",
       "    <tr>\n",
       "      <th>19</th>\n",
       "      <td>John Doe</td>\n",
       "      <td>18</td>\n",
       "      <td>F</td>\n",
       "      <td>2.87</td>\n",
       "      <td>False</td>\n",
       "      <td>2020-10-06</td>\n",
       "      <td>john@example.com</td>\n",
       "      <td>251511</td>\n",
       "      <td>US</td>\n",
       "    </tr>\n",
       "    <tr>\n",
       "      <th>20</th>\n",
       "      <td>Pooja Sharma</td>\n",
       "      <td>24</td>\n",
       "      <td>A</td>\n",
       "      <td>2.12</td>\n",
       "      <td>True</td>\n",
       "      <td>2021-02-09</td>\n",
       "      <td>pooja@example.com</td>\n",
       "      <td>254858</td>\n",
       "      <td>India</td>\n",
       "    </tr>\n",
       "    <tr>\n",
       "      <th>21</th>\n",
       "      <td>Neha Verma</td>\n",
       "      <td>24</td>\n",
       "      <td>C</td>\n",
       "      <td>3.67</td>\n",
       "      <td>True</td>\n",
       "      <td>2020-03-15</td>\n",
       "      <td>neha@example.com</td>\n",
       "      <td>254415</td>\n",
       "      <td>India</td>\n",
       "    </tr>\n",
       "    <tr>\n",
       "      <th>22</th>\n",
       "      <td>Taro Yamada</td>\n",
       "      <td>18</td>\n",
       "      <td>F</td>\n",
       "      <td>2.73</td>\n",
       "      <td>True</td>\n",
       "      <td>2022-08-25</td>\n",
       "      <td>taro@example.com</td>\n",
       "      <td>254923</td>\n",
       "      <td>Japan</td>\n",
       "    </tr>\n",
       "    <tr>\n",
       "      <th>23</th>\n",
       "      <td>Koji Nakamura</td>\n",
       "      <td>22</td>\n",
       "      <td>F</td>\n",
       "      <td>3.85</td>\n",
       "      <td>False</td>\n",
       "      <td>2021-03-07</td>\n",
       "      <td>koji@example.com</td>\n",
       "      <td>259560</td>\n",
       "      <td>Japan</td>\n",
       "    </tr>\n",
       "    <tr>\n",
       "      <th>24</th>\n",
       "      <td>Hiroshi Ito</td>\n",
       "      <td>24</td>\n",
       "      <td>C</td>\n",
       "      <td>3.07</td>\n",
       "      <td>False</td>\n",
       "      <td>2020-12-17</td>\n",
       "      <td>hiroshi@example.com</td>\n",
       "      <td>256051</td>\n",
       "      <td>Japan</td>\n",
       "    </tr>\n",
       "    <tr>\n",
       "      <th>25</th>\n",
       "      <td>Jane Smith</td>\n",
       "      <td>25</td>\n",
       "      <td>F</td>\n",
       "      <td>2.76</td>\n",
       "      <td>True</td>\n",
       "      <td>2020-08-01</td>\n",
       "      <td>jane@example.com</td>\n",
       "      <td>256436</td>\n",
       "      <td>US</td>\n",
       "    </tr>\n",
       "    <tr>\n",
       "      <th>26</th>\n",
       "      <td>Kenta Tanaka</td>\n",
       "      <td>23</td>\n",
       "      <td>F</td>\n",
       "      <td>2.65</td>\n",
       "      <td>True</td>\n",
       "      <td>2022-11-11</td>\n",
       "      <td>kenta@example.com</td>\n",
       "      <td>256600</td>\n",
       "      <td>Japan</td>\n",
       "    </tr>\n",
       "    <tr>\n",
       "      <th>27</th>\n",
       "      <td>Dave Miller</td>\n",
       "      <td>18</td>\n",
       "      <td>C</td>\n",
       "      <td>2.25</td>\n",
       "      <td>True</td>\n",
       "      <td>2020-01-16</td>\n",
       "      <td>dave@example.com</td>\n",
       "      <td>252794</td>\n",
       "      <td>US</td>\n",
       "    </tr>\n",
       "    <tr>\n",
       "      <th>28</th>\n",
       "      <td>Anil Gupta</td>\n",
       "      <td>19</td>\n",
       "      <td>C</td>\n",
       "      <td>3.02</td>\n",
       "      <td>False</td>\n",
       "      <td>2022-03-19</td>\n",
       "      <td>anil@example.com</td>\n",
       "      <td>255333</td>\n",
       "      <td>India</td>\n",
       "    </tr>\n",
       "    <tr>\n",
       "      <th>29</th>\n",
       "      <td>Grace Taylor</td>\n",
       "      <td>19</td>\n",
       "      <td>F</td>\n",
       "      <td>2.84</td>\n",
       "      <td>False</td>\n",
       "      <td>2021-12-25</td>\n",
       "      <td>grace@example.com</td>\n",
       "      <td>256470</td>\n",
       "      <td>US</td>\n",
       "    </tr>\n",
       "  </tbody>\n",
       "</table>\n",
       "</div>"
      ],
      "text/plain": [
       "                Name  Age Grade   GPA  Graduated Enrollment Date  \\\n",
       "0         Amit Kumar   21     D  2.50      False      2021-10-07   \n",
       "1       Rajesh Singh   20     B  3.20       True      2022-10-25   \n",
       "2        Sunil Joshi   23     D  3.16       True      2021-08-03   \n",
       "3          Bob Brown   23     C  3.12       True      2020-12-08   \n",
       "4       Anjali Mehta   19     A  3.76       True      2022-11-18   \n",
       "5      Akiko Yoshida   19     A  3.21      False      2022-11-24   \n",
       "6      Yuki Watanabe   21     F  3.50       True      2020-12-10   \n",
       "7      Alice Johnson   25     F  3.50       True      2022-09-13   \n",
       "8        Meera Patel   24     C  2.54       True      2022-02-07   \n",
       "9   Vikram Choudhary   22     D  3.01       True      2020-06-16   \n",
       "10       Carol Davis   25     C  3.29       True      2020-07-27   \n",
       "11         Sita Devi   18     F  3.22      False      2021-05-13   \n",
       "12          Hank Lee   19     D  2.17       True      2021-05-16   \n",
       "13       Frank Moore   20     F  3.46       True      2020-09-27   \n",
       "14     Miyu Yamamoto   25     C  3.50      False      2022-11-17   \n",
       "15        Eve Wilson   19     F  2.70      False      2020-11-23   \n",
       "16     Hanako Suzuki   22     A  2.99       True      2021-09-25   \n",
       "17         Rina Kato   25     D  2.07      False      2022-02-15   \n",
       "18      Satoshi Sato   22     B  3.41       True      2021-01-12   \n",
       "19          John Doe   18     F  2.87      False      2020-10-06   \n",
       "20      Pooja Sharma   24     A  2.12       True      2021-02-09   \n",
       "21        Neha Verma   24     C  3.67       True      2020-03-15   \n",
       "22       Taro Yamada   18     F  2.73       True      2022-08-25   \n",
       "23     Koji Nakamura   22     F  3.85      False      2021-03-07   \n",
       "24       Hiroshi Ito   24     C  3.07      False      2020-12-17   \n",
       "25        Jane Smith   25     F  2.76       True      2020-08-01   \n",
       "26      Kenta Tanaka   23     F  2.65       True      2022-11-11   \n",
       "27       Dave Miller   18     C  2.25       True      2020-01-16   \n",
       "28        Anil Gupta   19     C  3.02      False      2022-03-19   \n",
       "29      Grace Taylor   19     F  2.84      False      2021-12-25   \n",
       "\n",
       "                  Email  Phone Number Country  \n",
       "0      amit@example.com        254803   India  \n",
       "1    rajesh@example.com        257067   India  \n",
       "2     sunil@example.com        251665   India  \n",
       "3       bob@example.com        252291      US  \n",
       "4    anjali@example.com        257167   India  \n",
       "5     akiko@example.com        251188   Japan  \n",
       "6      yuki@example.com        254920   Japan  \n",
       "7     alice@example.com        254530      US  \n",
       "8     meera@example.com        257987   India  \n",
       "9    vikram@example.com        256150   India  \n",
       "10    carol@example.com        251637      US  \n",
       "11     sita@example.com        256652   India  \n",
       "12     hank@example.com        256076      US  \n",
       "13    frank@example.com        251574      US  \n",
       "14     miyu@example.com        255395   Japan  \n",
       "15      eve@example.com        251102      US  \n",
       "16   hanako@example.com        257222   Japan  \n",
       "17     rina@example.com        253994   Japan  \n",
       "18  satoshi@example.com        256752   Japan  \n",
       "19     john@example.com        251511      US  \n",
       "20    pooja@example.com        254858   India  \n",
       "21     neha@example.com        254415   India  \n",
       "22     taro@example.com        254923   Japan  \n",
       "23     koji@example.com        259560   Japan  \n",
       "24  hiroshi@example.com        256051   Japan  \n",
       "25     jane@example.com        256436      US  \n",
       "26    kenta@example.com        256600   Japan  \n",
       "27     dave@example.com        252794      US  \n",
       "28     anil@example.com        255333   India  \n",
       "29    grace@example.com        256470      US  "
      ]
     },
     "execution_count": 6,
     "metadata": {},
     "output_type": "execute_result"
    }
   ],
   "source": [
    "df.iloc[:,2:]"
   ]
  },
  {
   "cell_type": "markdown",
   "id": "cd603098",
   "metadata": {},
   "source": [
    "# START HERE"
   ]
  },
  {
   "cell_type": "markdown",
   "id": "e7de9344",
   "metadata": {},
   "source": [
    "The tutorial covers: \n",
    "* Variables\n",
    "* Primitive Data types - int, string, float, complex, bool\n",
    "* Methods for Primitive Data Types "
   ]
  },
  {
   "cell_type": "markdown",
   "id": "7dd143f3",
   "metadata": {},
   "source": [
    "## Comments"
   ]
  },
  {
   "cell_type": "markdown",
   "id": "106159cc",
   "metadata": {},
   "source": [
    "* To make a comment use #"
   ]
  },
  {
   "cell_type": "markdown",
   "id": "826be9f5",
   "metadata": {},
   "source": [
    "* Docstring  *\"\"\" This is used to write multi-line comment \"\"\"*"
   ]
  },
  {
   "cell_type": "code",
   "execution_count": 7,
   "id": "2d774425",
   "metadata": {},
   "outputs": [
    {
     "data": {
      "text/plain": [
       "' This is multi-line comment\\nMore lines can be written to make multiple comments'"
      ]
     },
     "execution_count": 7,
     "metadata": {},
     "output_type": "execute_result"
    }
   ],
   "source": [
    "\"\"\" This is multi-line comment\n",
    "More lines can be written to make multiple comments\"\"\""
   ]
  },
  {
   "cell_type": "markdown",
   "id": "44658fab",
   "metadata": {},
   "source": [
    "## Variables\n",
    "* Storing information and executing operations on stored data are fundamental functions of computers.\n",
    "* In programming, particularly with Python, we utilize variables as containers to **store data**. \n",
    "* Each variable holds a **specific value**, and creating variables in Python is a straightforward process, as demonstrated in our previous tutorial."
   ]
  },
  {
   "cell_type": "markdown",
   "id": "5c6d60d4",
   "metadata": {},
   "source": [
    "* Creating a variable involves an assignment statement. This statement starts with the variable's name, followed by the assignment operator = (distinct from the equality comparison operator ==), and concludes with the value intended for storage within the variable."
   ]
  },
  {
   "cell_type": "code",
   "execution_count": null,
   "id": "5fcc8adc",
   "metadata": {},
   "outputs": [],
   "source": [
    "gpa = 10"
   ]
  },
  {
   "cell_type": "markdown",
   "id": "e79aabe8",
   "metadata": {},
   "source": [
    "* Multiple values can be assigned at same time"
   ]
  },
  {
   "cell_type": "code",
   "execution_count": 7,
   "id": "d31d9f59",
   "metadata": {},
   "outputs": [],
   "source": [
    "amit_gpa,bob_gpa,alice_gpa = 2.5,3.2,3.7"
   ]
  },
  {
   "cell_type": "code",
   "execution_count": 8,
   "id": "c6016d36",
   "metadata": {},
   "outputs": [
    {
     "data": {
      "text/plain": [
       "(2.5, 3.2, 3.7)"
      ]
     },
     "execution_count": 8,
     "metadata": {},
     "output_type": "execute_result"
    }
   ],
   "source": [
    "amit_gpa,bob_gpa,alice_gpa"
   ]
  },
  {
   "cell_type": "markdown",
   "id": "b82f4cb6",
   "metadata": {},
   "source": [
    "* Change the value of variable"
   ]
  },
  {
   "cell_type": "code",
   "execution_count": 9,
   "id": "4349aa54",
   "metadata": {},
   "outputs": [],
   "source": [
    "amit_gpa = 3.5"
   ]
  },
  {
   "cell_type": "code",
   "execution_count": 10,
   "id": "dcf0615f",
   "metadata": {},
   "outputs": [
    {
     "data": {
      "text/plain": [
       "3.5"
      ]
     },
     "execution_count": 10,
     "metadata": {},
     "output_type": "execute_result"
    }
   ],
   "source": [
    "amit_gpa"
   ]
  },
  {
   "cell_type": "markdown",
   "id": "4caf3f17",
   "metadata": {},
   "source": [
    "* While assigning a new value to a variable, you can also use the previous value of the variable to determine the new value."
   ]
  },
  {
   "cell_type": "code",
   "execution_count": 12,
   "id": "650a219e",
   "metadata": {},
   "outputs": [
    {
     "data": {
      "text/plain": [
       "4.5"
      ]
     },
     "execution_count": 12,
     "metadata": {},
     "output_type": "execute_result"
    }
   ],
   "source": [
    "amit_gpa =amit_gpa + 0.5\n",
    "amit_gpa"
   ]
  },
  {
   "cell_type": "markdown",
   "id": "954a4995",
   "metadata": {},
   "source": [
    "### Rules to define varaible\n",
    "* *Can use lower/upper case alphabets*\n",
    "* *Can use digits(0-9)*\n",
    "* *Can use underscore (_)*\n",
    "* Cannot use reserved keywords in python"
   ]
  },
  {
   "cell_type": "code",
   "execution_count": null,
   "id": "be87d0d8",
   "metadata": {},
   "outputs": [],
   "source": [
    "$age = 20 # Wrong"
   ]
  },
  {
   "cell_type": "code",
   "execution_count": null,
   "id": "db2b5d2e",
   "metadata": {},
   "outputs": [],
   "source": [
    "age_1 = 2 # Correct"
   ]
  },
  {
   "cell_type": "code",
   "execution_count": 6,
   "id": "fa8a675e",
   "metadata": {},
   "outputs": [
    {
     "data": {
      "text/plain": [
       "['False',\n",
       " 'None',\n",
       " 'True',\n",
       " 'and',\n",
       " 'as',\n",
       " 'assert',\n",
       " 'async',\n",
       " 'await',\n",
       " 'break',\n",
       " 'class',\n",
       " 'continue',\n",
       " 'def',\n",
       " 'del',\n",
       " 'elif',\n",
       " 'else',\n",
       " 'except',\n",
       " 'finally',\n",
       " 'for',\n",
       " 'from',\n",
       " 'global',\n",
       " 'if',\n",
       " 'import',\n",
       " 'in',\n",
       " 'is',\n",
       " 'lambda',\n",
       " 'nonlocal',\n",
       " 'not',\n",
       " 'or',\n",
       " 'pass',\n",
       " 'raise',\n",
       " 'return',\n",
       " 'try',\n",
       " 'while',\n",
       " 'with',\n",
       " 'yield']"
      ]
     },
     "execution_count": 6,
     "metadata": {},
     "output_type": "execute_result"
    }
   ],
   "source": [
    "import keyword\n",
    "keyword.kwlist"
   ]
  },
  {
   "cell_type": "code",
   "execution_count": 1,
   "id": "3bfae0ce",
   "metadata": {
    "scrolled": true
   },
   "outputs": [
    {
     "ename": "SyntaxError",
     "evalue": "invalid syntax (3723558046.py, line 1)",
     "output_type": "error",
     "traceback": [
      "\u001b[1;36m  Cell \u001b[1;32mIn[1], line 1\u001b[1;36m\u001b[0m\n\u001b[1;33m    lambda = 20\u001b[0m\n\u001b[1;37m           ^\u001b[0m\n\u001b[1;31mSyntaxError\u001b[0m\u001b[1;31m:\u001b[0m invalid syntax\n"
     ]
    }
   ],
   "source": [
    "lambda = 20\n",
    "print(lambda )"
   ]
  },
  {
   "cell_type": "markdown",
   "id": "fd6bbb79",
   "metadata": {},
   "source": [
    "## Data Types"
   ]
  },
  {
   "cell_type": "markdown",
   "id": "f93067dc",
   "metadata": {},
   "source": [
    "Python has several built-in data types for storing different types of information in variables. Following are at some commonly used data types:\n",
    "\n",
    "1. Integer\n",
    "2. Float\n",
    "3. Boolean\n",
    "4. None\n",
    "5. String\n",
    "6. List\n",
    "7. Tuple\n",
    "8. Dictionary\n",
    "* **Integer, float, boolean, None and string are primitive data types because they represent a single value. Other data types like list, tuple and dictionary are often called data structures or containers because they hold multiple pieces of data together.**"
   ]
  },
  {
   "cell_type": "markdown",
   "id": "f0586958",
   "metadata": {},
   "source": [
    "## INT"
   ]
  },
  {
   "cell_type": "markdown",
   "id": "2cb142d1",
   "metadata": {},
   "source": [
    "* Definition: Integer is a data type that represents whole numbers without any decimal points."
   ]
  },
  {
   "cell_type": "code",
   "execution_count": null,
   "id": "469b9170",
   "metadata": {},
   "outputs": [],
   "source": [
    "# Step 1 -- Representation of INT\n",
    "# Step 2 -- Operations using INT"
   ]
  },
  {
   "cell_type": "code",
   "execution_count": 14,
   "id": "bb751cb4",
   "metadata": {},
   "outputs": [],
   "source": [
    "amit_age = 21"
   ]
  },
  {
   "cell_type": "code",
   "execution_count": 15,
   "id": "ab856f58",
   "metadata": {},
   "outputs": [
    {
     "data": {
      "text/plain": [
       "int"
      ]
     },
     "execution_count": 15,
     "metadata": {},
     "output_type": "execute_result"
    }
   ],
   "source": [
    "type(amit_age)"
   ]
  },
  {
   "cell_type": "code",
   "execution_count": 16,
   "id": "9b626401",
   "metadata": {},
   "outputs": [
    {
     "name": "stdout",
     "output_type": "stream",
     "text": [
      "Enter age: 21\n"
     ]
    }
   ],
   "source": [
    "bob_age = int(input(\"Enter age: \"))"
   ]
  },
  {
   "cell_type": "code",
   "execution_count": 17,
   "id": "f5d55579",
   "metadata": {},
   "outputs": [
    {
     "data": {
      "text/plain": [
       "21"
      ]
     },
     "execution_count": 17,
     "metadata": {},
     "output_type": "execute_result"
    }
   ],
   "source": [
    "bob_age"
   ]
  },
  {
   "cell_type": "code",
   "execution_count": 18,
   "id": "e5102c1f",
   "metadata": {},
   "outputs": [],
   "source": [
    "temp = -10\n"
   ]
  },
  {
   "cell_type": "code",
   "execution_count": 19,
   "id": "f9d197ad",
   "metadata": {},
   "outputs": [
    {
     "data": {
      "text/plain": [
       "int"
      ]
     },
     "execution_count": 19,
     "metadata": {},
     "output_type": "execute_result"
    }
   ],
   "source": [
    "type(temp)"
   ]
  },
  {
   "cell_type": "markdown",
   "id": "4e8e8646",
   "metadata": {},
   "source": [
    "\n",
    "* In Python, there isn't a specific data type called \"short integer\" as in some other programming languages. Python automatically handles integer size based on the value.\n",
    "\n",
    "* Similarly, Python doesn't have a distinct \"long integer\" data type. The standard integer type in Python can handle arbitrarily large values."
   ]
  },
  {
   "cell_type": "markdown",
   "id": "5fcf7c92",
   "metadata": {},
   "source": [
    "* Unsigned Integer:\n",
    "\n",
    "* In Python, all integers are signed, meaning they can represent positive and negative values.\n",
    "* However, you can use the abs() function to obtain the absolute (unsigned) value of an integer."
   ]
  },
  {
   "cell_type": "code",
   "execution_count": 20,
   "id": "d5628fef",
   "metadata": {},
   "outputs": [
    {
     "data": {
      "text/plain": [
       "43"
      ]
     },
     "execution_count": 20,
     "metadata": {},
     "output_type": "execute_result"
    }
   ],
   "source": [
    "# Can I use operators with int ---> YES\n",
    "amit_age = 20\n",
    "bob_age = 23\n",
    "total = amit_age + bob_age\n",
    "total"
   ]
  },
  {
   "cell_type": "code",
   "execution_count": null,
   "id": "cbd12b65",
   "metadata": {},
   "outputs": [],
   "source": [
    "# All Comparision operators can be used with integers ==, !=,>,< >=,<="
   ]
  },
  {
   "cell_type": "code",
   "execution_count": null,
   "id": "624b1a8a",
   "metadata": {},
   "outputs": [],
   "source": [
    "# We can represent \"int\" variable in differnt FORMS\n",
    "\n",
    "# Decimal form Base-10\n",
    "# Allowed Digits 0 - 9\n",
    "year = 2023\n",
    "\n"
   ]
  },
  {
   "cell_type": "code",
   "execution_count": 13,
   "id": "2699b6e7",
   "metadata": {},
   "outputs": [],
   "source": [
    "# Binary form Base-2\n",
    "# Allowed digits 0 and 1\n",
    "\n",
    "b = 0b1010"
   ]
  },
  {
   "cell_type": "code",
   "execution_count": 14,
   "id": "5fbd30ba",
   "metadata": {},
   "outputs": [
    {
     "data": {
      "text/plain": [
       "10"
      ]
     },
     "execution_count": 14,
     "metadata": {},
     "output_type": "execute_result"
    }
   ],
   "source": [
    "b"
   ]
  },
  {
   "cell_type": "markdown",
   "id": "869c219b",
   "metadata": {},
   "source": [
    "## Float\n",
    "* Definition: Float (floating-point) is a data type that represents real numbers with decimal points or exponential notation."
   ]
  },
  {
   "cell_type": "code",
   "execution_count": null,
   "id": "e310999a",
   "metadata": {},
   "outputs": [],
   "source": [
    "# Step 1 -- Representation of FLOAT\n",
    "# Step 2 -- Operations using FLOAT"
   ]
  },
  {
   "cell_type": "code",
   "execution_count": 15,
   "id": "aa2f51c9",
   "metadata": {},
   "outputs": [],
   "source": [
    "gpa = 3.5"
   ]
  },
  {
   "cell_type": "code",
   "execution_count": null,
   "id": "3e1740e6",
   "metadata": {},
   "outputs": [],
   "source": [
    "pi = 3.14 "
   ]
  },
  {
   "cell_type": "code",
   "execution_count": 16,
   "id": "477d94db",
   "metadata": {},
   "outputs": [
    {
     "data": {
      "text/plain": [
       "760.0"
      ]
     },
     "execution_count": 16,
     "metadata": {},
     "output_type": "execute_result"
    }
   ],
   "source": [
    "# We can also use exponential form\n",
    "#Advantage -- Large numbers in compact form\n",
    "f = 7.6e2\n",
    "f"
   ]
  },
  {
   "cell_type": "code",
   "execution_count": 17,
   "id": "fdeaea82",
   "metadata": {},
   "outputs": [],
   "source": [
    "t = 10e10"
   ]
  },
  {
   "cell_type": "code",
   "execution_count": 18,
   "id": "34b644a1",
   "metadata": {},
   "outputs": [
    {
     "data": {
      "text/plain": [
       "100000000000.0"
      ]
     },
     "execution_count": 18,
     "metadata": {},
     "output_type": "execute_result"
    }
   ],
   "source": [
    "t"
   ]
  },
  {
   "cell_type": "code",
   "execution_count": null,
   "id": "c6c35ee5",
   "metadata": {},
   "outputs": [],
   "source": [
    "# All Comparision operators can be used with integers ==, !=,>,< >=,<="
   ]
  },
  {
   "cell_type": "code",
   "execution_count": 24,
   "id": "ea133c63",
   "metadata": {
    "scrolled": true
   },
   "outputs": [
    {
     "data": {
      "text/plain": [
       "False"
      ]
     },
     "execution_count": 24,
     "metadata": {},
     "output_type": "execute_result"
    }
   ],
   "source": [
    "7.2 > 8.9"
   ]
  },
  {
   "cell_type": "code",
   "execution_count": null,
   "id": "bc7b7f0f",
   "metadata": {},
   "outputs": [],
   "source": [
    "# Lets say i want to design an application that will input the age and age should be integer like 21 years and not 21.5 years.\n",
    "# Even if user enters 21.5 I need to conver it into 21"
   ]
  },
  {
   "cell_type": "markdown",
   "id": "fb1b5a79",
   "metadata": {},
   "source": [
    "## Typecasting\n",
    "* Convert from one data type to another"
   ]
  },
  {
   "cell_type": "code",
   "execution_count": 27,
   "id": "a73e2c12",
   "metadata": {},
   "outputs": [],
   "source": [
    "alice_age = 21.2"
   ]
  },
  {
   "cell_type": "code",
   "execution_count": 28,
   "id": "d26073a8",
   "metadata": {},
   "outputs": [
    {
     "data": {
      "text/plain": [
       "21"
      ]
     },
     "execution_count": 28,
     "metadata": {},
     "output_type": "execute_result"
    }
   ],
   "source": [
    "int(alice_age)"
   ]
  },
  {
   "cell_type": "code",
   "execution_count": null,
   "id": "4e776ced",
   "metadata": {},
   "outputs": [],
   "source": []
  },
  {
   "cell_type": "code",
   "execution_count": 13,
   "id": "4897e319",
   "metadata": {},
   "outputs": [
    {
     "data": {
      "text/plain": [
       "3"
      ]
     },
     "execution_count": 13,
     "metadata": {},
     "output_type": "execute_result"
    }
   ],
   "source": [
    "#Convert float to int\n",
    "gpa = 3.72 \n",
    "int(gpa)"
   ]
  },
  {
   "cell_type": "code",
   "execution_count": null,
   "id": "fc3a928b",
   "metadata": {},
   "outputs": [],
   "source": [
    "# Reverse int to float"
   ]
  },
  {
   "cell_type": "code",
   "execution_count": 23,
   "id": "edbf013d",
   "metadata": {},
   "outputs": [
    {
     "data": {
      "text/plain": [
       "2222.0"
      ]
     },
     "execution_count": 23,
     "metadata": {},
     "output_type": "execute_result"
    }
   ],
   "source": [
    "# Convert int to float\n",
    "float(2222)"
   ]
  },
  {
   "cell_type": "code",
   "execution_count": null,
   "id": "e75c1855",
   "metadata": {},
   "outputs": [],
   "source": [
    "# What happens when we do arithmatic operations on different data types"
   ]
  },
  {
   "cell_type": "code",
   "execution_count": 25,
   "id": "57cdfd88",
   "metadata": {},
   "outputs": [
    {
     "data": {
      "text/plain": [
       "4.0"
      ]
     },
     "execution_count": 25,
     "metadata": {},
     "output_type": "execute_result"
    }
   ],
   "source": [
    "# When performing arithmetic, integers become floats if any operand is a float.\n",
    "mul = 2 * 2.0\n",
    "mul"
   ]
  },
  {
   "cell_type": "code",
   "execution_count": 28,
   "id": "6335a4c5",
   "metadata": {},
   "outputs": [
    {
     "data": {
      "text/plain": [
       "7.333333333333333"
      ]
     },
     "execution_count": 28,
     "metadata": {},
     "output_type": "execute_result"
    }
   ],
   "source": [
    "# The division operator (/) always gives a float result, even with integer operands.\n",
    "\n",
    "div = 22/3\n",
    "div\n"
   ]
  },
  {
   "cell_type": "code",
   "execution_count": 29,
   "id": "8bd1358c",
   "metadata": {},
   "outputs": [
    {
     "data": {
      "text/plain": [
       "7"
      ]
     },
     "execution_count": 29,
     "metadata": {},
     "output_type": "execute_result"
    }
   ],
   "source": [
    "# To get an integer result from division, use the // operator instead.\n",
    "22//3"
   ]
  },
  {
   "cell_type": "markdown",
   "id": "5c9c9a79",
   "metadata": {},
   "source": [
    "## None\n",
    "* The None type includes a single value None, used to indicate the absence of a value. None has the type NoneType. It is often used to declare a variable whose value may be assigned later"
   ]
  },
  {
   "cell_type": "code",
   "execution_count": 87,
   "id": "c6a3dc6d",
   "metadata": {},
   "outputs": [
    {
     "data": {
      "text/plain": [
       "NoneType"
      ]
     },
     "execution_count": 87,
     "metadata": {},
     "output_type": "execute_result"
    }
   ],
   "source": [
    "var = None\n",
    "type(var)"
   ]
  },
  {
   "cell_type": "markdown",
   "id": "ed2a6d98",
   "metadata": {},
   "source": [
    "## BOOL\n",
    "* Bool data type assumes only 2 values True and False"
   ]
  },
  {
   "cell_type": "code",
   "execution_count": 29,
   "id": "03b5bc58",
   "metadata": {},
   "outputs": [
    {
     "data": {
      "text/plain": [
       "True"
      ]
     },
     "execution_count": 29,
     "metadata": {},
     "output_type": "execute_result"
    }
   ],
   "source": [
    "graduated = True\n",
    "graduated"
   ]
  },
  {
   "cell_type": "code",
   "execution_count": null,
   "id": "1be9a1b8",
   "metadata": {},
   "outputs": [],
   "source": [
    "# Convert other data type to bool"
   ]
  },
  {
   "cell_type": "code",
   "execution_count": null,
   "id": "7cecb3ab",
   "metadata": {},
   "outputs": [],
   "source": [
    "# For Boolean 0 is false and other than zero its TRUE"
   ]
  },
  {
   "cell_type": "code",
   "execution_count": 30,
   "id": "18b88dc8",
   "metadata": {},
   "outputs": [
    {
     "data": {
      "text/plain": [
       "True"
      ]
     },
     "execution_count": 30,
     "metadata": {},
     "output_type": "execute_result"
    }
   ],
   "source": [
    "bool(1.2)"
   ]
  },
  {
   "cell_type": "code",
   "execution_count": 33,
   "id": "506353cd",
   "metadata": {},
   "outputs": [
    {
     "data": {
      "text/plain": [
       "False"
      ]
     },
     "execution_count": 33,
     "metadata": {},
     "output_type": "execute_result"
    }
   ],
   "source": [
    "bool(0)"
   ]
  },
  {
   "cell_type": "code",
   "execution_count": null,
   "id": "957ad11f",
   "metadata": {},
   "outputs": [],
   "source": [
    "# Bool value of : 0, NULL, empty lists, tuples, dictionaries, etc. is FALSE"
   ]
  },
  {
   "cell_type": "code",
   "execution_count": 82,
   "id": "d93ee099",
   "metadata": {},
   "outputs": [
    {
     "data": {
      "text/plain": [
       "False"
      ]
     },
     "execution_count": 82,
     "metadata": {},
     "output_type": "execute_result"
    }
   ],
   "source": [
    "bool(None)"
   ]
  },
  {
   "cell_type": "code",
   "execution_count": 83,
   "id": "a29e7939",
   "metadata": {},
   "outputs": [
    {
     "data": {
      "text/plain": [
       "False"
      ]
     },
     "execution_count": 83,
     "metadata": {},
     "output_type": "execute_result"
    }
   ],
   "source": [
    "bool(0)"
   ]
  },
  {
   "cell_type": "code",
   "execution_count": 84,
   "id": "20e32199",
   "metadata": {},
   "outputs": [
    {
     "data": {
      "text/plain": [
       "False"
      ]
     },
     "execution_count": 84,
     "metadata": {},
     "output_type": "execute_result"
    }
   ],
   "source": [
    "bool([])"
   ]
  },
  {
   "cell_type": "markdown",
   "id": "8f6e57b6",
   "metadata": {},
   "source": [
    "## String\n",
    "\n",
    "* A string is a sequence of characters enclosed within single or double quotes.\n",
    "\n",
    "\n"
   ]
  },
  {
   "cell_type": "code",
   "execution_count": null,
   "id": "01e9aafd",
   "metadata": {},
   "outputs": [],
   "source": [
    "# Representation of Strings"
   ]
  },
  {
   "cell_type": "code",
   "execution_count": 31,
   "id": "a3c5c5ca",
   "metadata": {},
   "outputs": [
    {
     "data": {
      "text/plain": [
       "'Alice'"
      ]
     },
     "execution_count": 31,
     "metadata": {},
     "output_type": "execute_result"
    }
   ],
   "source": [
    "i = \"Alice\"\n",
    "i"
   ]
  },
  {
   "cell_type": "code",
   "execution_count": 32,
   "id": "171b3353",
   "metadata": {},
   "outputs": [
    {
     "data": {
      "text/plain": [
       "'Alice'"
      ]
     },
     "execution_count": 32,
     "metadata": {},
     "output_type": "execute_result"
    }
   ],
   "source": [
    "i = 'Alice'\n",
    "i"
   ]
  },
  {
   "cell_type": "code",
   "execution_count": 33,
   "id": "20a04cef",
   "metadata": {},
   "outputs": [
    {
     "data": {
      "text/plain": [
       "'Alice studies AI '"
      ]
     },
     "execution_count": 33,
     "metadata": {},
     "output_type": "execute_result"
    }
   ],
   "source": [
    "i = \"Alice studies AI \"\n",
    "i"
   ]
  },
  {
   "cell_type": "code",
   "execution_count": 37,
   "id": "ece48b0b",
   "metadata": {},
   "outputs": [],
   "source": [
    "#Multiline\n",
    "multi_line = \"\"\"Alice studies AI\n",
    "Bob also studies AI \"\"\""
   ]
  },
  {
   "cell_type": "code",
   "execution_count": 38,
   "id": "1d52cc63",
   "metadata": {},
   "outputs": [
    {
     "name": "stdout",
     "output_type": "stream",
     "text": [
      "Alice studies AI\n",
      "Bob also studies AI \n"
     ]
    }
   ],
   "source": [
    "print(multi_line)"
   ]
  },
  {
   "cell_type": "code",
   "execution_count": 36,
   "id": "9ff8363d",
   "metadata": {},
   "outputs": [],
   "source": [
    "# The backslash () is used as an escape character to include special characters in a string.\n",
    "\n",
    "# string = 'Hello, I\\'m a string with a single quote.'"
   ]
  },
  {
   "cell_type": "code",
   "execution_count": 37,
   "id": "a6468a0d",
   "metadata": {},
   "outputs": [
    {
     "data": {
      "text/plain": [
       "\"Hello, I'm a string with a single quote.\""
      ]
     },
     "execution_count": 37,
     "metadata": {},
     "output_type": "execute_result"
    }
   ],
   "source": [
    "string"
   ]
  },
  {
   "cell_type": "code",
   "execution_count": 39,
   "id": "740b89fa",
   "metadata": {},
   "outputs": [
    {
     "name": "stdout",
     "output_type": "stream",
     "text": [
      "Alice studies AI.\n",
      "Bob also studies AI.\n"
     ]
    }
   ],
   "source": [
    "# The \\n escape sequence represents a newline character, creating a line break.\n",
    "\n",
    "\n",
    "d = \"Alice studies AI.\\nBob also studies AI.\"\n",
    "print(d)"
   ]
  },
  {
   "cell_type": "markdown",
   "id": "af30502b",
   "metadata": {},
   "source": [
    "#### String slicing -- Data Extraction"
   ]
  },
  {
   "cell_type": "code",
   "execution_count": null,
   "id": "1c28a3d8",
   "metadata": {},
   "outputs": [],
   "source": [
    "# Task : We are looking for students whose name starts with A"
   ]
  },
  {
   "cell_type": "code",
   "execution_count": 41,
   "id": "1754fa18",
   "metadata": {},
   "outputs": [],
   "source": [
    "student_one = \"Alice\"\n",
    "student_two = \"Amit\"\n",
    "student_three = \"Bob\"\n"
   ]
  },
  {
   "cell_type": "code",
   "execution_count": 42,
   "id": "9a7b6f4e",
   "metadata": {},
   "outputs": [
    {
     "data": {
      "text/plain": [
       "'Alice'"
      ]
     },
     "execution_count": 42,
     "metadata": {},
     "output_type": "execute_result"
    }
   ],
   "source": [
    "student_one"
   ]
  },
  {
   "cell_type": "code",
   "execution_count": null,
   "id": "e8f69f08",
   "metadata": {},
   "outputs": [],
   "source": []
  },
  {
   "cell_type": "code",
   "execution_count": 43,
   "id": "25dcbc8f",
   "metadata": {},
   "outputs": [
    {
     "name": "stdout",
     "output_type": "stream",
     "text": [
      "A\n"
     ]
    }
   ],
   "source": [
    "print(student_one[0])  # prints 1st element"
   ]
  },
  {
   "cell_type": "code",
   "execution_count": 44,
   "id": "ccd1268a",
   "metadata": {},
   "outputs": [
    {
     "name": "stdout",
     "output_type": "stream",
     "text": [
      "A\n"
     ]
    }
   ],
   "source": [
    "print(student_two[0])"
   ]
  },
  {
   "cell_type": "code",
   "execution_count": null,
   "id": "d3a9d642",
   "metadata": {},
   "outputs": [],
   "source": [
    "# Task : We are looking for students whose name ends with e"
   ]
  },
  {
   "cell_type": "code",
   "execution_count": 45,
   "id": "5c3e5a7f",
   "metadata": {},
   "outputs": [
    {
     "name": "stdout",
     "output_type": "stream",
     "text": [
      "e\n"
     ]
    }
   ],
   "source": [
    "print(student_one[-1])  # prints last element\n"
   ]
  },
  {
   "cell_type": "code",
   "execution_count": null,
   "id": "b56c8360",
   "metadata": {},
   "outputs": [],
   "source": [
    "# What if I want to print n elemnts of name and n > 1\n",
    "# n = 3"
   ]
  },
  {
   "cell_type": "code",
   "execution_count": 46,
   "id": "3b8d746a",
   "metadata": {},
   "outputs": [
    {
     "name": "stdout",
     "output_type": "stream",
     "text": [
      "Ali\n"
     ]
    }
   ],
   "source": [
    "print(student_one[0:3])  # prints range of values 0 to 3\n"
   ]
  },
  {
   "cell_type": "code",
   "execution_count": 47,
   "id": "59c8111b",
   "metadata": {},
   "outputs": [
    {
     "name": "stdout",
     "output_type": "stream",
     "text": [
      "Alice\n"
     ]
    }
   ],
   "source": [
    "print(student_one[:])  # prints all elements"
   ]
  },
  {
   "cell_type": "code",
   "execution_count": null,
   "id": "00bdc245",
   "metadata": {},
   "outputs": [],
   "source": [
    "# Task : I have first name and last name. How to display both names together?\n",
    "# There are 3 methods\n",
    "# First use + \n",
    "# Use .join\n",
    "# use f string"
   ]
  },
  {
   "cell_type": "code",
   "execution_count": 53,
   "id": "b98445d7",
   "metadata": {},
   "outputs": [
    {
     "name": "stdout",
     "output_type": "stream",
     "text": [
      "Enter first nameSteve\n",
      "Enter last nameSmith\n"
     ]
    }
   ],
   "source": [
    "#### String Concantenation\n",
    "first_name = input(\"Enter first name\")\n",
    "last_name = input(\"Enter last name\")"
   ]
  },
  {
   "cell_type": "code",
   "execution_count": 65,
   "id": "9f5c4ccf",
   "metadata": {},
   "outputs": [
    {
     "name": "stdout",
     "output_type": "stream",
     "text": [
      "The complete name is : SteveSmith\n"
     ]
    }
   ],
   "source": [
    "print(\"The complete name is :\",first_name + last_name)"
   ]
  },
  {
   "cell_type": "code",
   "execution_count": 66,
   "id": "c2b2df5b",
   "metadata": {},
   "outputs": [
    {
     "name": "stdout",
     "output_type": "stream",
     "text": [
      "The complete name is : Steve Smith\n"
     ]
    }
   ],
   "source": [
    "print(\"The complete name is :\",first_name +  \" \" +  last_name)"
   ]
  },
  {
   "cell_type": "code",
   "execution_count": 64,
   "id": "68a14ea3",
   "metadata": {},
   "outputs": [
    {
     "name": "stdout",
     "output_type": "stream",
     "text": [
      "The complete name is : Steve Smith\n"
     ]
    }
   ],
   "source": [
    "# Use join\n",
    "print(\"The complete name is :\", \" \".join([first_name, last_name]))"
   ]
  },
  {
   "cell_type": "code",
   "execution_count": 58,
   "id": "623e6664",
   "metadata": {},
   "outputs": [
    {
     "name": "stdout",
     "output_type": "stream",
     "text": [
      "Steve -- Smith\n"
     ]
    }
   ],
   "source": [
    "print(\" -- \".join([first_name, last_name]))"
   ]
  },
  {
   "cell_type": "code",
   "execution_count": null,
   "id": "8c06f4bb",
   "metadata": {},
   "outputs": [],
   "source": [
    "# In gmail, if your email is alice@gmail.com then you only enter abc and then it takes to password page"
   ]
  },
  {
   "cell_type": "code",
   "execution_count": 59,
   "id": "a314f033",
   "metadata": {},
   "outputs": [
    {
     "name": "stdout",
     "output_type": "stream",
     "text": [
      "Enter the name: alice\n"
     ]
    }
   ],
   "source": [
    "name = input(\"Enter the name: \")"
   ]
  },
  {
   "cell_type": "code",
   "execution_count": 60,
   "id": "7bd2fbed",
   "metadata": {},
   "outputs": [],
   "source": [
    "domain = \"gmail.com\""
   ]
  },
  {
   "cell_type": "code",
   "execution_count": 63,
   "id": "0faa5643",
   "metadata": {},
   "outputs": [
    {
     "name": "stdout",
     "output_type": "stream",
     "text": [
      "Your email id is alice@gmail.com\n"
     ]
    }
   ],
   "source": [
    "print(\"Your email id is\",\"@\".join([name, domain]) )"
   ]
  },
  {
   "cell_type": "code",
   "execution_count": 68,
   "id": "6eb33b0e",
   "metadata": {},
   "outputs": [
    {
     "name": "stdout",
     "output_type": "stream",
     "text": [
      "The complete name is Steve @Smith\n"
     ]
    }
   ],
   "source": [
    "# Use f string 3\n",
    "print(f\"The complete name is {first_name} {last_name}\")"
   ]
  },
  {
   "cell_type": "code",
   "execution_count": 69,
   "id": "c709950e",
   "metadata": {},
   "outputs": [
    {
     "name": "stdout",
     "output_type": "stream",
     "text": [
      "The email id is alice@gmail.com\n"
     ]
    }
   ],
   "source": [
    "print(f\"The email id is {name}@{domain}\")"
   ]
  },
  {
   "cell_type": "markdown",
   "id": "a2e1152f",
   "metadata": {},
   "source": [
    "#### String Methods"
   ]
  },
  {
   "cell_type": "code",
   "execution_count": null,
   "id": "35a810db",
   "metadata": {},
   "outputs": [],
   "source": [
    "# # Method\tDescription\n",
    "# capitalize()\tConverts the first character to upper case\n",
    "# casefold()\tConverts string into lower case\n",
    "# center()\tReturns a centered string\n",
    "# count()\tReturns the number of times a specified value occurs in a string\n",
    "# encode()\tReturns an encoded version of the string\n",
    "# endswith()\tReturns true if the string ends with the specified value\n",
    "# expandtabs()\tSets the tab size of the string\n",
    "# find()\tSearches the string for a specified value and returns the position of where it was found\n",
    "# format()\tFormats specified values in a string\n",
    "# format_map()\tFormats specified values in a string\n",
    "# index()\tSearches the string for a specified value and returns the position of where it was found\n",
    "# isalnum()\tReturns True if all characters in the string are alphanumeric\n",
    "# isalpha()\tReturns True if all characters in the string are in the alphabet\n",
    "# isascii()\tReturns True if all characters in the string are ascii characters\n",
    "# isdecimal()\tReturns True if all characters in the string are decimals\n",
    "# isdigit()\tReturns True if all characters in the string are digits\n",
    "# isidentifier()\tReturns True if the string is an identifier\n",
    "# islower()\tReturns True if all characters in the string are lower case\n",
    "# isnumeric()\tReturns True if all characters in the string are numeric\n",
    "# isprintable()\tReturns True if all characters in the string are printable\n",
    "# isspace()\tReturns True if all characters in the string are whitespaces\n",
    "# istitle()\tReturns True if the string follows the rules of a title\n",
    "# isupper()\tReturns True if all characters in the string are upper case\n",
    "# join()\tConverts the elements of an iterable into a string\n",
    "# ljust()\tReturns a left justified version of the string\n",
    "# lower()\tConverts a string into lower case\n",
    "# lstrip()\tReturns a left trim version of the string\n",
    "# maketrans()\tReturns a translation table to be used in translations\n",
    "# partition()\tReturns a tuple where the string is parted into three parts\n",
    "# replace()\tReturns a string where a specified value is replaced with a specified value\n",
    "# rfind()\tSearches the string for a specified value and returns the last position of where it was found\n",
    "# rindex()\tSearches the string for a specified value and returns the last position of where it was found\n",
    "# rjust()\tReturns a right justified version of the string\n",
    "# rpartition()\tReturns a tuple where the string is parted into three parts\n",
    "# rsplit()\tSplits the string at the specified separator, and returns a list\n",
    "# rstrip()\tReturns a right trim version of the string\n",
    "# split()\tSplits the string at the specified separator, and returns a list\n",
    "# splitlines()\tSplits the string at line breaks and returns a list\n",
    "# startswith()\tReturns true if the string starts with the specified value\n",
    "# strip()\tReturns a trimmed version of the string\n",
    "# swapcase()\tSwaps cases, lower case becomes upper case and vice versa\n",
    "# title()\tConverts the first character of each word to upper case\n",
    "# translate()\tReturns a translated string\n",
    "# upper()\tConverts a string into upper case\n",
    "# zfill()\tFills the string with a specified number of 0 values at the beginning"
   ]
  },
  {
   "cell_type": "code",
   "execution_count": 70,
   "id": "3bdeece4",
   "metadata": {},
   "outputs": [],
   "source": [
    "string = \"Bob is a student from USA and his student id is S001\""
   ]
  },
  {
   "cell_type": "code",
   "execution_count": 71,
   "id": "746eee82",
   "metadata": {},
   "outputs": [
    {
     "name": "stdout",
     "output_type": "stream",
     "text": [
      "BOB IS A STUDENT FROM USA AND HIS STUDENT ID IS S001\n"
     ]
    }
   ],
   "source": [
    "print(string.upper())"
   ]
  },
  {
   "cell_type": "code",
   "execution_count": 72,
   "id": "31dc76ba",
   "metadata": {},
   "outputs": [
    {
     "name": "stdout",
     "output_type": "stream",
     "text": [
      "bob is a student from usa and his student id is s001\n"
     ]
    }
   ],
   "source": [
    "print(string.lower())"
   ]
  },
  {
   "cell_type": "code",
   "execution_count": 75,
   "id": "f013e7a6",
   "metadata": {},
   "outputs": [],
   "source": [
    "string = \"bob is a student from USA and his student id is S001\""
   ]
  },
  {
   "cell_type": "code",
   "execution_count": 76,
   "id": "bfbf2d5b",
   "metadata": {},
   "outputs": [
    {
     "name": "stdout",
     "output_type": "stream",
     "text": [
      "Bob is a student from usa and his student id is s001\n"
     ]
    }
   ],
   "source": [
    "print(string.capitalize())"
   ]
  },
  {
   "cell_type": "code",
   "execution_count": 77,
   "id": "a0dd2143",
   "metadata": {},
   "outputs": [
    {
     "name": "stdout",
     "output_type": "stream",
     "text": [
      "2\n"
     ]
    }
   ],
   "source": [
    "print(string.count('e'))"
   ]
  },
  {
   "cell_type": "code",
   "execution_count": 78,
   "id": "21902871",
   "metadata": {},
   "outputs": [
    {
     "name": "stdout",
     "output_type": "stream",
     "text": [
      "['bob', 'is', 'a', 'student', 'from', 'USA', 'and', 'his', 'student', 'id', 'is', 'S001']\n"
     ]
    }
   ],
   "source": [
    "print(string.split())"
   ]
  },
  {
   "cell_type": "code",
   "execution_count": 79,
   "id": "b7f6b6a5",
   "metadata": {},
   "outputs": [],
   "source": [
    "string = \"    bob is a student from USA and his student id is S001    \""
   ]
  },
  {
   "cell_type": "code",
   "execution_count": 80,
   "id": "2edc0c5a",
   "metadata": {},
   "outputs": [
    {
     "name": "stdout",
     "output_type": "stream",
     "text": [
      "bob is a student from USA and his student id is S001\n"
     ]
    }
   ],
   "source": [
    "print(string.strip())"
   ]
  },
  {
   "cell_type": "code",
   "execution_count": 81,
   "id": "774f34ac",
   "metadata": {},
   "outputs": [
    {
     "data": {
      "text/plain": [
       "'    Bob Is A Student From Usa And His Student Id Is S001    '"
      ]
     },
     "execution_count": 81,
     "metadata": {},
     "output_type": "execute_result"
    }
   ],
   "source": [
    "string.title()"
   ]
  },
  {
   "cell_type": "code",
   "execution_count": 77,
   "id": "3c3929d7",
   "metadata": {},
   "outputs": [],
   "source": [
    "# # Joining of string \n",
    "# string1 = \"The value of pi is : \"\n",
    "# pi = 3.14"
   ]
  },
  {
   "cell_type": "code",
   "execution_count": 78,
   "id": "36d94a89",
   "metadata": {},
   "outputs": [
    {
     "ename": "TypeError",
     "evalue": "can only concatenate str (not \"float\") to str",
     "output_type": "error",
     "traceback": [
      "\u001b[1;31m---------------------------------------------------------------------------\u001b[0m",
      "\u001b[1;31mTypeError\u001b[0m                                 Traceback (most recent call last)",
      "Cell \u001b[1;32mIn[78], line 1\u001b[0m\n\u001b[1;32m----> 1\u001b[0m \u001b[43mstring1\u001b[49m\u001b[43m \u001b[49m\u001b[38;5;241;43m+\u001b[39;49m\u001b[43m \u001b[49m\u001b[43mpi\u001b[49m\n",
      "\u001b[1;31mTypeError\u001b[0m: can only concatenate str (not \"float\") to str"
     ]
    }
   ],
   "source": [
    "# string1 + pi"
   ]
  },
  {
   "cell_type": "code",
   "execution_count": 79,
   "id": "96845340",
   "metadata": {},
   "outputs": [
    {
     "data": {
      "text/plain": [
       "'The value of pi is : 3.14'"
      ]
     },
     "execution_count": 79,
     "metadata": {},
     "output_type": "execute_result"
    }
   ],
   "source": [
    "# string1 + str(pi)"
   ]
  },
  {
   "cell_type": "markdown",
   "id": "61245e72",
   "metadata": {},
   "source": [
    "### We have looked at primitive data types : int, float, None, Bool, String"
   ]
  },
  {
   "cell_type": "markdown",
   "id": "c790faa3",
   "metadata": {},
   "source": [
    "### Excercises\n",
    "**\"Complete the exercises covering string, float, bool, int, and None data types.\n",
    "Practice Practice and Practice. That's the secret to master Python and ML\"**"
   ]
  },
  {
   "cell_type": "code",
   "execution_count": null,
   "id": "97ad3947",
   "metadata": {},
   "outputs": [],
   "source": []
  }
 ],
 "metadata": {
  "kernelspec": {
   "display_name": "Python 3 (ipykernel)",
   "language": "python",
   "name": "python3"
  },
  "language_info": {
   "codemirror_mode": {
    "name": "ipython",
    "version": 3
   },
   "file_extension": ".py",
   "mimetype": "text/x-python",
   "name": "python",
   "nbconvert_exporter": "python",
   "pygments_lexer": "ipython3",
   "version": "3.10.11"
  }
 },
 "nbformat": 4,
 "nbformat_minor": 5
}
