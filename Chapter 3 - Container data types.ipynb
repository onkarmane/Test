{
 "cells": [
  {
   "cell_type": "markdown",
   "id": "09b60492",
   "metadata": {},
   "source": [
    "#  Python for Machine Learning Series\n",
    "\n",
    "This tutorial marks the beginning of a series focused on introducing programming concepts through practical, code-driven lessons using the Python language. Emphasizing a hands-on approach, learners are encouraged to actively engage with the material by executing code and experimenting with examples for an effective learning experience."
   ]
  },
  {
   "cell_type": "code",
   "execution_count": 1,
   "id": "bae341e3",
   "metadata": {},
   "outputs": [
    {
     "data": {
      "text/html": [
       "<div>\n",
       "<style scoped>\n",
       "    .dataframe tbody tr th:only-of-type {\n",
       "        vertical-align: middle;\n",
       "    }\n",
       "\n",
       "    .dataframe tbody tr th {\n",
       "        vertical-align: top;\n",
       "    }\n",
       "\n",
       "    .dataframe thead th {\n",
       "        text-align: right;\n",
       "    }\n",
       "</style>\n",
       "<table border=\"1\" class=\"dataframe\">\n",
       "  <thead>\n",
       "    <tr style=\"text-align: right;\">\n",
       "      <th></th>\n",
       "      <th>Name</th>\n",
       "      <th>Age</th>\n",
       "      <th>Grade</th>\n",
       "      <th>GPA</th>\n",
       "      <th>Graduated</th>\n",
       "      <th>Enrollment Date</th>\n",
       "      <th>Email</th>\n",
       "      <th>Phone Number</th>\n",
       "      <th>Country</th>\n",
       "    </tr>\n",
       "  </thead>\n",
       "  <tbody>\n",
       "    <tr>\n",
       "      <th>0</th>\n",
       "      <td>Amit Kumar</td>\n",
       "      <td>21</td>\n",
       "      <td>D</td>\n",
       "      <td>2.50</td>\n",
       "      <td>False</td>\n",
       "      <td>2021-10-07</td>\n",
       "      <td>amit@example.com</td>\n",
       "      <td>254803</td>\n",
       "      <td>India</td>\n",
       "    </tr>\n",
       "    <tr>\n",
       "      <th>1</th>\n",
       "      <td>Rajesh Singh</td>\n",
       "      <td>20</td>\n",
       "      <td>B</td>\n",
       "      <td>3.20</td>\n",
       "      <td>True</td>\n",
       "      <td>2022-10-25</td>\n",
       "      <td>rajesh@example.com</td>\n",
       "      <td>257067</td>\n",
       "      <td>India</td>\n",
       "    </tr>\n",
       "    <tr>\n",
       "      <th>2</th>\n",
       "      <td>Sunil Joshi</td>\n",
       "      <td>23</td>\n",
       "      <td>D</td>\n",
       "      <td>3.16</td>\n",
       "      <td>True</td>\n",
       "      <td>2021-08-03</td>\n",
       "      <td>sunil@example.com</td>\n",
       "      <td>251665</td>\n",
       "      <td>India</td>\n",
       "    </tr>\n",
       "    <tr>\n",
       "      <th>3</th>\n",
       "      <td>Bob Brown</td>\n",
       "      <td>23</td>\n",
       "      <td>C</td>\n",
       "      <td>3.12</td>\n",
       "      <td>True</td>\n",
       "      <td>2020-12-08</td>\n",
       "      <td>bob@example.com</td>\n",
       "      <td>252291</td>\n",
       "      <td>US</td>\n",
       "    </tr>\n",
       "    <tr>\n",
       "      <th>4</th>\n",
       "      <td>Anjali Mehta</td>\n",
       "      <td>19</td>\n",
       "      <td>A</td>\n",
       "      <td>3.76</td>\n",
       "      <td>True</td>\n",
       "      <td>2022-11-18</td>\n",
       "      <td>anjali@example.com</td>\n",
       "      <td>257167</td>\n",
       "      <td>India</td>\n",
       "    </tr>\n",
       "    <tr>\n",
       "      <th>5</th>\n",
       "      <td>Akiko Yoshida</td>\n",
       "      <td>19</td>\n",
       "      <td>A</td>\n",
       "      <td>3.21</td>\n",
       "      <td>False</td>\n",
       "      <td>2022-11-24</td>\n",
       "      <td>akiko@example.com</td>\n",
       "      <td>251188</td>\n",
       "      <td>Japan</td>\n",
       "    </tr>\n",
       "    <tr>\n",
       "      <th>6</th>\n",
       "      <td>Yuki Watanabe</td>\n",
       "      <td>21</td>\n",
       "      <td>F</td>\n",
       "      <td>3.50</td>\n",
       "      <td>True</td>\n",
       "      <td>2020-12-10</td>\n",
       "      <td>yuki@example.com</td>\n",
       "      <td>254920</td>\n",
       "      <td>Japan</td>\n",
       "    </tr>\n",
       "    <tr>\n",
       "      <th>7</th>\n",
       "      <td>Alice Johnson</td>\n",
       "      <td>25</td>\n",
       "      <td>F</td>\n",
       "      <td>3.50</td>\n",
       "      <td>True</td>\n",
       "      <td>2022-09-13</td>\n",
       "      <td>alice@example.com</td>\n",
       "      <td>254530</td>\n",
       "      <td>US</td>\n",
       "    </tr>\n",
       "    <tr>\n",
       "      <th>8</th>\n",
       "      <td>Meera Patel</td>\n",
       "      <td>24</td>\n",
       "      <td>C</td>\n",
       "      <td>2.54</td>\n",
       "      <td>True</td>\n",
       "      <td>2022-02-07</td>\n",
       "      <td>meera@example.com</td>\n",
       "      <td>257987</td>\n",
       "      <td>India</td>\n",
       "    </tr>\n",
       "    <tr>\n",
       "      <th>9</th>\n",
       "      <td>Vikram Choudhary</td>\n",
       "      <td>22</td>\n",
       "      <td>D</td>\n",
       "      <td>3.01</td>\n",
       "      <td>True</td>\n",
       "      <td>2020-06-16</td>\n",
       "      <td>vikram@example.com</td>\n",
       "      <td>256150</td>\n",
       "      <td>India</td>\n",
       "    </tr>\n",
       "    <tr>\n",
       "      <th>10</th>\n",
       "      <td>Carol Davis</td>\n",
       "      <td>25</td>\n",
       "      <td>C</td>\n",
       "      <td>3.29</td>\n",
       "      <td>True</td>\n",
       "      <td>2020-07-27</td>\n",
       "      <td>carol@example.com</td>\n",
       "      <td>251637</td>\n",
       "      <td>US</td>\n",
       "    </tr>\n",
       "    <tr>\n",
       "      <th>11</th>\n",
       "      <td>Sita Devi</td>\n",
       "      <td>18</td>\n",
       "      <td>F</td>\n",
       "      <td>3.22</td>\n",
       "      <td>False</td>\n",
       "      <td>2021-05-13</td>\n",
       "      <td>sita@example.com</td>\n",
       "      <td>256652</td>\n",
       "      <td>India</td>\n",
       "    </tr>\n",
       "    <tr>\n",
       "      <th>12</th>\n",
       "      <td>Hank Lee</td>\n",
       "      <td>19</td>\n",
       "      <td>D</td>\n",
       "      <td>2.17</td>\n",
       "      <td>True</td>\n",
       "      <td>2021-05-16</td>\n",
       "      <td>hank@example.com</td>\n",
       "      <td>256076</td>\n",
       "      <td>US</td>\n",
       "    </tr>\n",
       "    <tr>\n",
       "      <th>13</th>\n",
       "      <td>Frank Moore</td>\n",
       "      <td>20</td>\n",
       "      <td>F</td>\n",
       "      <td>3.46</td>\n",
       "      <td>True</td>\n",
       "      <td>2020-09-27</td>\n",
       "      <td>frank@example.com</td>\n",
       "      <td>251574</td>\n",
       "      <td>US</td>\n",
       "    </tr>\n",
       "    <tr>\n",
       "      <th>14</th>\n",
       "      <td>Miyu Yamamoto</td>\n",
       "      <td>25</td>\n",
       "      <td>C</td>\n",
       "      <td>3.50</td>\n",
       "      <td>False</td>\n",
       "      <td>2022-11-17</td>\n",
       "      <td>miyu@example.com</td>\n",
       "      <td>255395</td>\n",
       "      <td>Japan</td>\n",
       "    </tr>\n",
       "    <tr>\n",
       "      <th>15</th>\n",
       "      <td>Eve Wilson</td>\n",
       "      <td>19</td>\n",
       "      <td>F</td>\n",
       "      <td>2.70</td>\n",
       "      <td>False</td>\n",
       "      <td>2020-11-23</td>\n",
       "      <td>eve@example.com</td>\n",
       "      <td>251102</td>\n",
       "      <td>US</td>\n",
       "    </tr>\n",
       "    <tr>\n",
       "      <th>16</th>\n",
       "      <td>Hanako Suzuki</td>\n",
       "      <td>22</td>\n",
       "      <td>A</td>\n",
       "      <td>2.99</td>\n",
       "      <td>True</td>\n",
       "      <td>2021-09-25</td>\n",
       "      <td>hanako@example.com</td>\n",
       "      <td>257222</td>\n",
       "      <td>Japan</td>\n",
       "    </tr>\n",
       "    <tr>\n",
       "      <th>17</th>\n",
       "      <td>Rina Kato</td>\n",
       "      <td>25</td>\n",
       "      <td>D</td>\n",
       "      <td>2.07</td>\n",
       "      <td>False</td>\n",
       "      <td>2022-02-15</td>\n",
       "      <td>rina@example.com</td>\n",
       "      <td>253994</td>\n",
       "      <td>Japan</td>\n",
       "    </tr>\n",
       "    <tr>\n",
       "      <th>18</th>\n",
       "      <td>Satoshi Sato</td>\n",
       "      <td>22</td>\n",
       "      <td>B</td>\n",
       "      <td>3.41</td>\n",
       "      <td>True</td>\n",
       "      <td>2021-01-12</td>\n",
       "      <td>satoshi@example.com</td>\n",
       "      <td>256752</td>\n",
       "      <td>Japan</td>\n",
       "    </tr>\n",
       "    <tr>\n",
       "      <th>19</th>\n",
       "      <td>John Doe</td>\n",
       "      <td>18</td>\n",
       "      <td>F</td>\n",
       "      <td>2.87</td>\n",
       "      <td>False</td>\n",
       "      <td>2020-10-06</td>\n",
       "      <td>john@example.com</td>\n",
       "      <td>251511</td>\n",
       "      <td>US</td>\n",
       "    </tr>\n",
       "    <tr>\n",
       "      <th>20</th>\n",
       "      <td>Pooja Sharma</td>\n",
       "      <td>24</td>\n",
       "      <td>A</td>\n",
       "      <td>2.12</td>\n",
       "      <td>True</td>\n",
       "      <td>2021-02-09</td>\n",
       "      <td>pooja@example.com</td>\n",
       "      <td>254858</td>\n",
       "      <td>India</td>\n",
       "    </tr>\n",
       "    <tr>\n",
       "      <th>21</th>\n",
       "      <td>Neha Verma</td>\n",
       "      <td>24</td>\n",
       "      <td>C</td>\n",
       "      <td>3.67</td>\n",
       "      <td>True</td>\n",
       "      <td>2020-03-15</td>\n",
       "      <td>neha@example.com</td>\n",
       "      <td>254415</td>\n",
       "      <td>India</td>\n",
       "    </tr>\n",
       "    <tr>\n",
       "      <th>22</th>\n",
       "      <td>Taro Yamada</td>\n",
       "      <td>18</td>\n",
       "      <td>F</td>\n",
       "      <td>2.73</td>\n",
       "      <td>True</td>\n",
       "      <td>2022-08-25</td>\n",
       "      <td>taro@example.com</td>\n",
       "      <td>254923</td>\n",
       "      <td>Japan</td>\n",
       "    </tr>\n",
       "    <tr>\n",
       "      <th>23</th>\n",
       "      <td>Koji Nakamura</td>\n",
       "      <td>22</td>\n",
       "      <td>F</td>\n",
       "      <td>3.85</td>\n",
       "      <td>False</td>\n",
       "      <td>2021-03-07</td>\n",
       "      <td>koji@example.com</td>\n",
       "      <td>259560</td>\n",
       "      <td>Japan</td>\n",
       "    </tr>\n",
       "    <tr>\n",
       "      <th>24</th>\n",
       "      <td>Hiroshi Ito</td>\n",
       "      <td>24</td>\n",
       "      <td>C</td>\n",
       "      <td>3.07</td>\n",
       "      <td>False</td>\n",
       "      <td>2020-12-17</td>\n",
       "      <td>hiroshi@example.com</td>\n",
       "      <td>256051</td>\n",
       "      <td>Japan</td>\n",
       "    </tr>\n",
       "    <tr>\n",
       "      <th>25</th>\n",
       "      <td>Jane Smith</td>\n",
       "      <td>25</td>\n",
       "      <td>F</td>\n",
       "      <td>2.76</td>\n",
       "      <td>True</td>\n",
       "      <td>2020-08-01</td>\n",
       "      <td>jane@example.com</td>\n",
       "      <td>256436</td>\n",
       "      <td>US</td>\n",
       "    </tr>\n",
       "    <tr>\n",
       "      <th>26</th>\n",
       "      <td>Kenta Tanaka</td>\n",
       "      <td>23</td>\n",
       "      <td>F</td>\n",
       "      <td>2.65</td>\n",
       "      <td>True</td>\n",
       "      <td>2022-11-11</td>\n",
       "      <td>kenta@example.com</td>\n",
       "      <td>256600</td>\n",
       "      <td>Japan</td>\n",
       "    </tr>\n",
       "    <tr>\n",
       "      <th>27</th>\n",
       "      <td>Dave Miller</td>\n",
       "      <td>18</td>\n",
       "      <td>C</td>\n",
       "      <td>2.25</td>\n",
       "      <td>True</td>\n",
       "      <td>2020-01-16</td>\n",
       "      <td>dave@example.com</td>\n",
       "      <td>252794</td>\n",
       "      <td>US</td>\n",
       "    </tr>\n",
       "    <tr>\n",
       "      <th>28</th>\n",
       "      <td>Anil Gupta</td>\n",
       "      <td>19</td>\n",
       "      <td>C</td>\n",
       "      <td>3.02</td>\n",
       "      <td>False</td>\n",
       "      <td>2022-03-19</td>\n",
       "      <td>anil@example.com</td>\n",
       "      <td>255333</td>\n",
       "      <td>India</td>\n",
       "    </tr>\n",
       "    <tr>\n",
       "      <th>29</th>\n",
       "      <td>Grace Taylor</td>\n",
       "      <td>19</td>\n",
       "      <td>F</td>\n",
       "      <td>2.84</td>\n",
       "      <td>False</td>\n",
       "      <td>2021-12-25</td>\n",
       "      <td>grace@example.com</td>\n",
       "      <td>256470</td>\n",
       "      <td>US</td>\n",
       "    </tr>\n",
       "  </tbody>\n",
       "</table>\n",
       "</div>"
      ],
      "text/plain": [
       "                Name  Age Grade   GPA  Graduated Enrollment Date  \\\n",
       "0         Amit Kumar   21     D  2.50      False      2021-10-07   \n",
       "1       Rajesh Singh   20     B  3.20       True      2022-10-25   \n",
       "2        Sunil Joshi   23     D  3.16       True      2021-08-03   \n",
       "3          Bob Brown   23     C  3.12       True      2020-12-08   \n",
       "4       Anjali Mehta   19     A  3.76       True      2022-11-18   \n",
       "5      Akiko Yoshida   19     A  3.21      False      2022-11-24   \n",
       "6      Yuki Watanabe   21     F  3.50       True      2020-12-10   \n",
       "7      Alice Johnson   25     F  3.50       True      2022-09-13   \n",
       "8        Meera Patel   24     C  2.54       True      2022-02-07   \n",
       "9   Vikram Choudhary   22     D  3.01       True      2020-06-16   \n",
       "10       Carol Davis   25     C  3.29       True      2020-07-27   \n",
       "11         Sita Devi   18     F  3.22      False      2021-05-13   \n",
       "12          Hank Lee   19     D  2.17       True      2021-05-16   \n",
       "13       Frank Moore   20     F  3.46       True      2020-09-27   \n",
       "14     Miyu Yamamoto   25     C  3.50      False      2022-11-17   \n",
       "15        Eve Wilson   19     F  2.70      False      2020-11-23   \n",
       "16     Hanako Suzuki   22     A  2.99       True      2021-09-25   \n",
       "17         Rina Kato   25     D  2.07      False      2022-02-15   \n",
       "18      Satoshi Sato   22     B  3.41       True      2021-01-12   \n",
       "19          John Doe   18     F  2.87      False      2020-10-06   \n",
       "20      Pooja Sharma   24     A  2.12       True      2021-02-09   \n",
       "21        Neha Verma   24     C  3.67       True      2020-03-15   \n",
       "22       Taro Yamada   18     F  2.73       True      2022-08-25   \n",
       "23     Koji Nakamura   22     F  3.85      False      2021-03-07   \n",
       "24       Hiroshi Ito   24     C  3.07      False      2020-12-17   \n",
       "25        Jane Smith   25     F  2.76       True      2020-08-01   \n",
       "26      Kenta Tanaka   23     F  2.65       True      2022-11-11   \n",
       "27       Dave Miller   18     C  2.25       True      2020-01-16   \n",
       "28        Anil Gupta   19     C  3.02      False      2022-03-19   \n",
       "29      Grace Taylor   19     F  2.84      False      2021-12-25   \n",
       "\n",
       "                  Email  Phone Number Country  \n",
       "0      amit@example.com        254803   India  \n",
       "1    rajesh@example.com        257067   India  \n",
       "2     sunil@example.com        251665   India  \n",
       "3       bob@example.com        252291      US  \n",
       "4    anjali@example.com        257167   India  \n",
       "5     akiko@example.com        251188   Japan  \n",
       "6      yuki@example.com        254920   Japan  \n",
       "7     alice@example.com        254530      US  \n",
       "8     meera@example.com        257987   India  \n",
       "9    vikram@example.com        256150   India  \n",
       "10    carol@example.com        251637      US  \n",
       "11     sita@example.com        256652   India  \n",
       "12     hank@example.com        256076      US  \n",
       "13    frank@example.com        251574      US  \n",
       "14     miyu@example.com        255395   Japan  \n",
       "15      eve@example.com        251102      US  \n",
       "16   hanako@example.com        257222   Japan  \n",
       "17     rina@example.com        253994   Japan  \n",
       "18  satoshi@example.com        256752   Japan  \n",
       "19     john@example.com        251511      US  \n",
       "20    pooja@example.com        254858   India  \n",
       "21     neha@example.com        254415   India  \n",
       "22     taro@example.com        254923   Japan  \n",
       "23     koji@example.com        259560   Japan  \n",
       "24  hiroshi@example.com        256051   Japan  \n",
       "25     jane@example.com        256436      US  \n",
       "26    kenta@example.com        256600   Japan  \n",
       "27     dave@example.com        252794      US  \n",
       "28     anil@example.com        255333   India  \n",
       "29    grace@example.com        256470      US  "
      ]
     },
     "execution_count": 1,
     "metadata": {},
     "output_type": "execute_result"
    }
   ],
   "source": [
    "import pandas as pd\n",
    "df = pd.read_csv(\"Students.csv\")\n",
    "df.iloc[:,2:]"
   ]
  },
  {
   "cell_type": "markdown",
   "id": "73a25e38",
   "metadata": {},
   "source": [
    "---------------------------------------------------------------------------------------------\n",
    "\n",
    "This tutorial covers : \n",
    "* Container Data Types - lists, tuples, dictionaries, sets\n",
    "* Methods for Container Data Types \n",
    "* Practice problems"
   ]
  },
  {
   "cell_type": "code",
   "execution_count": null,
   "id": "0e4c22c0",
   "metadata": {},
   "outputs": [],
   "source": [
    "# I want to store data in data structure such that I can store multiple data types and I can change data when needed.\n",
    "\n",
    "\n",
    "#  \"Amit Kumar\", 21, \"D\", 2.50, False, \"2021-10-07\",\"amit@example.com\", 25480, \"India\"\n",
    "# 1.Data to be ordered and not random\n",
    "# 2. Multiple data types\n",
    "# 3. If I want to change phone number in future, I must be able to change"
   ]
  },
  {
   "cell_type": "markdown",
   "id": "603f54e8",
   "metadata": {},
   "source": [
    "### List\n",
    "\n",
    "* A list in Python is an ordered collection of values. Lists can hold values of different data types, and support operations to add, remove and change values. Lists have the type `list`.\n",
    "\n",
    "* To create a list, enclose a list of values within square brackets `[]`, separated by commas.\n",
    "* **List items are ordered, changeable, and allow duplicate values.**"
   ]
  },
  {
   "cell_type": "code",
   "execution_count": null,
   "id": "2447cfb5",
   "metadata": {},
   "outputs": [],
   "source": [
    "#1 Module -- Creating a list"
   ]
  },
  {
   "cell_type": "code",
   "execution_count": 3,
   "id": "4ad17a82",
   "metadata": {},
   "outputs": [
    {
     "data": {
      "text/plain": [
       "[20, 21, 23, 21, 24, 19, 20, 18, 19]"
      ]
     },
     "execution_count": 3,
     "metadata": {},
     "output_type": "execute_result"
    }
   ],
   "source": [
    "# ordered and duplicate\n",
    "age = [20,21,23,21,24,19,20,18,19]\n",
    "age"
   ]
  },
  {
   "cell_type": "code",
   "execution_count": 6,
   "id": "037a30d7",
   "metadata": {},
   "outputs": [
    {
     "data": {
      "text/plain": [
       "[20, 21, 23, 21, 24, 19, 20, 18, 19]"
      ]
     },
     "execution_count": 6,
     "metadata": {},
     "output_type": "execute_result"
    }
   ],
   "source": [
    "age = list([20,21,23,21,24,19,20,18,19])\n",
    "age"
   ]
  },
  {
   "cell_type": "code",
   "execution_count": 4,
   "id": "d430d6d6",
   "metadata": {},
   "outputs": [
    {
     "data": {
      "text/plain": [
       "['Amit Kumar',\n",
       " 21,\n",
       " 'D',\n",
       " 2.5,\n",
       " False,\n",
       " '2021-10-07',\n",
       " 'amit@example.com',\n",
       " 25480,\n",
       " 'India']"
      ]
     },
     "execution_count": 4,
     "metadata": {},
     "output_type": "execute_result"
    }
   ],
   "source": [
    "student_one = [\"Amit Kumar\", 21, \"D\", 2.50, False, \"2021-10-07\",\"amit@example.com\", 25480, \"India\"]\n",
    "student_one"
   ]
  },
  {
   "cell_type": "code",
   "execution_count": 7,
   "id": "9478c233",
   "metadata": {},
   "outputs": [
    {
     "data": {
      "text/plain": [
       "['Amit Kumar',\n",
       " 21,\n",
       " 'D',\n",
       " 2.5,\n",
       " False,\n",
       " '2021-10-07',\n",
       " 'amit@example.com',\n",
       " 25480,\n",
       " 'India']"
      ]
     },
     "execution_count": 7,
     "metadata": {},
     "output_type": "execute_result"
    }
   ],
   "source": [
    "student_one = list([\"Amit Kumar\", 21, \"D\", 2.50, False, \"2021-10-07\",\"amit@example.com\", 25480, \"India\"])\n",
    "student_one"
   ]
  },
  {
   "cell_type": "code",
   "execution_count": 5,
   "id": "9d6cafa1",
   "metadata": {},
   "outputs": [
    {
     "data": {
      "text/plain": [
       "9"
      ]
     },
     "execution_count": 5,
     "metadata": {},
     "output_type": "execute_result"
    }
   ],
   "source": [
    "len(student_one)"
   ]
  },
  {
   "cell_type": "markdown",
   "id": "0a9e5d52",
   "metadata": {},
   "source": [
    "#### Indexing list"
   ]
  },
  {
   "cell_type": "code",
   "execution_count": 8,
   "id": "93518532",
   "metadata": {},
   "outputs": [
    {
     "data": {
      "text/plain": [
       "['Amit Kumar',\n",
       " 21,\n",
       " 'D',\n",
       " 2.5,\n",
       " False,\n",
       " '2021-10-07',\n",
       " 'amit@example.com',\n",
       " 25480,\n",
       " 'India']"
      ]
     },
     "execution_count": 8,
     "metadata": {},
     "output_type": "execute_result"
    }
   ],
   "source": [
    "student_one"
   ]
  },
  {
   "cell_type": "code",
   "execution_count": 10,
   "id": "04958ce9",
   "metadata": {},
   "outputs": [
    {
     "name": "stdout",
     "output_type": "stream",
     "text": [
      "Amit Kumar\n"
     ]
    }
   ],
   "source": [
    "print(student_one[0])  # prints 1st element"
   ]
  },
  {
   "cell_type": "code",
   "execution_count": 11,
   "id": "c71a3f1e",
   "metadata": {},
   "outputs": [
    {
     "name": "stdout",
     "output_type": "stream",
     "text": [
      "India\n"
     ]
    }
   ],
   "source": [
    "print(student_one[-1])  # prints last element\n"
   ]
  },
  {
   "cell_type": "code",
   "execution_count": 12,
   "id": "309743f3",
   "metadata": {},
   "outputs": [
    {
     "name": "stdout",
     "output_type": "stream",
     "text": [
      "['Amit Kumar', 21, 'D', 2.5]\n"
     ]
    }
   ],
   "source": [
    "print(student_one[0:4])  # prints range of values\n"
   ]
  },
  {
   "cell_type": "code",
   "execution_count": 13,
   "id": "62e8389c",
   "metadata": {},
   "outputs": [
    {
     "name": "stdout",
     "output_type": "stream",
     "text": [
      "['Amit Kumar', 21, 'D', 2.5, False, '2021-10-07', 'amit@example.com', 25480, 'India']\n"
     ]
    }
   ],
   "source": [
    "print(student_one[:])  # prints all elements"
   ]
  },
  {
   "cell_type": "code",
   "execution_count": 14,
   "id": "6809e11f",
   "metadata": {},
   "outputs": [
    {
     "name": "stdout",
     "output_type": "stream",
     "text": [
      "['D', 2.5, False, '2021-10-07', 'amit@example.com', 25480, 'India']\n"
     ]
    }
   ],
   "source": [
    "print(student_one[2:]) #prints all elements after second element"
   ]
  },
  {
   "cell_type": "code",
   "execution_count": 15,
   "id": "a9d6bde6",
   "metadata": {},
   "outputs": [
    {
     "data": {
      "text/plain": [
       "['Rajesh Singh',\n",
       " 20,\n",
       " 'B',\n",
       " 3.2,\n",
       " True,\n",
       " '2022-10-25',\n",
       " 'rajesh@example.com',\n",
       " 257067,\n",
       " 'India']"
      ]
     },
     "execution_count": 15,
     "metadata": {},
     "output_type": "execute_result"
    }
   ],
   "source": [
    "student_two = [\"Rajesh Singh\", 20, \"B\", 3.20, True, \"2022-10-25\", \"rajesh@example.com\", 257067, \"India\"]\n",
    "student_two"
   ]
  },
  {
   "cell_type": "code",
   "execution_count": 13,
   "id": "7e128855",
   "metadata": {},
   "outputs": [],
   "source": [
    "# List in list\n"
   ]
  },
  {
   "cell_type": "code",
   "execution_count": 16,
   "id": "02da1012",
   "metadata": {},
   "outputs": [],
   "source": [
    "combined_list = [student_one, student_two]"
   ]
  },
  {
   "cell_type": "code",
   "execution_count": 17,
   "id": "2514b743",
   "metadata": {},
   "outputs": [
    {
     "data": {
      "text/plain": [
       "[['Amit Kumar',\n",
       "  21,\n",
       "  'D',\n",
       "  2.5,\n",
       "  False,\n",
       "  '2021-10-07',\n",
       "  'amit@example.com',\n",
       "  25480,\n",
       "  'India'],\n",
       " ['Rajesh Singh',\n",
       "  20,\n",
       "  'B',\n",
       "  3.2,\n",
       "  True,\n",
       "  '2022-10-25',\n",
       "  'rajesh@example.com',\n",
       "  257067,\n",
       "  'India']]"
      ]
     },
     "execution_count": 17,
     "metadata": {},
     "output_type": "execute_result"
    }
   ],
   "source": [
    "combined_list"
   ]
  },
  {
   "cell_type": "code",
   "execution_count": 18,
   "id": "e9880341",
   "metadata": {},
   "outputs": [
    {
     "data": {
      "text/plain": [
       "2"
      ]
     },
     "execution_count": 18,
     "metadata": {},
     "output_type": "execute_result"
    }
   ],
   "source": [
    "len(combined_list)"
   ]
  },
  {
   "cell_type": "code",
   "execution_count": 19,
   "id": "739d5746",
   "metadata": {},
   "outputs": [
    {
     "data": {
      "text/plain": [
       "['Amit Kumar',\n",
       " 21,\n",
       " 'D',\n",
       " 2.5,\n",
       " False,\n",
       " '2021-10-07',\n",
       " 'amit@example.com',\n",
       " 25480,\n",
       " 'India']"
      ]
     },
     "execution_count": 19,
     "metadata": {},
     "output_type": "execute_result"
    }
   ],
   "source": [
    "combined_list[0]"
   ]
  },
  {
   "cell_type": "code",
   "execution_count": 20,
   "id": "06932801",
   "metadata": {},
   "outputs": [
    {
     "data": {
      "text/plain": [
       "['Rajesh Singh',\n",
       " 20,\n",
       " 'B',\n",
       " 3.2,\n",
       " True,\n",
       " '2022-10-25',\n",
       " 'rajesh@example.com',\n",
       " 257067,\n",
       " 'India']"
      ]
     },
     "execution_count": 20,
     "metadata": {},
     "output_type": "execute_result"
    }
   ],
   "source": [
    "combined_list[1]"
   ]
  },
  {
   "cell_type": "code",
   "execution_count": 21,
   "id": "a787b10b",
   "metadata": {},
   "outputs": [
    {
     "data": {
      "text/plain": [
       "'Amit Kumar'"
      ]
     },
     "execution_count": 21,
     "metadata": {},
     "output_type": "execute_result"
    }
   ],
   "source": [
    "#Access the members of inside list\n",
    "combined_list[0][0]"
   ]
  },
  {
   "cell_type": "code",
   "execution_count": 22,
   "id": "57eb0bd8",
   "metadata": {},
   "outputs": [
    {
     "data": {
      "text/plain": [
       "'India'"
      ]
     },
     "execution_count": 22,
     "metadata": {},
     "output_type": "execute_result"
    }
   ],
   "source": [
    "combined_list[0][-1]"
   ]
  },
  {
   "cell_type": "code",
   "execution_count": 23,
   "id": "65864eb4",
   "metadata": {},
   "outputs": [
    {
     "data": {
      "text/plain": [
       "3.2"
      ]
     },
     "execution_count": 23,
     "metadata": {},
     "output_type": "execute_result"
    }
   ],
   "source": [
    "combined_list[1][3]"
   ]
  },
  {
   "cell_type": "code",
   "execution_count": 47,
   "id": "714dca54",
   "metadata": {},
   "outputs": [],
   "source": [
    "# Changing\n",
    "ones = [1,1,10,1,1]\n",
    "ones[2] = 99"
   ]
  },
  {
   "cell_type": "code",
   "execution_count": 48,
   "id": "140a8a43",
   "metadata": {},
   "outputs": [
    {
     "data": {
      "text/plain": [
       "[1, 1, 99, 1, 1]"
      ]
     },
     "execution_count": 48,
     "metadata": {},
     "output_type": "execute_result"
    }
   ],
   "source": [
    "ones"
   ]
  },
  {
   "cell_type": "code",
   "execution_count": 49,
   "id": "9460d27b",
   "metadata": {},
   "outputs": [],
   "source": [
    "ones[-1] = \"Last element\""
   ]
  },
  {
   "cell_type": "code",
   "execution_count": 50,
   "id": "d72456ee",
   "metadata": {},
   "outputs": [
    {
     "data": {
      "text/plain": [
       "[1, 1, 99, 1, 'Last element']"
      ]
     },
     "execution_count": 50,
     "metadata": {},
     "output_type": "execute_result"
    }
   ],
   "source": [
    "ones"
   ]
  },
  {
   "cell_type": "markdown",
   "id": "9ae4772c",
   "metadata": {},
   "source": [
    "#### Methods of List\n",
    "* *Any data type method can be used as data_type.method()*"
   ]
  },
  {
   "cell_type": "code",
   "execution_count": null,
   "id": "3616cfd4",
   "metadata": {},
   "outputs": [],
   "source": [
    "# Method\tDescription\n",
    "# append()\tAdds an element at the end of the list\n",
    "# clear()\tRemoves all the elements from the list\n",
    "# copy()\tReturns a copy of the list\n",
    "# count()\tReturns the number of elements with the specified value\n",
    "# extend()\tAdd the elements of a list (or any iterable), to the end of the current list\n",
    "# index()\tReturns the index of the first element with the specified value\n",
    "# insert()\tAdds an element at the specified position\n",
    "# pop()\tRemoves the element at the specified position\n",
    "# remove()\tRemoves the first item with the specified value\n",
    "# reverse()\tReverses the order of the list\n",
    "# sort()\tSorts the list"
   ]
  },
  {
   "cell_type": "code",
   "execution_count": 25,
   "id": "cfa18633",
   "metadata": {},
   "outputs": [
    {
     "data": {
      "text/plain": [
       "['Amit Kumar',\n",
       " 21,\n",
       " 'D',\n",
       " 2.5,\n",
       " False,\n",
       " '2021-10-07',\n",
       " 'amit@example.com',\n",
       " 25480,\n",
       " 'India']"
      ]
     },
     "execution_count": 25,
     "metadata": {},
     "output_type": "execute_result"
    }
   ],
   "source": [
    "student_one"
   ]
  },
  {
   "cell_type": "code",
   "execution_count": 29,
   "id": "aa47502d",
   "metadata": {},
   "outputs": [
    {
     "data": {
      "text/plain": [
       "['Amit Kumar',\n",
       " 21,\n",
       " 'D',\n",
       " 2.5,\n",
       " False,\n",
       " '2021-10-07',\n",
       " 'amit@example.com',\n",
       " 25480,\n",
       " 'India',\n",
       " 'Hello',\n",
       " 'Hello']"
      ]
     },
     "execution_count": 29,
     "metadata": {},
     "output_type": "execute_result"
    }
   ],
   "source": [
    "student_one.append('Hello')\n",
    "student_one"
   ]
  },
  {
   "cell_type": "code",
   "execution_count": 27,
   "id": "fa432990",
   "metadata": {},
   "outputs": [
    {
     "data": {
      "text/plain": [
       "['Amit Kumar',\n",
       " 21,\n",
       " 'D',\n",
       " 2.5,\n",
       " False,\n",
       " '2021-10-07',\n",
       " 'amit@example.com',\n",
       " 25480,\n",
       " 'India',\n",
       " 'Hello']"
      ]
     },
     "execution_count": 27,
     "metadata": {},
     "output_type": "execute_result"
    }
   ],
   "source": [
    "copy = student_one.copy()\n",
    "copy"
   ]
  },
  {
   "cell_type": "code",
   "execution_count": 30,
   "id": "43e3f515",
   "metadata": {},
   "outputs": [
    {
     "data": {
      "text/plain": [
       "2"
      ]
     },
     "execution_count": 30,
     "metadata": {},
     "output_type": "execute_result"
    }
   ],
   "source": [
    "student_one.count(\"Hello\")"
   ]
  },
  {
   "cell_type": "code",
   "execution_count": 33,
   "id": "cf98e302",
   "metadata": {},
   "outputs": [
    {
     "data": {
      "text/plain": [
       "0"
      ]
     },
     "execution_count": 33,
     "metadata": {},
     "output_type": "execute_result"
    }
   ],
   "source": [
    "student_one.count(100)"
   ]
  },
  {
   "cell_type": "code",
   "execution_count": 38,
   "id": "b8791050",
   "metadata": {},
   "outputs": [],
   "source": [
    "student_one.insert(-1,\"last_element\")"
   ]
  },
  {
   "cell_type": "code",
   "execution_count": 39,
   "id": "5a86c07d",
   "metadata": {},
   "outputs": [
    {
     "data": {
      "text/plain": [
       "['Amit Kumar',\n",
       " 21,\n",
       " 'D',\n",
       " 2.5,\n",
       " False,\n",
       " '2021-10-07',\n",
       " 'amit@example.com',\n",
       " 25480,\n",
       " 'India',\n",
       " 'Hello',\n",
       " 'last_element',\n",
       " 'last_element',\n",
       " 'last_element',\n",
       " 'Hello']"
      ]
     },
     "execution_count": 39,
     "metadata": {},
     "output_type": "execute_result"
    }
   ],
   "source": [
    "student_one"
   ]
  },
  {
   "cell_type": "code",
   "execution_count": 41,
   "id": "ac2dfff2",
   "metadata": {},
   "outputs": [
    {
     "data": {
      "text/plain": [
       "'Hello'"
      ]
     },
     "execution_count": 41,
     "metadata": {},
     "output_type": "execute_result"
    }
   ],
   "source": [
    "student_one.pop()"
   ]
  },
  {
   "cell_type": "code",
   "execution_count": 42,
   "id": "1044042a",
   "metadata": {},
   "outputs": [
    {
     "data": {
      "text/plain": [
       "['Amit Kumar',\n",
       " 21,\n",
       " 'D',\n",
       " 2.5,\n",
       " False,\n",
       " '2021-10-07',\n",
       " 'amit@example.com',\n",
       " 25480,\n",
       " 'India',\n",
       " 'Hello',\n",
       " 'last_element',\n",
       " 'last_element',\n",
       " 'last_element']"
      ]
     },
     "execution_count": 42,
     "metadata": {},
     "output_type": "execute_result"
    }
   ],
   "source": [
    "student_one"
   ]
  },
  {
   "cell_type": "code",
   "execution_count": null,
   "id": "2357a90b",
   "metadata": {},
   "outputs": [],
   "source": [
    "#Important methods. These might take few lines of code in other programming languages."
   ]
  },
  {
   "cell_type": "code",
   "execution_count": 43,
   "id": "e99ba7b6",
   "metadata": {},
   "outputs": [],
   "source": [
    "student_one.reverse()"
   ]
  },
  {
   "cell_type": "code",
   "execution_count": 45,
   "id": "a057ac32",
   "metadata": {},
   "outputs": [
    {
     "data": {
      "text/plain": [
       "['last_element',\n",
       " 'last_element',\n",
       " 'last_element',\n",
       " 'Hello',\n",
       " 'India',\n",
       " 25480,\n",
       " 'amit@example.com',\n",
       " '2021-10-07',\n",
       " False,\n",
       " 2.5,\n",
       " 'D',\n",
       " 21,\n",
       " 'Amit Kumar']"
      ]
     },
     "execution_count": 45,
     "metadata": {},
     "output_type": "execute_result"
    }
   ],
   "source": [
    "student_one"
   ]
  },
  {
   "cell_type": "code",
   "execution_count": 44,
   "id": "0e08d8f5",
   "metadata": {},
   "outputs": [],
   "source": [
    "#Sort\n",
    "l = [25,1,89,2,-1,24]"
   ]
  },
  {
   "cell_type": "code",
   "execution_count": 46,
   "id": "dff7d2d2",
   "metadata": {},
   "outputs": [
    {
     "data": {
      "text/plain": [
       "[-1, 1, 2, 24, 25, 89]"
      ]
     },
     "execution_count": 46,
     "metadata": {},
     "output_type": "execute_result"
    }
   ],
   "source": [
    "l.sort()\n",
    "l"
   ]
  },
  {
   "cell_type": "markdown",
   "id": "07f1614a",
   "metadata": {},
   "source": [
    "### Exercises\n"
   ]
  },
  {
   "cell_type": "code",
   "execution_count": null,
   "id": "3499cd5f",
   "metadata": {},
   "outputs": [],
   "source": [
    "# Reverse the order of elements in a list"
   ]
  },
  {
   "cell_type": "code",
   "execution_count": null,
   "id": "580c573c",
   "metadata": {},
   "outputs": [],
   "source": [
    "# Add the elements of one list to the end of another list"
   ]
  },
  {
   "cell_type": "code",
   "execution_count": null,
   "id": "2fa9b8e6",
   "metadata": {},
   "outputs": [],
   "source": [
    "# Sort a list of strings in alphabetical order"
   ]
  },
  {
   "cell_type": "code",
   "execution_count": null,
   "id": "4ca937ab",
   "metadata": {},
   "outputs": [],
   "source": [
    "# Sort a list of numbers in decreasing order"
   ]
  },
  {
   "cell_type": "code",
   "execution_count": null,
   "id": "07236f10",
   "metadata": {},
   "outputs": [],
   "source": [
    "# I want a data structure which takes less memory than list and no one is able to change the content\n",
    "\n",
    "\n",
    "# 1. Less memory and stores only one type of data\n",
    "# 2. ordered\n",
    "# 3. Non changeble"
   ]
  },
  {
   "cell_type": "markdown",
   "id": "49231db8",
   "metadata": {},
   "source": [
    "# Tuples\n",
    "* Tuples are used to store multiple items in a single variable.\n",
    "\n",
    "* **A tuple is a collection which is ordered and unchangeable.**\n",
    "\n",
    "* Tuples are written with round brackets."
   ]
  },
  {
   "cell_type": "code",
   "execution_count": 62,
   "id": "187f10f2",
   "metadata": {},
   "outputs": [
    {
     "name": "stdout",
     "output_type": "stream",
     "text": [
      "(3.2, 3.1, 4, 3.1, 4.4)\n"
     ]
    }
   ],
   "source": [
    "students_gpa = (3.2, 3.1,4, 3.1, 4.4)\n",
    "print(students_gpa)"
   ]
  },
  {
   "cell_type": "code",
   "execution_count": 63,
   "id": "a49d95de",
   "metadata": {},
   "outputs": [
    {
     "data": {
      "text/plain": [
       "5"
      ]
     },
     "execution_count": 63,
     "metadata": {},
     "output_type": "execute_result"
    }
   ],
   "source": [
    "len(students_gpa)"
   ]
  },
  {
   "cell_type": "code",
   "execution_count": 64,
   "id": "de578fad",
   "metadata": {},
   "outputs": [
    {
     "name": "stdout",
     "output_type": "stream",
     "text": [
      "3.2\n"
     ]
    }
   ],
   "source": [
    "print(students_gpa[0])  # prints 1st element"
   ]
  },
  {
   "cell_type": "code",
   "execution_count": 65,
   "id": "78f5b705",
   "metadata": {},
   "outputs": [
    {
     "name": "stdout",
     "output_type": "stream",
     "text": [
      "4.4\n"
     ]
    }
   ],
   "source": [
    "print(students_gpa[-1])  # prints last element"
   ]
  },
  {
   "cell_type": "code",
   "execution_count": 66,
   "id": "fce6d5fb",
   "metadata": {},
   "outputs": [
    {
     "name": "stdout",
     "output_type": "stream",
     "text": [
      "(3.2, 3.1, 4, 3.1)\n"
     ]
    }
   ],
   "source": [
    "print(students_gpa[0:4])  # prints range of values"
   ]
  },
  {
   "cell_type": "code",
   "execution_count": 67,
   "id": "e743ca82",
   "metadata": {},
   "outputs": [
    {
     "name": "stdout",
     "output_type": "stream",
     "text": [
      "(3.2, 3.1, 4, 3.1, 4.4)\n"
     ]
    }
   ],
   "source": [
    "print(students_gpa[:])  # prints all elements"
   ]
  },
  {
   "cell_type": "code",
   "execution_count": 68,
   "id": "0ab41a94",
   "metadata": {},
   "outputs": [
    {
     "ename": "TypeError",
     "evalue": "'tuple' object does not support item assignment",
     "output_type": "error",
     "traceback": [
      "\u001b[1;31m---------------------------------------------------------------------------\u001b[0m",
      "\u001b[1;31mTypeError\u001b[0m                                 Traceback (most recent call last)",
      "Cell \u001b[1;32mIn[68], line 2\u001b[0m\n\u001b[0;32m      1\u001b[0m \u001b[38;5;66;03m# Unchangeble -- No Cheating\u001b[39;00m\n\u001b[1;32m----> 2\u001b[0m \u001b[43mstudents_gpa\u001b[49m\u001b[43m[\u001b[49m\u001b[38;5;241;43m0\u001b[39;49m\u001b[43m]\u001b[49m \u001b[38;5;241m=\u001b[39m \u001b[38;5;241m4.9\u001b[39m\n",
      "\u001b[1;31mTypeError\u001b[0m: 'tuple' object does not support item assignment"
     ]
    }
   ],
   "source": [
    "# Unchangeble -- No Cheating\n",
    "students_gpa[0] = 4.9"
   ]
  },
  {
   "cell_type": "markdown",
   "id": "89dd09e0",
   "metadata": {},
   "source": [
    "### Tuple Methods\n",
    "* count()\tReturns the number of times a specified value occurs in a tuple\n",
    "* index()\tSearches the tuple for a specified value and returns the position of where it was found"
   ]
  },
  {
   "cell_type": "code",
   "execution_count": 70,
   "id": "1326793b",
   "metadata": {},
   "outputs": [
    {
     "data": {
      "text/plain": [
       "2"
      ]
     },
     "execution_count": 70,
     "metadata": {},
     "output_type": "execute_result"
    }
   ],
   "source": [
    "students_gpa.count(3.1)"
   ]
  },
  {
   "cell_type": "code",
   "execution_count": 71,
   "id": "15c57468",
   "metadata": {},
   "outputs": [
    {
     "data": {
      "text/plain": [
       "1"
      ]
     },
     "execution_count": 71,
     "metadata": {},
     "output_type": "execute_result"
    }
   ],
   "source": [
    "students_gpa.count(4)"
   ]
  },
  {
   "cell_type": "code",
   "execution_count": 72,
   "id": "7cbe21b6",
   "metadata": {},
   "outputs": [
    {
     "data": {
      "text/plain": [
       "2"
      ]
     },
     "execution_count": 72,
     "metadata": {},
     "output_type": "execute_result"
    }
   ],
   "source": [
    "students_gpa.index(4)"
   ]
  },
  {
   "cell_type": "code",
   "execution_count": 73,
   "id": "3aace418",
   "metadata": {},
   "outputs": [
    {
     "data": {
      "text/plain": [
       "0"
      ]
     },
     "execution_count": 73,
     "metadata": {},
     "output_type": "execute_result"
    }
   ],
   "source": [
    "students_gpa.index(3.2)"
   ]
  },
  {
   "cell_type": "code",
   "execution_count": null,
   "id": "efbbf519",
   "metadata": {},
   "outputs": [],
   "source": [
    "# List and tuples only give one type of information.\n",
    "# ONE\n",
    "# e.g lists can give student information but it does not tells what each element represents. \n",
    "# student_two = [\"Rajesh Singh\", 20, \"B\", 3.20, True, \"2022-10-25\", \"rajesh@example.com\", 257067, \"India\"]\n",
    "\n",
    "# TWO\n",
    "# Similarly tuples : students_gpa = (3.2, 3.1,4, 3.1, 4.4)\n",
    "# We don't know the names of students whose gpa's are in tuple\n",
    "\n",
    "# I want a data structure that store extra information about the elements and should not allow duplicates\n",
    "# for e.g \"John\" is a name and USA is a country\n"
   ]
  },
  {
   "cell_type": "markdown",
   "id": "96797a49",
   "metadata": {},
   "source": [
    "# Dictionary\n",
    "* Dictionaries are used to store data values in key:value pairs.\n",
    "\n",
    "* A dictionary is a collection which is ordered*, changeable and do not allow duplicates."
   ]
  },
  {
   "cell_type": "code",
   "execution_count": null,
   "id": "e131333d",
   "metadata": {},
   "outputs": [],
   "source": [
    "# Create a dictionary"
   ]
  },
  {
   "cell_type": "code",
   "execution_count": 74,
   "id": "5db189fa",
   "metadata": {},
   "outputs": [
    {
     "name": "stdout",
     "output_type": "stream",
     "text": [
      "{'name': 'John', 'age': 23, 'country': 'USA', 'is_graduated': False}\n"
     ]
    }
   ],
   "source": [
    "# Using curly braces\n",
    "john = {'name': 'John', 'age': 23, 'country': 'USA', 'is_graduated': False}\n",
    "\n",
    "print(john)\n"
   ]
  },
  {
   "cell_type": "code",
   "execution_count": 78,
   "id": "b45d35a9",
   "metadata": {},
   "outputs": [
    {
     "name": "stdout",
     "output_type": "stream",
     "text": [
      "{'name': 'Alice', 'age': 19, 'country': 'USA', 'is_graduated': True}\n"
     ]
    }
   ],
   "source": [
    "# Using dict() constructor\n",
    "alice = dict(name='Alice', age=19, country=\"USA\", is_graduated=True)\n",
    "print(alice)"
   ]
  },
  {
   "cell_type": "code",
   "execution_count": 79,
   "id": "bd22ca28",
   "metadata": {},
   "outputs": [
    {
     "data": {
      "text/plain": [
       "'John'"
      ]
     },
     "execution_count": 79,
     "metadata": {},
     "output_type": "execute_result"
    }
   ],
   "source": [
    "# Access the elements of Dict\n",
    "john['name']"
   ]
  },
  {
   "cell_type": "code",
   "execution_count": 80,
   "id": "66ad776c",
   "metadata": {},
   "outputs": [
    {
     "data": {
      "text/plain": [
       "19"
      ]
     },
     "execution_count": 80,
     "metadata": {},
     "output_type": "execute_result"
    }
   ],
   "source": [
    "alice['age']"
   ]
  },
  {
   "cell_type": "code",
   "execution_count": 83,
   "id": "4e422215",
   "metadata": {},
   "outputs": [],
   "source": [
    "# Duplicates\n",
    "duplicate_not_allowed = {'name': 'John', 'name':'Bob','age': 21, 'country': 'USA', 'is_graduated': False}\n"
   ]
  },
  {
   "cell_type": "code",
   "execution_count": 84,
   "id": "08706aa7",
   "metadata": {},
   "outputs": [
    {
     "data": {
      "text/plain": [
       "{'name': 'Bob', 'age': 21, 'country': 'USA', 'is_graduated': False}"
      ]
     },
     "execution_count": 84,
     "metadata": {},
     "output_type": "execute_result"
    }
   ],
   "source": [
    "duplicate_not_allowed"
   ]
  },
  {
   "cell_type": "markdown",
   "id": "8a47f99e",
   "metadata": {},
   "source": [
    "#### Methods"
   ]
  },
  {
   "cell_type": "code",
   "execution_count": null,
   "id": "54cf8edf",
   "metadata": {},
   "outputs": [],
   "source": [
    "# clear()\tRemoves all the elements from the dictionary\n",
    "# copy()\tReturns a copy of the dictionary\n",
    "# fromkeys()\tReturns a dictionary with the specified keys and value\n",
    "# get()\tReturns the value of the specified key\n",
    "# items()\tReturns a list containing a tuple for each key value pair\n",
    "# keys()\tReturns a list containing the dictionary's keys\n",
    "# pop()\tRemoves the element with the specified key\n",
    "# popitem()\tRemoves the last inserted key-value pair\n",
    "# setdefault()\tReturns the value of the specified key. If the key does not exist: insert the key, with the specified value\n",
    "# update()\tUpdates the dictionary with the specified key-value pairs\n",
    "# values()\tReturns a list of all the values in the dictionary"
   ]
  },
  {
   "cell_type": "code",
   "execution_count": 85,
   "id": "291d58cd",
   "metadata": {},
   "outputs": [
    {
     "data": {
      "text/plain": [
       "'John'"
      ]
     },
     "execution_count": 85,
     "metadata": {},
     "output_type": "execute_result"
    }
   ],
   "source": [
    "john.get('name')"
   ]
  },
  {
   "cell_type": "code",
   "execution_count": 86,
   "id": "0ae52fad",
   "metadata": {},
   "outputs": [
    {
     "data": {
      "text/plain": [
       "dict_items([('name', 'John'), ('age', 23), ('country', 'USA'), ('is_graduated', False)])"
      ]
     },
     "execution_count": 86,
     "metadata": {},
     "output_type": "execute_result"
    }
   ],
   "source": [
    "john.items()"
   ]
  },
  {
   "cell_type": "code",
   "execution_count": 87,
   "id": "96b40d2d",
   "metadata": {},
   "outputs": [
    {
     "data": {
      "text/plain": [
       "dict_keys(['name', 'age', 'country', 'is_graduated'])"
      ]
     },
     "execution_count": 87,
     "metadata": {},
     "output_type": "execute_result"
    }
   ],
   "source": [
    "john.keys()"
   ]
  },
  {
   "cell_type": "code",
   "execution_count": 88,
   "id": "d5af0d34",
   "metadata": {},
   "outputs": [
    {
     "data": {
      "text/plain": [
       "dict_values(['John', 23, 'USA', False])"
      ]
     },
     "execution_count": 88,
     "metadata": {},
     "output_type": "execute_result"
    }
   ],
   "source": [
    "john.values()"
   ]
  },
  {
   "cell_type": "code",
   "execution_count": 89,
   "id": "01e8aa11",
   "metadata": {},
   "outputs": [
    {
     "data": {
      "text/plain": [
       "19"
      ]
     },
     "execution_count": 89,
     "metadata": {},
     "output_type": "execute_result"
    }
   ],
   "source": [
    "alice.pop('age')"
   ]
  },
  {
   "cell_type": "code",
   "execution_count": 90,
   "id": "fde131b2",
   "metadata": {},
   "outputs": [
    {
     "data": {
      "text/plain": [
       "{'name': 'Alice', 'country': 'USA', 'is_graduated': True}"
      ]
     },
     "execution_count": 90,
     "metadata": {},
     "output_type": "execute_result"
    }
   ],
   "source": [
    "alice"
   ]
  },
  {
   "cell_type": "code",
   "execution_count": null,
   "id": "e3bede78",
   "metadata": {},
   "outputs": [],
   "source": [
    "# The roll numbers and phone numbers are unique and for that I need data structure."
   ]
  },
  {
   "cell_type": "markdown",
   "id": "51cf69af",
   "metadata": {},
   "source": [
    "# Sets\n",
    "* Sets are used to store multiple items in a single variable.\n",
    "\n",
    "* A set is a collection which is unordered, unchangeable*, and unindexed."
   ]
  },
  {
   "cell_type": "code",
   "execution_count": 94,
   "id": "7f7ae7b9",
   "metadata": {},
   "outputs": [
    {
     "name": "stdout",
     "output_type": "stream",
     "text": [
      "{'S001', 'S003', 'S002'}\n"
     ]
    }
   ],
   "source": [
    "student_id = {\"S001\",\"S002\",\"S003\",\"S001\"}\n",
    "print(student_id)\n"
   ]
  },
  {
   "cell_type": "code",
   "execution_count": 94,
   "id": "af88aebe",
   "metadata": {},
   "outputs": [
    {
     "ename": "TypeError",
     "evalue": "'set' object is not subscriptable",
     "output_type": "error",
     "traceback": [
      "\u001b[1;31m---------------------------------------------------------------------------\u001b[0m",
      "\u001b[1;31mTypeError\u001b[0m                                 Traceback (most recent call last)",
      "Cell \u001b[1;32mIn[94], line 1\u001b[0m\n\u001b[1;32m----> 1\u001b[0m \u001b[43mst\u001b[49m\u001b[43m[\u001b[49m\u001b[38;5;241;43m0\u001b[39;49m\u001b[43m]\u001b[49m\n",
      "\u001b[1;31mTypeError\u001b[0m: 'set' object is not subscriptable"
     ]
    }
   ],
   "source": [
    "st[0]"
   ]
  },
  {
   "cell_type": "markdown",
   "id": "65fdeef1",
   "metadata": {},
   "source": [
    "* You cannot access items in a set by referring to an index or a key.\n",
    "\n",
    "* But you can loop through the set items using a for loop, or ask if a specified value is present in a set, by using the in keyword."
   ]
  },
  {
   "cell_type": "markdown",
   "id": "8b03e41c",
   "metadata": {},
   "source": [
    "* Sets are used to remove duplicates"
   ]
  },
  {
   "cell_type": "code",
   "execution_count": 97,
   "id": "5f89ab84",
   "metadata": {},
   "outputs": [],
   "source": [
    "l = [20,20,20,56,12,48,23]"
   ]
  },
  {
   "cell_type": "code",
   "execution_count": 98,
   "id": "5bb27340",
   "metadata": {},
   "outputs": [
    {
     "name": "stdout",
     "output_type": "stream",
     "text": [
      "{12, 48, 20, 23, 56}\n"
     ]
    }
   ],
   "source": [
    "print(set(l))"
   ]
  },
  {
   "cell_type": "markdown",
   "id": "947b6d24",
   "metadata": {},
   "source": [
    "# Exercises"
   ]
  },
  {
   "cell_type": "markdown",
   "id": "60746b87",
   "metadata": {},
   "source": [
    "\n",
    "*Practice essential Python data structures—lists, tuples, dictionaries, and sets—with exercises from reputable resources to reinforce your understanding and enhance your programming skills*"
   ]
  },
  {
   "cell_type": "code",
   "execution_count": null,
   "id": "b7c406a1",
   "metadata": {},
   "outputs": [],
   "source": []
  }
 ],
 "metadata": {
  "kernelspec": {
   "display_name": "Python 3 (ipykernel)",
   "language": "python",
   "name": "python3"
  },
  "language_info": {
   "codemirror_mode": {
    "name": "ipython",
    "version": 3
   },
   "file_extension": ".py",
   "mimetype": "text/x-python",
   "name": "python",
   "nbconvert_exporter": "python",
   "pygments_lexer": "ipython3",
   "version": "3.10.11"
  }
 },
 "nbformat": 4,
 "nbformat_minor": 5
}
