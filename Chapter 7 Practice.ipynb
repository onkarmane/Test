{
 "cells": [
  {
   "cell_type": "markdown",
   "id": "76e2b93d",
   "metadata": {},
   "source": [
    "# Practice Problems\n"
   ]
  },
  {
   "cell_type": "markdown",
   "id": "3839d2a3",
   "metadata": {},
   "source": [
    " Here are several practice problems that involve dunder methods (special methods) in Python. These problems incorporate container data types, loops, if-else conditions, and classes to provide a comprehensive understanding of how to use and implement dunder methods.\n"
   ]
  },
  {
   "cell_type": "code",
   "execution_count": 1,
   "id": "f0146001",
   "metadata": {},
   "outputs": [],
   "source": [
    "### Practice Problem 1: Implementing `__str__` and `__repr__`\n"
   ]
  },
  {
   "cell_type": "markdown",
   "id": "8754e635",
   "metadata": {},
   "source": [
    "**Problem Statement:**\n",
    "\n",
    "Create a class `Student` that represents a student with the following attributes:\n",
    "- `name` (string)\n",
    "- `age` (integer)\n",
    "- `grades` (list of floats)\n",
    "\n",
    "Implement the `__str__` and `__repr__` methods to provide a readable string representation of the student.\n"
   ]
  },
  {
   "cell_type": "code",
   "execution_count": 2,
   "id": "05dd6ce7",
   "metadata": {},
   "outputs": [],
   "source": [
    "class Student:\n",
    "    def __init__(self, name, age, grades):\n",
    "        self.name = name\n",
    "        self.age = age\n",
    "        self.grades = grades\n",
    "\n",
    "    def __str__(self):\n",
    "        return f\"Student(Name: {self.name}, Age: {self.age}, Grades: {self.grades})\"\n",
    "\n",
    "    def __repr__(self):\n",
    "        return f\"Student(name={self.name}, age={self.age}, grades={self.grades})\"\n"
   ]
  },
  {
   "cell_type": "code",
   "execution_count": 3,
   "id": "8b8039c6",
   "metadata": {},
   "outputs": [
    {
     "name": "stdout",
     "output_type": "stream",
     "text": [
      "Student(Name: Alice, Age: 20, Grades: [85.5, 90.0, 88.0])\n",
      "Student(name=Alice, age=20, grades=[85.5, 90.0, 88.0])\n"
     ]
    }
   ],
   "source": [
    "# Example usage\n",
    "student = Student(\"Alice\", 20, [85.5, 90.0, 88.0])\n",
    "print(student)  # Should print a readable string representation\n",
    "print(repr(student))  # Should print a formal string representation"
   ]
  },
  {
   "cell_type": "code",
   "execution_count": 4,
   "id": "26c7261b",
   "metadata": {},
   "outputs": [],
   "source": [
    "### Practice Problem 2: Implementing `__eq__` and `__lt__`\n"
   ]
  },
  {
   "cell_type": "markdown",
   "id": "6e1cc6b2",
   "metadata": {},
   "source": [
    "**Problem Statement:**\n",
    "\n",
    "Extend the `Student` class to compare students based on their average grades. Implement the `__eq__` method to check if two students have the same average grade and the `__lt__` method to compare students based on their average grade.\n"
   ]
  },
  {
   "cell_type": "code",
   "execution_count": null,
   "id": "8bc8038e",
   "metadata": {},
   "outputs": [],
   "source": [
    "# The isinstance() function returns True if the specified object is of the specified type, otherwise False."
   ]
  },
  {
   "cell_type": "code",
   "execution_count": 48,
   "id": "e3a2f681",
   "metadata": {},
   "outputs": [],
   "source": [
    "class Student:\n",
    "    def __init__(self, name, age, grades):\n",
    "        self.name = name\n",
    "        self.age = age\n",
    "        self.grades = grades\n",
    "\n",
    "    def average_grade(self):\n",
    "        return sum(self.grades) / len(self.grades)\n",
    "\n",
    "    def __eq__(self, other):\n",
    "        if self.average_grade() == other.average_grade():\n",
    "            return f\"Two grades are equal\"\n",
    "        else:\n",
    "            return f\"Two grades are not EQUAL\"\n",
    "\n",
    "    def __lt__(self, other):\n",
    "        if self.average_grade() < other.average_grade():\n",
    "            return \"Student2 average_grade is greator than Student1\"\n",
    "        else:\n",
    "            return \"Student1 average_grade is greator than Student2\"\n"
   ]
  },
  {
   "cell_type": "code",
   "execution_count": 49,
   "id": "35af3bf5",
   "metadata": {},
   "outputs": [],
   "source": [
    "# Example usage\n",
    "student1 = Student(\"Alice\", 20, [85.5, 90.0, 88.0])\n",
    "student2 = Student(\"Bob\", 21, [80.0, 85.0, 87.0])\n",
    "student3 = Student(\"Charlie\", 22, [85.5, 90.0, 88.0])"
   ]
  },
  {
   "cell_type": "code",
   "execution_count": 50,
   "id": "aba0229d",
   "metadata": {},
   "outputs": [
    {
     "data": {
      "text/plain": [
       "87.83333333333333"
      ]
     },
     "execution_count": 50,
     "metadata": {},
     "output_type": "execute_result"
    }
   ],
   "source": [
    "student1.average_grade()\n"
   ]
  },
  {
   "cell_type": "code",
   "execution_count": 51,
   "id": "3c37a4e9",
   "metadata": {},
   "outputs": [
    {
     "data": {
      "text/plain": [
       "84.0"
      ]
     },
     "execution_count": 51,
     "metadata": {},
     "output_type": "execute_result"
    }
   ],
   "source": [
    "student2.average_grade()\n"
   ]
  },
  {
   "cell_type": "code",
   "execution_count": 52,
   "id": "250ad3d2",
   "metadata": {},
   "outputs": [
    {
     "data": {
      "text/plain": [
       "87.83333333333333"
      ]
     },
     "execution_count": 52,
     "metadata": {},
     "output_type": "execute_result"
    }
   ],
   "source": [
    "student3.average_grade()"
   ]
  },
  {
   "cell_type": "code",
   "execution_count": 54,
   "id": "26b04d3a",
   "metadata": {},
   "outputs": [
    {
     "name": "stdout",
     "output_type": "stream",
     "text": [
      "Two grades are not EQUAL\n",
      "Two grades are equal\n",
      "Student1 average_grade is greator than Student2\n"
     ]
    }
   ],
   "source": [
    "print(student1 == student2)  \n",
    "print(student1 == student3) \n",
    "print(student1 < student2) "
   ]
  },
  {
   "cell_type": "code",
   "execution_count": 8,
   "id": "402cf4e9",
   "metadata": {},
   "outputs": [],
   "source": [
    "### Practice Problem 3: Implementing `__len__`, `__getitem__`, and `__setitem__`\n"
   ]
  },
  {
   "cell_type": "markdown",
   "id": "b51ff9f4",
   "metadata": {},
   "source": [
    "**Problem Statement:**\n",
    "\n",
    "Create a class `Classroom` that contains a list of `Student` objects. Implement the `__len__` method to return the number of students, the `__getitem__` method to access a student by index, and the `__setitem__` method to update a student at a specific index.\n"
   ]
  },
  {
   "cell_type": "code",
   "execution_count": 86,
   "id": "68bdc58c",
   "metadata": {},
   "outputs": [],
   "source": [
    "class Student:\n",
    "    def __init__(self, name, age, grades):\n",
    "        self.name = name\n",
    "        self.age = age\n",
    "        self.grades = grades\n",
    "\n",
    "    def __str__(self):\n",
    "        return f\"Student(Name: {self.name}, Age: {self.age}, Grades: {self.grades})\"\n"
   ]
  },
  {
   "cell_type": "code",
   "execution_count": 87,
   "id": "847c8767",
   "metadata": {},
   "outputs": [],
   "source": [
    "\n",
    "class Classroom:\n",
    "    def __init__(self):\n",
    "        self.students = []\n",
    "\n",
    "    def add_student(self, student):\n",
    "        self.students.append(student)\n",
    "\n",
    "    def __len__(self):\n",
    "        return len(self.students)\n",
    "\n",
    "    def __getitem__(self, index):\n",
    "        return self.students[index]\n",
    "\n",
    "    def __setitem__(self, index, student):\n",
    "        self.students[index] = student"
   ]
  },
  {
   "cell_type": "code",
   "execution_count": 88,
   "id": "e4714ffc",
   "metadata": {},
   "outputs": [],
   "source": [
    "# Example usage\n",
    "student1 = Student(\"Alice\", 20, [85.5, 90.0, 88.0])\n",
    "student2 = Student(\"Bob\", 21, [80.0, 85.0, 87.0])"
   ]
  },
  {
   "cell_type": "code",
   "execution_count": 89,
   "id": "20574468",
   "metadata": {},
   "outputs": [],
   "source": [
    "classroom = Classroom()\n",
    "classroom.add_student(student1)\n",
    "classroom.add_student(student2)\n"
   ]
  },
  {
   "cell_type": "code",
   "execution_count": 90,
   "id": "9f67721d",
   "metadata": {},
   "outputs": [
    {
     "name": "stdout",
     "output_type": "stream",
     "text": [
      "2\n",
      "Student(Name: Alice, Age: 20, Grades: [85.5, 90.0, 88.0])\n",
      "Student(Name: Charlie, Age: 22, Grades: [75.0, 80.0, 70.0])\n"
     ]
    }
   ],
   "source": [
    "print(len(classroom)) \n",
    "print(classroom[0])  # Should print details of student1\n",
    "classroom[1] = Student(\"Charlie\", 22, [75.0, 80.0, 70.0])\n",
    "print(classroom[1])  # Should print updated details of the student at index 1"
   ]
  },
  {
   "cell_type": "code",
   "execution_count": 91,
   "id": "3d96205b",
   "metadata": {},
   "outputs": [],
   "source": [
    "### Practice Problem 4: Implementing `__iter__` and `__next__`\n"
   ]
  },
  {
   "cell_type": "markdown",
   "id": "abb29751",
   "metadata": {},
   "source": [
    "**Problem Statement:**\n",
    "\n",
    "Extend the `Classroom` class to make it iterable. Implement the `__iter__` method to return an iterator and the `__next__` method to iterate over the students in the classroom.\n"
   ]
  },
  {
   "cell_type": "code",
   "execution_count": 92,
   "id": "02e8a040",
   "metadata": {},
   "outputs": [],
   "source": [
    "class Student:\n",
    "    def __init__(self, name, age, grades):\n",
    "        self.name = name\n",
    "        self.age = age\n",
    "        self.grades = grades\n",
    "\n",
    "    def __str__(self):\n",
    "        return f\"Student(Name: {self.name}, Age: {self.age}, Grades: {self.grades})\"\n"
   ]
  },
  {
   "cell_type": "code",
   "execution_count": 94,
   "id": "d8b083a0",
   "metadata": {},
   "outputs": [],
   "source": [
    "class Classroom:\n",
    "    def __init__(self):\n",
    "        self.students = []\n",
    "\n",
    "    def add_student(self, student):\n",
    "        self.students.append(student)\n",
    "\n",
    "    def __iter__(self):\n",
    "        self.index = 0\n",
    "        return self\n",
    "\n",
    "    def __next__(self):\n",
    "        if self.index < len(self.students):\n",
    "            student = self.students[self.index]\n",
    "            self.index += 1\n",
    "            return student\n",
    "        else:\n",
    "            raise StopIteration\n"
   ]
  },
  {
   "cell_type": "code",
   "execution_count": 95,
   "id": "6462c917",
   "metadata": {},
   "outputs": [],
   "source": [
    "# Example usage\n",
    "student1 = Student(\"Alice\", 20, [85.5, 90.0, 88.0])\n",
    "student2 = Student(\"Bob\", 21, [80.0, 85.0, 87.0])\n"
   ]
  },
  {
   "cell_type": "code",
   "execution_count": 96,
   "id": "9a6c106e",
   "metadata": {},
   "outputs": [],
   "source": [
    "classroom = Classroom()\n",
    "classroom.add_student(student1)\n",
    "classroom.add_student(student2)"
   ]
  },
  {
   "cell_type": "code",
   "execution_count": 97,
   "id": "f6486cd1",
   "metadata": {},
   "outputs": [
    {
     "name": "stdout",
     "output_type": "stream",
     "text": [
      "Student(Name: Alice, Age: 20, Grades: [85.5, 90.0, 88.0])\n",
      "Student(Name: Bob, Age: 21, Grades: [80.0, 85.0, 87.0])\n"
     ]
    }
   ],
   "source": [
    "for student in classroom:\n",
    "    print(student)  # Should print details of each student in the classroom"
   ]
  },
  {
   "cell_type": "code",
   "execution_count": 98,
   "id": "baa4739a",
   "metadata": {},
   "outputs": [],
   "source": [
    "### Practice Problem 5: Implementing `__contains__`\n"
   ]
  },
  {
   "cell_type": "markdown",
   "id": "7773774f",
   "metadata": {},
   "source": [
    "**Problem Statement:**\n",
    "\n",
    "Extend the `Classroom` class to check if a student is in the classroom using the `in` keyword. Implement the `__contains__` method to achieve this.\n"
   ]
  },
  {
   "cell_type": "code",
   "execution_count": 99,
   "id": "b4f21000",
   "metadata": {},
   "outputs": [],
   "source": [
    "class Student:\n",
    "    def __init__(self, name, age, grades):\n",
    "        self.name = name\n",
    "        self.age = age\n",
    "        self.grades = grades\n",
    "\n",
    "    def __str__(self):\n",
    "        return f\"Student(Name: {self.name}, Age: {self.age}, Grades: {self.grades})\"\n",
    "\n",
    "    def __eq__(self, other):\n",
    "        return self.name == other.name and self.age == other.age and self.grades == other.grades\n"
   ]
  },
  {
   "cell_type": "code",
   "execution_count": 100,
   "id": "747f3e18",
   "metadata": {},
   "outputs": [],
   "source": [
    "class Classroom:\n",
    "    def __init__(self):\n",
    "        self.students = []\n",
    "\n",
    "    def add_student(self, student):\n",
    "        self.students.append(student)\n",
    "\n",
    "    def __contains__(self, student):\n",
    "        return student in self.students"
   ]
  },
  {
   "cell_type": "code",
   "execution_count": 101,
   "id": "a255f685",
   "metadata": {},
   "outputs": [],
   "source": [
    "# Example usage\n",
    "student1 = Student(\"Alice\", 20, [85.5, 90.0, 88.0])\n",
    "student2 = Student(\"Bob\", 21, [80.0, 85.0, 87.0])"
   ]
  },
  {
   "cell_type": "code",
   "execution_count": 102,
   "id": "0ae668d5",
   "metadata": {},
   "outputs": [],
   "source": [
    "classroom = Classroom()\n",
    "classroom.add_student(student1)"
   ]
  },
  {
   "cell_type": "code",
   "execution_count": 103,
   "id": "df25f5f6",
   "metadata": {},
   "outputs": [
    {
     "name": "stdout",
     "output_type": "stream",
     "text": [
      "True\n",
      "False\n"
     ]
    }
   ],
   "source": [
    "print(student1 in classroom)  # Should print True\n",
    "print(student2 in classroom)  # Should print False"
   ]
  },
  {
   "cell_type": "code",
   "execution_count": null,
   "id": "c7b1cbff",
   "metadata": {},
   "outputs": [],
   "source": []
  },
  {
   "cell_type": "code",
   "execution_count": null,
   "id": "11cf3a3e",
   "metadata": {},
   "outputs": [],
   "source": []
  }
 ],
 "metadata": {
  "kernelspec": {
   "display_name": "Python 3 (ipykernel)",
   "language": "python",
   "name": "python3"
  },
  "language_info": {
   "codemirror_mode": {
    "name": "ipython",
    "version": 3
   },
   "file_extension": ".py",
   "mimetype": "text/x-python",
   "name": "python",
   "nbconvert_exporter": "python",
   "pygments_lexer": "ipython3",
   "version": "3.10.11"
  }
 },
 "nbformat": 4,
 "nbformat_minor": 5
}
