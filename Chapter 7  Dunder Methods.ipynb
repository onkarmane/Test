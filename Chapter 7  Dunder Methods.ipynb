{
 "cells": [
  {
   "cell_type": "markdown",
   "id": "7b0ecb59",
   "metadata": {},
   "source": [
    "#  Python for Machine Learning Series\n",
    "\n",
    "This tutorial marks the beginning of a series focused on introducing programming concepts through practical, code-driven lessons using the Python language. Emphasizing a hands-on approach, learners are encouraged to actively engage with the material by executing code and experimenting with examples for an effective learning experience."
   ]
  },
  {
   "cell_type": "markdown",
   "id": "04f08d6f",
   "metadata": {},
   "source": [
    "# Dunder Methods"
   ]
  },
  {
   "cell_type": "markdown",
   "id": "21bd813c",
   "metadata": {},
   "source": [
    "Dunder methods (short for \"double underscore\" methods) are special methods in Python with names \\\n",
    "surrounded by double underscores, like __init__ or __str__. These methods enable you to perform \\\n",
    "specific operations on objects of their respective types."
   ]
  },
  {
   "cell_type": "code",
   "execution_count": 2,
   "id": "f78114d0",
   "metadata": {},
   "outputs": [
    {
     "name": "stdout",
     "output_type": "stream",
     "text": [
      "<__main__.Student object at 0x000001DAC954C3A0>\n"
     ]
    }
   ],
   "source": [
    "class Student:\n",
    "    def __init__(self,name):\n",
    "        self.name = name\n",
    "    \n",
    "    def generate_greet(self):\n",
    "        print(f\"Welcome {self.name}\")\n",
    "\n",
    "# See the magic\n",
    "alice = Student(name= \"Alice\")\n",
    "bob = Student(name= \"Bob\")\n",
    "\n",
    "# Explain __init__\n",
    "\n",
    "print(alice)"
   ]
  },
  {
   "cell_type": "code",
   "execution_count": null,
   "id": "4e1eddc8",
   "metadata": {},
   "outputs": [],
   "source": [
    "__str__"
   ]
  },
  {
   "cell_type": "code",
   "execution_count": 4,
   "id": "e9898444",
   "metadata": {},
   "outputs": [
    {
     "name": "stdout",
     "output_type": "stream",
     "text": [
      "This is class student and the instance of class is Alice\n"
     ]
    }
   ],
   "source": [
    "class Student:\n",
    "    def __init__(self,name):\n",
    "        self.name = name\n",
    "    \n",
    "    def generate_greet(self):\n",
    "        print(f\"Welcome {self.name}\")\n",
    "    def __str__(self):\n",
    "       return f\"This is class student and the instance of class is {self.name}\"\n",
    "\n",
    "# See the magic\n",
    "alice = Student(name= \"Alice\")\n",
    "bob = Student(name= \"Bob\")\n",
    "\n",
    "\n",
    "\n",
    "print(alice)"
   ]
  },
  {
   "cell_type": "markdown",
   "id": "4718c505",
   "metadata": {},
   "source": [
    "### Dunder methods for Container data types - Lists, sets, tuples, Dictionaries"
   ]
  },
  {
   "cell_type": "code",
   "execution_count": 10,
   "id": "2cd3b754",
   "metadata": {},
   "outputs": [
    {
     "name": "stdout",
     "output_type": "stream",
     "text": [
      "4\n",
      "4\n"
     ]
    }
   ],
   "source": [
    "# 1. **`__len__`**: Returns the number of items in the list.\n",
    "\n",
    "students = [\"Alice\",\"Bob\",\"Steve\",\"Amit\"]\n",
    "print(len(students)) \n",
    "print(students.__len__())"
   ]
  },
  {
   "cell_type": "code",
   "execution_count": 11,
   "id": "b04672e0",
   "metadata": {},
   "outputs": [
    {
     "name": "stdout",
     "output_type": "stream",
     "text": [
      "Bob\n",
      "Bob\n"
     ]
    }
   ],
   "source": [
    "\n",
    "# 2. **`__getitem__`**: Allows indexing to get an item.\n",
    "\n",
    "students = [\"Alice\",\"Bob\",\"Steve\",\"Amit\"]\n",
    "print(students[1]) \n",
    "\n",
    "print(students.__getitem__(1))\n",
    "\n",
    "\n"
   ]
  },
  {
   "cell_type": "code",
   "execution_count": 12,
   "id": "da8c9bb8",
   "metadata": {},
   "outputs": [
    {
     "name": "stdout",
     "output_type": "stream",
     "text": [
      "['Alice', 'Jane', 'Steve', 'Amit']\n",
      "['Alice', 'Jane', 'Steve', 'Amit']\n"
     ]
    }
   ],
   "source": [
    "# 3. **`__setitem__`**: Allows indexing to set an item.\n",
    "\n",
    "students = [\"Alice\",\"Bob\",\"Steve\",\"Amit\"]\n",
    "students[1] = \"Jane\"\n",
    "print(students)\n",
    "students.__setitem__(1, \"Jane\")\n",
    "print(students)\n",
    "\n",
    "\n"
   ]
  },
  {
   "cell_type": "code",
   "execution_count": 13,
   "id": "676861f8",
   "metadata": {},
   "outputs": [
    {
     "name": "stdout",
     "output_type": "stream",
     "text": [
      "['Alice', 'Steve', 'Amit']\n"
     ]
    }
   ],
   "source": [
    "# 4. **`__delitem__`**: Allows indexing to delete an item.\n",
    "\n",
    "students = [\"Alice\",\"Bob\",\"Steve\",\"Amit\"]\n",
    "del students[1]\n",
    "print(students) \n"
   ]
  },
  {
   "cell_type": "code",
   "execution_count": 16,
   "id": "8b1d2895",
   "metadata": {},
   "outputs": [
    {
     "data": {
      "text/plain": [
       "['Alice', 'Steve', 'Amit']"
      ]
     },
     "execution_count": 16,
     "metadata": {},
     "output_type": "execute_result"
    }
   ],
   "source": [
    "students = [\"Alice\",\"Bob\",\"Steve\",\"Amit\"]\n",
    "students.__delitem__(1)\n",
    "students"
   ]
  },
  {
   "cell_type": "markdown",
   "id": "c53cb27f",
   "metadata": {},
   "source": [
    "### Dictionaries"
   ]
  },
  {
   "cell_type": "code",
   "execution_count": 17,
   "id": "2041c0c8",
   "metadata": {},
   "outputs": [
    {
     "name": "stdout",
     "output_type": "stream",
     "text": [
      "2\n"
     ]
    }
   ],
   "source": [
    "### Dictionaries\n",
    "\n",
    "# 1. **`__len__`**: Returns the number of items in the dictionary.\n",
    "\n",
    "gpa = {'Alice': 4.2, 'Bob': 3.7}\n",
    "print(len(gpa)) \n",
    "\n",
    "\n"
   ]
  },
  {
   "cell_type": "code",
   "execution_count": 18,
   "id": "654135be",
   "metadata": {},
   "outputs": [
    {
     "name": "stdout",
     "output_type": "stream",
     "text": [
      "4.2\n",
      "4.2\n"
     ]
    }
   ],
   "source": [
    "# 2. **`__getitem__`**: Allows key indexing to get a value.\n",
    "\n",
    "gpa = {'Alice': 4.2, 'Bob': 3.7}\n",
    "print(gpa['Alice'])\n",
    "\n",
    "print(gpa.__getitem__(\"Alice\"))\n",
    "\n"
   ]
  },
  {
   "cell_type": "code",
   "execution_count": 20,
   "id": "f2ddf5dc",
   "metadata": {},
   "outputs": [
    {
     "name": "stdout",
     "output_type": "stream",
     "text": [
      "{'Alice': 3.2, 'Bob': 3.7}\n",
      "{'Alice': 3.2, 'Bob': 3.7}\n"
     ]
    }
   ],
   "source": [
    "# 3. **`__setitem__`**: Allows key indexing to set a value.\n",
    " \n",
    "gpa = {'Alice': 4.2, 'Bob': 3.7}\n",
    "gpa['Alice'] = 3.2\n",
    "print(gpa)  \n",
    "\n",
    "gpa.__setitem__(\"Alice\",3.2)\n",
    "print(gpa)\n",
    "\n",
    "\n"
   ]
  },
  {
   "cell_type": "code",
   "execution_count": 21,
   "id": "26d4a5d1",
   "metadata": {},
   "outputs": [
    {
     "name": "stdout",
     "output_type": "stream",
     "text": [
      "{'Bob': 3.7}\n"
     ]
    },
    {
     "data": {
      "text/plain": [
       "{'Bob': 3.7}"
      ]
     },
     "execution_count": 21,
     "metadata": {},
     "output_type": "execute_result"
    }
   ],
   "source": [
    "# 4. **`__delitem__`**: Allows key indexing to delete a value.\n",
    "\n",
    "gpa = {'Alice': 4.2, 'Bob': 3.7}\n",
    "del gpa['Alice']\n",
    "print(gpa)\n",
    "gpa = {'Alice': 4.2, 'Bob': 3.7}\n",
    "gpa.__delitem__('Alice')\n",
    "gpa\n"
   ]
  },
  {
   "cell_type": "code",
   "execution_count": 22,
   "id": "2a431d4f",
   "metadata": {},
   "outputs": [],
   "source": [
    "## Similar methods for strings sets and tuples"
   ]
  },
  {
   "cell_type": "code",
   "execution_count": null,
   "id": "d95db688",
   "metadata": {},
   "outputs": [],
   "source": []
  }
 ],
 "metadata": {
  "kernelspec": {
   "display_name": "Python 3 (ipykernel)",
   "language": "python",
   "name": "python3"
  },
  "language_info": {
   "codemirror_mode": {
    "name": "ipython",
    "version": 3
   },
   "file_extension": ".py",
   "mimetype": "text/x-python",
   "name": "python",
   "nbconvert_exporter": "python",
   "pygments_lexer": "ipython3",
   "version": "3.10.11"
  }
 },
 "nbformat": 4,
 "nbformat_minor": 5
}
