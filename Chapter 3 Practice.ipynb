{
 "cells": [
  {
   "cell_type": "markdown",
   "id": "75882ac3",
   "metadata": {},
   "source": [
    "# Exercises for List, Tuple, and Dictionary with Methods"
   ]
  },
  {
   "cell_type": "markdown",
   "id": "88526dfc",
   "metadata": {},
   "source": [
    "**Introduction**: Lists are mutable sequences used to store collections of items.\n",
    "\n",
    "**Example**:"
   ]
  },
  {
   "cell_type": "code",
   "execution_count": 1,
   "id": "51244208",
   "metadata": {},
   "outputs": [],
   "source": [
    "student_names = [\"Amit Kumar\", \"Rajesh Singh\", \"Sunil Joshi\", \"Bob Brown\"]\n"
   ]
  },
  {
   "cell_type": "markdown",
   "id": "19392d3c",
   "metadata": {},
   "source": [
    "**List Methods**:\n",
    "- **`append(item)`**: Adds an item to the end of the list.\n",
    "- **`remove(item)`**: Removes the first occurrence of an item.\n",
    "- **`insert(index, item)`**: Inserts an item at a specified position.\n",
    "- **`pop(index)`**: Removes and returns the item at the specified position.\n",
    "- **`index(item)`**: Returns the index of the first occurrence of an item.\n"
   ]
  },
  {
   "cell_type": "markdown",
   "id": "219ed9dc",
   "metadata": {},
   "source": [
    "**Exercise 1**: Create a list of student names and append a new name to the list.\n"
   ]
  },
  {
   "cell_type": "code",
   "execution_count": 2,
   "id": "6b565af2",
   "metadata": {},
   "outputs": [
    {
     "name": "stdout",
     "output_type": "stream",
     "text": [
      "['Amit Kumar', 'Rajesh Singh', 'Sunil Joshi', 'Bob Brown', 'John Doe']\n"
     ]
    }
   ],
   "source": [
    "student_names = [\"Amit Kumar\", \"Rajesh Singh\", \"Sunil Joshi\", \"Bob Brown\"]\n",
    "student_names.append(\"John Doe\")\n",
    "print(student_names)"
   ]
  },
  {
   "cell_type": "markdown",
   "id": "72670fe6",
   "metadata": {},
   "source": [
    "**Exercise 2**: Remove \"Sunil Joshi\" from the list and print the updated list.\n"
   ]
  },
  {
   "cell_type": "code",
   "execution_count": 3,
   "id": "cc3e2b38",
   "metadata": {},
   "outputs": [
    {
     "name": "stdout",
     "output_type": "stream",
     "text": [
      "['Amit Kumar', 'Rajesh Singh', 'Bob Brown', 'John Doe']\n"
     ]
    }
   ],
   "source": [
    "student_names.remove(\"Sunil Joshi\")\n",
    "print(student_names)"
   ]
  },
  {
   "cell_type": "markdown",
   "id": "4477cafc",
   "metadata": {},
   "source": [
    "**Exercise 3**: Insert \"Alice Johnson\" at index 2 and print the list.\n"
   ]
  },
  {
   "cell_type": "code",
   "execution_count": 4,
   "id": "a2ffefa3",
   "metadata": {},
   "outputs": [
    {
     "name": "stdout",
     "output_type": "stream",
     "text": [
      "['Amit Kumar', 'Rajesh Singh', 'Alice Johnson', 'Bob Brown', 'John Doe']\n"
     ]
    }
   ],
   "source": [
    "student_names.insert(2, \"Alice Johnson\")\n",
    "print(student_names)"
   ]
  },
  {
   "cell_type": "markdown",
   "id": "d58347da",
   "metadata": {},
   "source": [
    "**Exercise 4**: Pop the last item from the list and print the list and the popped item.\n"
   ]
  },
  {
   "cell_type": "code",
   "execution_count": 5,
   "id": "a98f0f16",
   "metadata": {},
   "outputs": [
    {
     "name": "stdout",
     "output_type": "stream",
     "text": [
      "['Amit Kumar', 'Rajesh Singh', 'Alice Johnson', 'Bob Brown']\n",
      "John Doe\n"
     ]
    }
   ],
   "source": [
    "popped_student = student_names.pop()\n",
    "print(student_names)\n",
    "print(popped_student)"
   ]
  },
  {
   "cell_type": "markdown",
   "id": "a90e0c9b",
   "metadata": {},
   "source": [
    "**Exercise 5**: Find and print the index of \"Rajesh Singh\".\n"
   ]
  },
  {
   "cell_type": "code",
   "execution_count": 6,
   "id": "c4028436",
   "metadata": {},
   "outputs": [
    {
     "name": "stdout",
     "output_type": "stream",
     "text": [
      "1\n"
     ]
    }
   ],
   "source": [
    "index_rajesh = student_names.index(\"Rajesh Singh\")\n",
    "print(index_rajesh)"
   ]
  },
  {
   "cell_type": "markdown",
   "id": "1262ffd6",
   "metadata": {},
   "source": [
    "#### Tuple Exercises\n",
    "\n",
    "**Introduction**: Tuples are immutable sequences used to store collections of items.\n"
   ]
  },
  {
   "cell_type": "code",
   "execution_count": 7,
   "id": "28be13a7",
   "metadata": {},
   "outputs": [],
   "source": [
    "student_tuple = (\"S001\", \"Amit Kumar\", 21, \"D\", 2.50, False, \"2021-10-07\", \"amit@example.com\", \"254803\", \"India\")\n"
   ]
  },
  {
   "cell_type": "markdown",
   "id": "7400a256",
   "metadata": {},
   "source": [
    "**Tuple Methods**:\n",
    "- **`count(item)`**: Returns the number of occurrences of an item.\n",
    "- **`index(item)`**: Returns the index of the first occurrence of an item.\n"
   ]
  },
  {
   "cell_type": "markdown",
   "id": "4a68bc8c",
   "metadata": {},
   "source": [
    "**Exercise 1**: Create a tuple for a student and print it.\n"
   ]
  },
  {
   "cell_type": "code",
   "execution_count": 8,
   "id": "aa81efc6",
   "metadata": {},
   "outputs": [
    {
     "name": "stdout",
     "output_type": "stream",
     "text": [
      "('S001', 'Amit Kumar', 21, 'D', 2.5, False, '2021-10-07', 'amit@example.com', '254803', 'India')\n"
     ]
    }
   ],
   "source": [
    "student_tuple = (\"S001\", \"Amit Kumar\", 21, \"D\", 2.50, False, \"2021-10-07\", \"amit@example.com\", \"254803\", \"India\")\n",
    "print(student_tuple)"
   ]
  },
  {
   "cell_type": "markdown",
   "id": "9b891004",
   "metadata": {},
   "source": [
    "**Exercise 2**: Count the number of times \"India\" appears in the tuple.\n"
   ]
  },
  {
   "cell_type": "code",
   "execution_count": 9,
   "id": "17082510",
   "metadata": {},
   "outputs": [
    {
     "name": "stdout",
     "output_type": "stream",
     "text": [
      "1\n"
     ]
    }
   ],
   "source": [
    "count_india = student_tuple.count(\"India\")\n",
    "print(count_india)"
   ]
  },
  {
   "cell_type": "markdown",
   "id": "dd01c424",
   "metadata": {},
   "source": [
    "**Exercise 3**: Find and print the index of \"Amit Kumar\".\n"
   ]
  },
  {
   "cell_type": "code",
   "execution_count": 10,
   "id": "9fb7907e",
   "metadata": {},
   "outputs": [
    {
     "name": "stdout",
     "output_type": "stream",
     "text": [
      "1\n"
     ]
    }
   ],
   "source": [
    "index_amit = student_tuple.index(\"Amit Kumar\")\n",
    "print(index_amit)"
   ]
  },
  {
   "cell_type": "markdown",
   "id": "81daf7b3",
   "metadata": {},
   "source": [
    "#### Dictionary Exercises\n",
    "\n",
    "**Introduction**: Dictionaries are mutable mappings from keys to values.\n"
   ]
  },
  {
   "cell_type": "code",
   "execution_count": 11,
   "id": "4f73e821",
   "metadata": {},
   "outputs": [],
   "source": [
    "student_dict = {\n",
    "    \"Student ID\": \"S001\",\n",
    "    \"Name\": \"Amit Kumar\",\n",
    "    \"Age\": 21,\n",
    "    \"Grade\": \"D\",\n",
    "    \"GPA\": 2.50,\n",
    "    \"Graduated\": False,\n",
    "    \"Enrollment Date\": \"2021-10-07\",\n",
    "    \"Email\": \"amit@example.com\",\n",
    "    \"Phone Number\": \"254803\",\n",
    "    \"Country\": \"India\"\n",
    "}"
   ]
  },
  {
   "cell_type": "markdown",
   "id": "c0485f7e",
   "metadata": {},
   "source": [
    "**Dictionary Methods**:\n",
    "- **`get(key)`**: Returns the value for the specified key.\n",
    "- **`keys()`**: Returns a list of the dictionary's keys.\n",
    "- **`values()`**: Returns a list of the dictionary's values.\n",
    "- **`items()`**: Returns a list of the dictionary's key-value pairs.\n",
    "- **`update(dictionary)`**: Updates the dictionary with elements from another dictionary.\n"
   ]
  },
  {
   "cell_type": "code",
   "execution_count": 12,
   "id": "acd8f7d5",
   "metadata": {},
   "outputs": [
    {
     "name": "stdout",
     "output_type": "stream",
     "text": [
      "{'Student ID': 'S001', 'Name': 'Amit Kumar', 'Age': 21, 'Grade': 'D', 'GPA': 2.5, 'Graduated': False, 'Enrollment Date': '2021-10-07', 'Email': 'amit@example.com', 'Phone Number': '254803', 'Country': 'India'}\n"
     ]
    }
   ],
   "source": [
    "student_dict = {\n",
    "    \"Student ID\": \"S001\",\n",
    "    \"Name\": \"Amit Kumar\",\n",
    "    \"Age\": 21,\n",
    "    \"Grade\": \"D\",\n",
    "    \"GPA\": 2.50,\n",
    "    \"Graduated\": False,\n",
    "    \"Enrollment Date\": \"2021-10-07\",\n",
    "    \"Email\": \"amit@example.com\",\n",
    "    \"Phone Number\": \"254803\",\n",
    "    \"Country\": \"India\"\n",
    "}\n",
    "print(student_dict)"
   ]
  },
  {
   "cell_type": "markdown",
   "id": "de4fe95e",
   "metadata": {},
   "source": [
    "**Exercise 2**: Get and print the GPA of the student.\n"
   ]
  },
  {
   "cell_type": "code",
   "execution_count": 13,
   "id": "670ae1b3",
   "metadata": {},
   "outputs": [
    {
     "name": "stdout",
     "output_type": "stream",
     "text": [
      "2.5\n"
     ]
    }
   ],
   "source": [
    "gpa = student_dict.get(\"GPA\")\n",
    "print(gpa)"
   ]
  },
  {
   "cell_type": "markdown",
   "id": "e0d05af6",
   "metadata": {},
   "source": [
    "**Exercise 3**: Print all the keys of the dictionary.\n"
   ]
  },
  {
   "cell_type": "code",
   "execution_count": 14,
   "id": "9c89edd1",
   "metadata": {},
   "outputs": [
    {
     "name": "stdout",
     "output_type": "stream",
     "text": [
      "dict_keys(['Student ID', 'Name', 'Age', 'Grade', 'GPA', 'Graduated', 'Enrollment Date', 'Email', 'Phone Number', 'Country'])\n"
     ]
    }
   ],
   "source": [
    "keys = student_dict.keys()\n",
    "print(keys)"
   ]
  },
  {
   "cell_type": "markdown",
   "id": "9b737d1c",
   "metadata": {},
   "source": [
    "**Exercise 4**: Print all the values of the dictionary.\n"
   ]
  },
  {
   "cell_type": "code",
   "execution_count": 15,
   "id": "0242db0a",
   "metadata": {},
   "outputs": [
    {
     "name": "stdout",
     "output_type": "stream",
     "text": [
      "dict_values(['S001', 'Amit Kumar', 21, 'D', 2.5, False, '2021-10-07', 'amit@example.com', '254803', 'India'])\n"
     ]
    }
   ],
   "source": [
    "values = student_dict.values()\n",
    "print(values)"
   ]
  },
  {
   "cell_type": "markdown",
   "id": "19079d85",
   "metadata": {},
   "source": [
    "**Exercise 5**: Print all the key-value pairs of the dictionary.\n"
   ]
  },
  {
   "cell_type": "code",
   "execution_count": 16,
   "id": "540a1680",
   "metadata": {},
   "outputs": [
    {
     "name": "stdout",
     "output_type": "stream",
     "text": [
      "dict_items([('Student ID', 'S001'), ('Name', 'Amit Kumar'), ('Age', 21), ('Grade', 'D'), ('GPA', 2.5), ('Graduated', False), ('Enrollment Date', '2021-10-07'), ('Email', 'amit@example.com'), ('Phone Number', '254803'), ('Country', 'India')])\n"
     ]
    }
   ],
   "source": [
    "items = student_dict.items()\n",
    "print(items)"
   ]
  },
  {
   "cell_type": "markdown",
   "id": "d2c34b15",
   "metadata": {},
   "source": [
    "**Exercise 6**: Update the dictionary with a new key-value pair `{\"Phone Number\": \"9876543210\"}` and print the updated dictionary.\n"
   ]
  },
  {
   "cell_type": "code",
   "execution_count": 17,
   "id": "97cdafaa",
   "metadata": {},
   "outputs": [
    {
     "name": "stdout",
     "output_type": "stream",
     "text": [
      "{'Student ID': 'S001', 'Name': 'Amit Kumar', 'Age': 21, 'Grade': 'D', 'GPA': 2.5, 'Graduated': False, 'Enrollment Date': '2021-10-07', 'Email': 'amit@example.com', 'Phone Number': '9876543210', 'Country': 'India'}\n"
     ]
    }
   ],
   "source": [
    "student_dict.update({\"Phone Number\": \"9876543210\"})\n",
    "print(student_dict)"
   ]
  },
  {
   "cell_type": "code",
   "execution_count": null,
   "id": "96e34fdc",
   "metadata": {},
   "outputs": [],
   "source": []
  },
  {
   "cell_type": "code",
   "execution_count": null,
   "id": "6f2038c0",
   "metadata": {},
   "outputs": [],
   "source": []
  },
  {
   "cell_type": "code",
   "execution_count": null,
   "id": "b9b8fcfa",
   "metadata": {},
   "outputs": [],
   "source": []
  }
 ],
 "metadata": {
  "kernelspec": {
   "display_name": "Python 3 (ipykernel)",
   "language": "python",
   "name": "python3"
  },
  "language_info": {
   "codemirror_mode": {
    "name": "ipython",
    "version": 3
   },
   "file_extension": ".py",
   "mimetype": "text/x-python",
   "name": "python",
   "nbconvert_exporter": "python",
   "pygments_lexer": "ipython3",
   "version": "3.10.11"
  }
 },
 "nbformat": 4,
 "nbformat_minor": 5
}
