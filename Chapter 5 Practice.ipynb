{
 "cells": [
  {
   "cell_type": "markdown",
   "id": "d0f1448e",
   "metadata": {},
   "source": [
    "# Practice Problems"
   ]
  },
  {
   "cell_type": "markdown",
   "id": "b37fec4c",
   "metadata": {},
   "source": [
    "Here are some more complex examples that delve deeper into various function-related concepts, including handling more intricate data structures, combining multiple concepts, and more advanced usage of functions."
   ]
  },
  {
   "cell_type": "code",
   "execution_count": null,
   "id": "337aef87",
   "metadata": {},
   "outputs": [],
   "source": [
    "### 1. Function with Default Parameters and Keyword Arguments\n"
   ]
  },
  {
   "cell_type": "code",
   "execution_count": 1,
   "id": "8a30a341",
   "metadata": {},
   "outputs": [],
   "source": [
    "def make_greeting(name, greeting=\"Hello\", punctuation=\"!\"):\n",
    "    return f\"{greeting}, {name}{punctuation}\""
   ]
  },
  {
   "cell_type": "code",
   "execution_count": 2,
   "id": "8af76063",
   "metadata": {},
   "outputs": [
    {
     "name": "stdout",
     "output_type": "stream",
     "text": [
      "Hello, Alice!\n",
      "Hi, Bob!\n",
      "Hello, Charlie.\n",
      "Good morning, Dave...\n"
     ]
    }
   ],
   "source": [
    "# Example usage\n",
    "print(make_greeting(\"Alice\"))  # Uses default greeting and punctuation\n",
    "print(make_greeting(\"Bob\", greeting=\"Hi\"))  # Uses default punctuation\n",
    "print(make_greeting(\"Charlie\", punctuation=\".\"))  # Uses default greeting\n",
    "print(make_greeting(\"Dave\", greeting=\"Good morning\", punctuation=\"...\"))"
   ]
  },
  {
   "cell_type": "code",
   "execution_count": 3,
   "id": "47a164cc",
   "metadata": {},
   "outputs": [],
   "source": [
    "### 2. Arbitrary Keyword Arguments and Arbitrary Number of Arguments\n"
   ]
  },
  {
   "cell_type": "code",
   "execution_count": 4,
   "id": "5c031deb",
   "metadata": {},
   "outputs": [],
   "source": [
    "def build_profile(first, last, *hobbies, **user_info):\n",
    "    profile = {\n",
    "        \"first_name\": first,\n",
    "        \"last_name\": last,\n",
    "        \"hobbies\": hobbies\n",
    "    }\n",
    "    profile.update(user_info)\n",
    "    return profile"
   ]
  },
  {
   "cell_type": "code",
   "execution_count": 5,
   "id": "035b6d3f",
   "metadata": {},
   "outputs": [
    {
     "name": "stdout",
     "output_type": "stream",
     "text": [
      "{'first_name': 'John', 'last_name': 'Doe', 'hobbies': ('Reading', 'Hiking', 'Swimming'), 'age': 30, 'city': 'New York', 'occupation': 'Engineer'}\n"
     ]
    }
   ],
   "source": [
    "# Example usage\n",
    "user_profile = build_profile(\n",
    "    'John', 'Doe', 'Reading', 'Hiking', 'Swimming',\n",
    "    age=30, city='New York', occupation='Engineer'\n",
    ")\n",
    "print(user_profile)"
   ]
  },
  {
   "cell_type": "code",
   "execution_count": 6,
   "id": "f6bc3280",
   "metadata": {},
   "outputs": [],
   "source": [
    "### 3. Function as a Parameter with List Comprehensions and Nested Loops\n"
   ]
  },
  {
   "cell_type": "code",
   "execution_count": 7,
   "id": "caa0859d",
   "metadata": {},
   "outputs": [],
   "source": [
    "def transform_list(data, func):\n",
    "    return [func(item) for item in data]\n",
    "\n",
    "def multiply_by_two(x):\n",
    "    return x * 2"
   ]
  },
  {
   "cell_type": "code",
   "execution_count": 8,
   "id": "765cf1e4",
   "metadata": {},
   "outputs": [
    {
     "name": "stdout",
     "output_type": "stream",
     "text": [
      "[2, 4, 6, 8, 10]\n"
     ]
    }
   ],
   "source": [
    "# Example usage\n",
    "numbers = [1, 2, 3, 4, 5]\n",
    "transformed_numbers = transform_list(numbers, multiply_by_two)\n",
    "print(transformed_numbers)  # Outputs [2, 4, 6, 8, 10]"
   ]
  },
  {
   "cell_type": "code",
   "execution_count": 9,
   "id": "4257a31e",
   "metadata": {},
   "outputs": [],
   "source": [
    "### 4. Complex Data Structures with Nested Loops and Conditionals\n"
   ]
  },
  {
   "cell_type": "code",
   "execution_count": 10,
   "id": "00bee5cd",
   "metadata": {},
   "outputs": [],
   "source": [
    "def summarize_ages_by_category(data):\n",
    "    summary = {\n",
    "        \"Children\": 0,\n",
    "        \"Teens\": 0,\n",
    "        \"Adults\": 0\n",
    "    }\n",
    "    for category, ages in data.items():\n",
    "        for age in ages:\n",
    "            if age < 13:\n",
    "                summary[\"Children\"] += 1\n",
    "            elif 13 <= age < 18:\n",
    "                summary[\"Teens\"] += 1\n",
    "            else:\n",
    "                summary[\"Adults\"] += 1\n",
    "    return summary"
   ]
  },
  {
   "cell_type": "code",
   "execution_count": 11,
   "id": "bc3ed815",
   "metadata": {},
   "outputs": [
    {
     "name": "stdout",
     "output_type": "stream",
     "text": [
      "{'Children': 4, 'Teens': 4, 'Adults': 5}\n"
     ]
    }
   ],
   "source": [
    "# Example usage\n",
    "age_data = {\n",
    "    \"Group1\": [10, 15, 20, 12],\n",
    "    \"Group2\": [25, 30, 14, 13],\n",
    "    \"Group3\": [5, 7, 16, 18, 40]\n",
    "}\n",
    "age_summary = summarize_ages_by_category(age_data)\n",
    "print(age_summary)  # Outputs {'Children': 4, 'Teens': 3, 'Adults': 6}"
   ]
  },
  {
   "cell_type": "code",
   "execution_count": 12,
   "id": "ce59e7f0",
   "metadata": {},
   "outputs": [],
   "source": [
    "### 5. Decorator Function to Measure Execution Time\n"
   ]
  },
  {
   "cell_type": "code",
   "execution_count": 13,
   "id": "a27b9e67",
   "metadata": {},
   "outputs": [
    {
     "name": "stdout",
     "output_type": "stream",
     "text": [
      "Function 'compute_factorial' executed in 0.0000 seconds\n",
      "Function 'compute_factorial' executed in 0.0000 seconds\n",
      "Function 'compute_factorial' executed in 0.0000 seconds\n",
      "Function 'compute_factorial' executed in 0.0000 seconds\n",
      "Function 'compute_factorial' executed in 0.0000 seconds\n",
      "Function 'compute_factorial' executed in 0.0000 seconds\n",
      "Function 'compute_factorial' executed in 0.0000 seconds\n",
      "Function 'compute_factorial' executed in 0.0000 seconds\n",
      "Function 'compute_factorial' executed in 0.0000 seconds\n",
      "Function 'compute_factorial' executed in 0.0000 seconds\n",
      "3628800\n"
     ]
    }
   ],
   "source": [
    "import time\n",
    "\n",
    "def timer(func):\n",
    "    def wrapper(*args, **kwargs):\n",
    "        start_time = time.time()\n",
    "        result = func(*args, **kwargs)\n",
    "        end_time = time.time()\n",
    "        print(f\"Function '{func.__name__}' executed in {end_time - start_time:.4f} seconds\")\n",
    "        return result\n",
    "    return wrapper\n",
    "\n",
    "@timer\n",
    "def compute_factorial(n):\n",
    "    if n == 0 or n == 1:\n",
    "        return 1\n",
    "    else:\n",
    "        return n * compute_factorial(n - 1)\n",
    "\n",
    "# Example usage\n",
    "print(compute_factorial(10))"
   ]
  },
  {
   "cell_type": "code",
   "execution_count": 15,
   "id": "7c4844e7",
   "metadata": {},
   "outputs": [],
   "source": [
    "# 5. Using Container Data Types, Loops, and Nested Conditions\n"
   ]
  },
  {
   "cell_type": "code",
   "execution_count": 16,
   "id": "f81b9149",
   "metadata": {},
   "outputs": [],
   "source": [
    "def filter_and_sum_even(numbers):\n",
    "    even_numbers = [num for num in numbers if num % 2 == 0]\n",
    "    total = sum(even_numbers)\n",
    "    return total\n",
    "\n"
   ]
  },
  {
   "cell_type": "code",
   "execution_count": 17,
   "id": "45a20d9a",
   "metadata": {},
   "outputs": [
    {
     "name": "stdout",
     "output_type": "stream",
     "text": [
      "30\n"
     ]
    }
   ],
   "source": [
    "# Example usage\n",
    "numbers_list = [1, 2, 3, 4, 5, 6, 7, 8, 9, 10]\n",
    "result = filter_and_sum_even(numbers_list)\n",
    "print(result)  # Outputs 30"
   ]
  },
  {
   "cell_type": "code",
   "execution_count": 18,
   "id": "7330e442",
   "metadata": {},
   "outputs": [],
   "source": [
    "def categorize_ages(ages):\n",
    "    age_categories = {\n",
    "        \"Child\": [],\n",
    "        \"Teen\": [],\n",
    "        \"Adult\": []\n",
    "    }\n",
    "    for age in ages:\n",
    "        if age < 13:\n",
    "            age_categories[\"Child\"].append(age)\n",
    "        elif 13 <= age < 18:\n",
    "            age_categories[\"Teen\"].append(age)\n",
    "        else:\n",
    "            age_categories[\"Adult\"].append(age)\n",
    "    return age_categories\n",
    "\n"
   ]
  },
  {
   "cell_type": "code",
   "execution_count": 19,
   "id": "4f75c3b4",
   "metadata": {},
   "outputs": [
    {
     "name": "stdout",
     "output_type": "stream",
     "text": [
      "{'Child': [3, 10, 12, 9], 'Teen': [15, 17], 'Adult': [18, 20, 35]}\n"
     ]
    }
   ],
   "source": [
    "# Example usage\n",
    "ages_list = [3, 10, 15, 18, 20, 35, 12, 17, 9]\n",
    "categorized_ages = categorize_ages(ages_list)\n",
    "print(categorized_ages)"
   ]
  },
  {
   "cell_type": "code",
   "execution_count": null,
   "id": "f67faa2e",
   "metadata": {},
   "outputs": [],
   "source": []
  }
 ],
 "metadata": {
  "kernelspec": {
   "display_name": "Python 3 (ipykernel)",
   "language": "python",
   "name": "python3"
  },
  "language_info": {
   "codemirror_mode": {
    "name": "ipython",
    "version": 3
   },
   "file_extension": ".py",
   "mimetype": "text/x-python",
   "name": "python",
   "nbconvert_exporter": "python",
   "pygments_lexer": "ipython3",
   "version": "3.10.11"
  }
 },
 "nbformat": 4,
 "nbformat_minor": 5
}
