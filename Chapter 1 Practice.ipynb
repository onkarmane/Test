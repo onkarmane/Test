{
 "cells": [
  {
   "cell_type": "markdown",
   "id": "46b01189",
   "metadata": {},
   "source": [
    "# Practice Problems"
   ]
  },
  {
   "cell_type": "markdown",
   "id": "dacf011f",
   "metadata": {},
   "source": [
    "#### 1. Print Statements\n",
    "\n",
    "**1.1 Using `print(\" \", variable)`**\n",
    "\n",
    "- **Example**: Print a variable with a message.\n"
   ]
  },
  {
   "cell_type": "code",
   "execution_count": 2,
   "id": "8c3843ce",
   "metadata": {},
   "outputs": [
    {
     "name": "stdout",
     "output_type": "stream",
     "text": [
      "Student Name: Amit Kumar\n"
     ]
    }
   ],
   "source": [
    "\n",
    "student_name = \"Amit Kumar\"\n",
    "print(\"Student Name:\", student_name)\n"
   ]
  },
  {
   "cell_type": "markdown",
   "id": "021fe017",
   "metadata": {},
   "source": [
    " **Practice**: Print the GPA of a student.\n"
   ]
  },
  {
   "cell_type": "code",
   "execution_count": 3,
   "id": "664196d6",
   "metadata": {},
   "outputs": [
    {
     "name": "stdout",
     "output_type": "stream",
     "text": [
      "GPA: 3.2\n"
     ]
    }
   ],
   "source": [
    "\n",
    "gpa = 3.20\n",
    "print(\"GPA:\", gpa)\n"
   ]
  },
  {
   "cell_type": "markdown",
   "id": "d0fbb4d1",
   "metadata": {},
   "source": [
    "**1.2 Using `print(\"\".format)`**\n",
    "\n",
    "- **Example**: Print using `.format` method.\n"
   ]
  },
  {
   "cell_type": "code",
   "execution_count": 4,
   "id": "04c9e64c",
   "metadata": {},
   "outputs": [
    {
     "name": "stdout",
     "output_type": "stream",
     "text": [
      "Student Name: Rajesh Singh has Grade: B\n"
     ]
    }
   ],
   "source": [
    "\n",
    "student_name = \"Rajesh Singh\"\n",
    "grade = \"B\"\n",
    "print(\"Student Name: {} has Grade: {}\".format(student_name, grade))\n"
   ]
  },
  {
   "cell_type": "markdown",
   "id": "92760a16",
   "metadata": {},
   "source": [
    "  **Practice**: Print the student ID and their enrollment date using `.format`.\n"
   ]
  },
  {
   "cell_type": "code",
   "execution_count": 5,
   "id": "b69ce322",
   "metadata": {},
   "outputs": [
    {
     "name": "stdout",
     "output_type": "stream",
     "text": [
      "Student ID: S003 enrolled on 2021-08-03\n"
     ]
    }
   ],
   "source": [
    "\n",
    "  \n",
    "student_id = \"S003\"\n",
    "enrollment_date = \"2021-08-03\"\n",
    "print(\"Student ID: {} enrolled on {}\".format(student_id, enrollment_date))\n"
   ]
  },
  {
   "cell_type": "markdown",
   "id": "5f476b9f",
   "metadata": {},
   "source": [
    "**1.3 Using `print(\"\", end=\"\")`**\n",
    "\n",
    "- **Example**: Print on the same line using `end`.\n"
   ]
  },
  {
   "cell_type": "code",
   "execution_count": 6,
   "id": "43b85723",
   "metadata": {},
   "outputs": [
    {
     "name": "stdout",
     "output_type": "stream",
     "text": [
      "Hello, World!\n"
     ]
    }
   ],
   "source": [
    "\n",
    "  \n",
    "print(\"Hello,\", end=\" \")\n",
    "print(\"World!\")\n"
   ]
  },
  {
   "cell_type": "markdown",
   "id": "e264ffd5",
   "metadata": {},
   "source": [
    "  **Practice**: Print the student's name and GPA on the same line.\n"
   ]
  },
  {
   "cell_type": "code",
   "execution_count": 7,
   "id": "6a646ef8",
   "metadata": {},
   "outputs": [
    {
     "name": "stdout",
     "output_type": "stream",
     "text": [
      "Student Name: Sunil Joshi, GPA: 3.16\n"
     ]
    }
   ],
   "source": [
    "student_name = \"Sunil Joshi\"\n",
    "gpa = 3.16\n",
    "print(\"Student Name:\", student_name, end=\", \")\n",
    "print(\"GPA:\", gpa)\n"
   ]
  },
  {
   "cell_type": "markdown",
   "id": "a8cafa17",
   "metadata": {},
   "source": [
    "\n",
    "**1.4 Using f-strings**\n",
    "\n",
    "- **Example**: Print using f-strings for better readability.\n"
   ]
  },
  {
   "cell_type": "code",
   "execution_count": 8,
   "id": "df00137a",
   "metadata": {},
   "outputs": [
    {
     "name": "stdout",
     "output_type": "stream",
     "text": [
      "Student Name: Bob Brown is from US\n"
     ]
    }
   ],
   "source": [
    "student_name = \"Bob Brown\"\n",
    "country = \"US\"\n",
    "print(f\"Student Name: {student_name} is from {country}\")\n"
   ]
  },
  {
   "cell_type": "markdown",
   "id": "92139661",
   "metadata": {},
   "source": [
    "  **Practice**: Print the student's email and phone number using f-strings.\n"
   ]
  },
  {
   "cell_type": "code",
   "execution_count": 9,
   "id": "abf5b733",
   "metadata": {},
   "outputs": [
    {
     "name": "stdout",
     "output_type": "stream",
     "text": [
      "Email: bob@example.com, Phone Number: 252291\n"
     ]
    }
   ],
   "source": [
    "email = \"bob@example.com\"\n",
    "phone_number = \"252291\"\n",
    "print(f\"Email: {email}, Phone Number: {phone_number}\")\n"
   ]
  },
  {
   "cell_type": "code",
   "execution_count": 10,
   "id": "06ae166a",
   "metadata": {},
   "outputs": [],
   "source": [
    "# ----------------------------XXXXXXXXXXXXXXXXXX-------------------"
   ]
  },
  {
   "cell_type": "markdown",
   "id": "808c0e44",
   "metadata": {},
   "source": [
    "#### 2. Mathematical Operators\n",
    "\n",
    "- **Example**: Perform basic arithmetic operations."
   ]
  },
  {
   "cell_type": "code",
   "execution_count": 11,
   "id": "6c8c4038",
   "metadata": {},
   "outputs": [
    {
     "name": "stdout",
     "output_type": "stream",
     "text": [
      "Addition: 15\n",
      "Subtraction: 5\n",
      "Multiplication: 50\n",
      "Division: 2.0\n"
     ]
    }
   ],
   "source": [
    "  \n",
    "a = 10\n",
    "b = 5\n",
    "print(\"Addition:\", a + b)         # Output: 15\n",
    "print(\"Subtraction:\", a - b)      # Output: 5\n",
    "print(\"Multiplication:\", a * b)   # Output: 50\n",
    "print(\"Division:\", a / b)         # Output: 2.0\n",
    "  "
   ]
  },
  {
   "cell_type": "markdown",
   "id": "adcf6578",
   "metadata": {},
   "source": [
    "  **Practice**: Calculate and print the sum and product of a student's age and GPA.\n"
   ]
  },
  {
   "cell_type": "code",
   "execution_count": 12,
   "id": "d51c7c79",
   "metadata": {},
   "outputs": [
    {
     "name": "stdout",
     "output_type": "stream",
     "text": [
      "Sum: 23.5\n",
      "Product: 52.5\n"
     ]
    }
   ],
   "source": [
    "\n",
    "age = 21\n",
    "gpa = 2.5\n",
    "print(\"Sum:\", age + gpa)\n",
    "print(\"Product:\", age * gpa)\n"
   ]
  },
  {
   "cell_type": "markdown",
   "id": "98ab2038",
   "metadata": {},
   "source": [
    "#### 3. Comparison Operators\n",
    "\n",
    "- **Example**: Compare two values.\n"
   ]
  },
  {
   "cell_type": "code",
   "execution_count": 13,
   "id": "93294644",
   "metadata": {},
   "outputs": [
    {
     "name": "stdout",
     "output_type": "stream",
     "text": [
      "Is Amit older than Rajesh? True\n"
     ]
    }
   ],
   "source": [
    "age_amit = 21\n",
    "age_rajesh = 20\n",
    "print(\"Is Amit older than Rajesh?\", age_amit > age_rajesh)  # Output: True\n"
   ]
  },
  {
   "cell_type": "markdown",
   "id": "5e42df5f",
   "metadata": {},
   "source": [
    "  **Practice**: Compare the GPAs of two students.\n"
   ]
  },
  {
   "cell_type": "code",
   "execution_count": 14,
   "id": "1c6f4aa4",
   "metadata": {},
   "outputs": [
    {
     "name": "stdout",
     "output_type": "stream",
     "text": [
      "Does Sunil have a higher GPA than Bob? True\n"
     ]
    }
   ],
   "source": [
    "gpa_sunil = 3.16\n",
    "gpa_bob = 3.12\n",
    "print(\"Does Sunil have a higher GPA than Bob?\", gpa_sunil > gpa_bob)\n"
   ]
  },
  {
   "cell_type": "markdown",
   "id": "61f70485",
   "metadata": {},
   "source": [
    "#### 4. Logical Operators\n",
    "\n",
    "- **Example**: Combine conditions using logical operators."
   ]
  },
  {
   "cell_type": "code",
   "execution_count": 15,
   "id": "eb30b621",
   "metadata": {},
   "outputs": [
    {
     "name": "stdout",
     "output_type": "stream",
     "text": [
      "Has a GPA over 3.0 and graduated? True\n"
     ]
    }
   ],
   "source": [
    "gpa = 3.20\n",
    "graduated = True\n",
    "print(\"Has a GPA over 3.0 and graduated?\", gpa > 3.0 and graduated)  # Output: True\n",
    "\n"
   ]
  },
  {
   "cell_type": "markdown",
   "id": "1a37d396",
   "metadata": {},
   "source": [
    "  **Practice**: Check if a student has a GPA below 3.0 or is not graduated.\n"
   ]
  },
  {
   "cell_type": "code",
   "execution_count": 16,
   "id": "d5c17c3e",
   "metadata": {},
   "outputs": [
    {
     "name": "stdout",
     "output_type": "stream",
     "text": [
      "Has a GPA below 3.0 or not graduated? True\n"
     ]
    }
   ],
   "source": [
    "gpa = 2.50\n",
    "graduated = False\n",
    "print(\"Has a GPA below 3.0 or not graduated?\", gpa < 3.0 or not graduated)\n",
    "\n"
   ]
  },
  {
   "cell_type": "markdown",
   "id": "e0b08dd3",
   "metadata": {},
   "source": [
    "### Summary of Practice Problems\n",
    "\n",
    "1. **Print Statements**\n",
    "   - Print variable using `print(\" \", variable)`.\n",
    "   - Print using `.format`.\n",
    "   - Print using `end=\"\"`.\n",
    "   - Print using f-strings.\n",
    "\n",
    "2. **Mathematical Operators**\n",
    "   - Perform and print results of addition, subtraction, multiplication, and division.\n",
    "\n",
    "3. **Comparison Operators**\n",
    "   - Compare ages or GPAs and print the results.\n",
    "\n",
    "4. **Logical Operators**\n",
    "   - Combine conditions using `and` and `or` operators and print the results.\n",
    "\n",
    "These practice problems will help you get comfortable with basic Python operations and printing techniques."
   ]
  },
  {
   "cell_type": "code",
   "execution_count": null,
   "id": "f6cb869e",
   "metadata": {},
   "outputs": [],
   "source": []
  },
  {
   "cell_type": "code",
   "execution_count": null,
   "id": "4357d966",
   "metadata": {},
   "outputs": [],
   "source": []
  }
 ],
 "metadata": {
  "kernelspec": {
   "display_name": "Python 3 (ipykernel)",
   "language": "python",
   "name": "python3"
  },
  "language_info": {
   "codemirror_mode": {
    "name": "ipython",
    "version": 3
   },
   "file_extension": ".py",
   "mimetype": "text/x-python",
   "name": "python",
   "nbconvert_exporter": "python",
   "pygments_lexer": "ipython3",
   "version": "3.10.11"
  }
 },
 "nbformat": 4,
 "nbformat_minor": 5
}
