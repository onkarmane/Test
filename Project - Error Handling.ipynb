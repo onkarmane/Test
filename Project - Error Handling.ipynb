{
 "cells": [
  {
   "cell_type": "markdown",
   "id": "aee2e510",
   "metadata": {},
   "source": [
    "### Simple Project: Student Management System\n",
    "\n",
    "This project demonstrates how to use classes, modules, data structures, and loops for error handling in Python. We'll create a student management system where we can add, update, and display student information.\n",
    "\n",
    "#### Project Structure\n",
    "\n",
    "1. `student.py` - This module will define the `Student` class.\n",
    "2. `student_manager.py` - This module will define the `StudentManager` class to handle student operations.\n",
    "3. `main.py` - This script will be the entry point to the project and will use the functionalities defined in the modules.\n"
   ]
  },
  {
   "cell_type": "markdown",
   "id": "19587307",
   "metadata": {},
   "source": [
    "#### 1. `student.py`\n",
    "\n",
    "This module defines the `Student` class, which holds student information."
   ]
  },
  {
   "cell_type": "code",
   "execution_count": null,
   "id": "c5f2762b",
   "metadata": {},
   "outputs": [],
   "source": [
    "# student.py\n",
    "\n",
    "class Student:\n",
    "    def __init__(self, student_id, name, age, grade, gpa):\n",
    "        self.student_id = student_id\n",
    "        self.name = name\n",
    "        self.age = age\n",
    "        self.grade = grade\n",
    "        self.gpa = gpa\n",
    "\n",
    "    def __str__(self):\n",
    "        return f\"ID: {self.student_id}, Name: {self.name}, Age: {self.age}, Grade: {self.grade}, GPA: {self.gpa}\""
   ]
  },
  {
   "cell_type": "markdown",
   "id": "9c59e80f",
   "metadata": {},
   "source": [
    "#### 2. `student_manager.py`\n",
    "\n",
    "This module defines the `StudentManager` class, which manages student operations like adding, updating, and displaying student information.\n"
   ]
  },
  {
   "cell_type": "code",
   "execution_count": null,
   "id": "e7eb3065",
   "metadata": {},
   "outputs": [],
   "source": [
    "# student_manager.py\n",
    "import logging\n",
    "from student import Student\n",
    "\n",
    "class StudentManager:\n",
    "    def __init__(self):\n",
    "        self.students = {}\n",
    "\n",
    "    def add_student(self, student_id, name, age, grade, gpa):\n",
    "        if student_id in self.students:\n",
    "            raise ValueError(\"Student ID already exists.\")\n",
    "        new_student = Student(student_id, name, age, grade, gpa)\n",
    "        self.students[student_id] = new_student\n",
    "        print(f\"Student {name} added successfully.\")\n",
    "#         logging.info(f\"Student {name} added successfully.\")\n",
    "\n",
    "    def update_student_gpa(self, student_id, new_gpa):\n",
    "        if student_id not in self.students:\n",
    "            raise ValueError(\"Student ID does not exist.\")\n",
    "        self.students[student_id].gpa = new_gpa\n",
    "        print(f\"Student {self.students[student_id].name}'s GPA updated to {new_gpa}.\")\n",
    "#         logging.info(f\"Student {self.students[student_id].name}'s GPA updated to {new_gpa}.\")\n",
    "\n",
    "    def display_all_students(self):\n",
    "        if not self.students:\n",
    "            print(\"No students available.\")\n",
    "        for student in self.students.values():\n",
    "            print(student)\n",
    "\n",
    "    def get_student(self, student_id):\n",
    "        if student_id not in self.students:\n",
    "            raise ValueError(\"Student ID does not exist.\")\n",
    "        return self.students[student_id]"
   ]
  },
  {
   "cell_type": "markdown",
   "id": "18bb1362",
   "metadata": {},
   "source": [
    "#### 3. `main.py`\n",
    "\n",
    "This script will interact with the user, allowing them to add, update, and display students.\n"
   ]
  },
  {
   "cell_type": "code",
   "execution_count": null,
   "id": "fda5f4aa",
   "metadata": {},
   "outputs": [],
   "source": [
    "# main.py\n",
    "\n",
    "from student_manager import StudentManager\n",
    "\n",
    "def main():\n",
    "    manager = StudentManager()\n",
    "    logging.debug(\"Instance \")\n",
    "\n",
    "\n",
    "    while True:\n",
    "        print(\"\\n1. Add Student\")\n",
    "        print(\"2. Update Student GPA\")\n",
    "        print(\"3. Display All Students\")\n",
    "        print(\"4. Get Student Info\")\n",
    "        print(\"5. Exit\")\n",
    "        choice = input(\"Enter your choice: \")\n",
    "\n",
    "        if choice == '1':\n",
    "            student_id = input(\"Enter student ID: \")\n",
    "            name = input(\"Enter student name: \")\n",
    "            age = int(input(\"Enter student age: \"))\n",
    "            grade = input(\"Enter student grade: \")\n",
    "            gpa = float(input(\"Enter student GPA: \"))\n",
    "            try:\n",
    "                manager.add_student(student_id, name, age, grade, gpa)\n",
    "            except ValueError as e:\n",
    "                print(e)\n",
    "        \n",
    "        elif choice == '2':\n",
    "            student_id = input(\"Enter student ID: \")\n",
    "            new_gpa = float(input(\"Enter new GPA: \"))\n",
    "            try:\n",
    "                manager.update_student_gpa(student_id, new_gpa)\n",
    "            except ValueError as e:\n",
    "                print(e)\n",
    "        \n",
    "        elif choice == '3':\n",
    "            manager.display_all_students()\n",
    "        \n",
    "        elif choice == '4':\n",
    "            student_id = input(\"Enter student ID: \")\n",
    "            try:\n",
    "                student = manager.get_student(student_id)\n",
    "                print(student)\n",
    "            except ValueError as e:\n",
    "                print(e)\n",
    "        \n",
    "        elif choice == '5':\n",
    "            logging.info(\"Exiting the program.\")\n",
    "            break\n",
    "\n",
    "        else:\n",
    "            print(\"Invalid choice. Please try again.\")\n",
    "\n",
    "if __name__ == \"__main__\":\n",
    "    main()"
   ]
  },
  {
   "cell_type": "markdown",
   "id": "ae529ef0",
   "metadata": {},
   "source": [
    "### Explanation\n",
    "\n",
    "1. **Class Definitions**:\n",
    "   - `Student` class in `student.py` holds individual student information and provides a string representation method (`__str__`).\n",
    "   - `StudentManager` class in `student_manager.py` manages a collection of `Student` objects and provides methods to add, update, and display students.\n",
    "\n",
    "2. **Error Handling**:\n",
    "   - In `StudentManager`, methods use `raise ValueError` to handle errors such as duplicate student IDs or non-existing student IDs.\n",
    "   - In `main.py`, these exceptions are caught using `try-except` blocks to provide user-friendly error messages.\n",
    "\n",
    "3. **Loops and Conditionals**:\n",
    "   - The `while True` loop in `main.py` keeps the program running until the user chooses to exit.\n",
    "   - `if-else` statements handle user choices to call appropriate methods from `StudentManager`.\n",
    "\n",
    "4. **Modules and Imports**:\n",
    "   - The project demonstrates how to split functionality across multiple files (`student.py`, `student_manager.py`) and import them into the main script (`main.py`).\n",
    "\n",
    "This project is an intermediate-level example that shows how to structure a Python application using classes, modules, and error handling, while also making use of basic data structures and control flow constructs."
   ]
  },
  {
   "cell_type": "code",
   "execution_count": null,
   "id": "1b087ea8",
   "metadata": {},
   "outputs": [],
   "source": []
  }
 ],
 "metadata": {
  "kernelspec": {
   "display_name": "Python 3 (ipykernel)",
   "language": "python",
   "name": "python3"
  },
  "language_info": {
   "codemirror_mode": {
    "name": "ipython",
    "version": 3
   },
   "file_extension": ".py",
   "mimetype": "text/x-python",
   "name": "python",
   "nbconvert_exporter": "python",
   "pygments_lexer": "ipython3",
   "version": "3.10.11"
  }
 },
 "nbformat": 4,
 "nbformat_minor": 5
}
